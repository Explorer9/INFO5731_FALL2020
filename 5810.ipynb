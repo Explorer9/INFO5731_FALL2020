{
  "nbformat": 4,
  "nbformat_minor": 0,
  "metadata": {
    "colab": {
      "name": "5810.ipynb",
      "provenance": [],
      "authorship_tag": "ABX9TyNR+53cebXfSjHxMeuSg2BG",
      "include_colab_link": true
    },
    "kernelspec": {
      "name": "python3",
      "display_name": "Python 3"
    }
  },
  "cells": [
    {
      "cell_type": "markdown",
      "metadata": {
        "id": "view-in-github",
        "colab_type": "text"
      },
      "source": [
        "<a href=\"https://colab.research.google.com/github/Explorer9/INFO5731_FALL2020/blob/master/5810.ipynb\" target=\"_parent\"><img src=\"https://colab.research.google.com/assets/colab-badge.svg\" alt=\"Open In Colab\"/></a>"
      ]
    },
    {
      "cell_type": "code",
      "metadata": {
        "id": "y2vVN3IRcyw3"
      },
      "source": [
        "!pip install tweepy"
      ],
      "execution_count": null,
      "outputs": []
    },
    {
      "cell_type": "code",
      "metadata": {
        "id": "BUY8XSBOLJf2"
      },
      "source": [
        "import tweepy\n",
        "import time\n",
        "import pandas as pd\n",
        "consumer_key = \"v6DkFAg34mL5bnQa6HgUycOoZ\"\n",
        "consumer_secret = \"KNqZqEa2FWx0cnLZ7aLwqo01Q12oYSxeb3khK21lbNibULQAEn\"\n",
        "access_token = \"3992308705-oEgS72kYOAPPr7mLBVmDTXWzKgvIe50VEwJNm6P\"\n",
        "access_token_secret = \"o1lILiDx3MhFO47Es91Xjt2zxwPH7S04Hml2nvqbfb8i0\"\n",
        "auth = tweepy.OAuthHandler(consumer_key, consumer_secret)\n",
        "auth.set_access_token(access_token, access_token_secret)\n",
        "api = tweepy.API(auth,wait_on_rate_limit=True)"
      ],
      "execution_count": 8,
      "outputs": []
    },
    {
      "cell_type": "code",
      "metadata": {
        "colab": {
          "base_uri": "https://localhost:8080/"
        },
        "id": "aJsf0bEzNoks",
        "outputId": "c2bc3a08-8c2a-466a-9428-119c93cd2dcf"
      },
      "source": [
        "text_query = 'covid vaccine'\n",
        "count = 6000\n",
        "try:\n",
        " # Creation of query method using parameters\n",
        " tweets = tweepy.Cursor(api.search,q=text_query).items(count)\n",
        " \n",
        " # Pulling information from tweets iterable object\n",
        " tweets_list = [[tweet.created_at, tweet.id, tweet.text] for tweet in tweets]\n",
        " \n",
        " # Creation of dataframe from tweets list\n",
        " # Add or remove columns as you remove tweet information\n",
        " covid_vaccine = pd.DataFrame(tweets_list)\n",
        " \n",
        "except BaseException as e:\n",
        "    print('failed on_status,',str(e))\n",
        "    time.sleep(3)\n"
      ],
      "execution_count": 22,
      "outputs": [
        {
          "output_type": "stream",
          "text": [
            "failed on_status, name 'pd' is not defined\n"
          ],
          "name": "stdout"
        }
      ]
    },
    {
      "cell_type": "code",
      "metadata": {
        "id": "PhM6L6TdNz0T"
      },
      "source": [
        "import pandas as pd"
      ],
      "execution_count": 24,
      "outputs": []
    },
    {
      "cell_type": "code",
      "metadata": {
        "colab": {
          "base_uri": "https://localhost:8080/",
          "height": 227
        },
        "id": "vRGN9q4FOgOT",
        "outputId": "4b758022-7fb4-46c0-a6ec-0f83a996107e"
      },
      "source": [
        "covid_vaccine = pd.DataFrame(tweets_list)\n",
        "covid_vaccine.head(6)"
      ],
      "execution_count": 59,
      "outputs": [
        {
          "output_type": "execute_result",
          "data": {
            "text/html": [
              "<div>\n",
              "<style scoped>\n",
              "    .dataframe tbody tr th:only-of-type {\n",
              "        vertical-align: middle;\n",
              "    }\n",
              "\n",
              "    .dataframe tbody tr th {\n",
              "        vertical-align: top;\n",
              "    }\n",
              "\n",
              "    .dataframe thead th {\n",
              "        text-align: right;\n",
              "    }\n",
              "</style>\n",
              "<table border=\"1\" class=\"dataframe\">\n",
              "  <thead>\n",
              "    <tr style=\"text-align: right;\">\n",
              "      <th></th>\n",
              "      <th>0</th>\n",
              "      <th>1</th>\n",
              "      <th>2</th>\n",
              "    </tr>\n",
              "  </thead>\n",
              "  <tbody>\n",
              "    <tr>\n",
              "      <th>0</th>\n",
              "      <td>2020-12-08 07:31:23</td>\n",
              "      <td>1336211758520918016</td>\n",
              "      <td>@DeepStateDude At this moment in time, I do no...</td>\n",
              "    </tr>\n",
              "    <tr>\n",
              "      <th>1</th>\n",
              "      <td>2020-12-08 07:31:23</td>\n",
              "      <td>1336211757648449536</td>\n",
              "      <td>RT @gowondalupe: This what y'all think the cov...</td>\n",
              "    </tr>\n",
              "    <tr>\n",
              "      <th>2</th>\n",
              "      <td>2020-12-08 07:31:23</td>\n",
              "      <td>1336211756771921921</td>\n",
              "      <td>Britain begins Pfizer vaccine shots, launching...</td>\n",
              "    </tr>\n",
              "    <tr>\n",
              "      <th>3</th>\n",
              "      <td>2020-12-08 07:31:22</td>\n",
              "      <td>1336211755672997889</td>\n",
              "      <td>RT @Love_Nature20: Bill Gates Admits COVID Vac...</td>\n",
              "    </tr>\n",
              "    <tr>\n",
              "      <th>4</th>\n",
              "      <td>2020-12-08 07:31:22</td>\n",
              "      <td>1336211754179760128</td>\n",
              "      <td>RT @W7VOA: US officials passed when @pfizer of...</td>\n",
              "    </tr>\n",
              "    <tr>\n",
              "      <th>5</th>\n",
              "      <td>2020-12-08 07:31:22</td>\n",
              "      <td>1336211753093500928</td>\n",
              "      <td>RT @islamphobiacow: I don’t understand how thi...</td>\n",
              "    </tr>\n",
              "  </tbody>\n",
              "</table>\n",
              "</div>"
            ],
            "text/plain": [
              "                    0  ...                                                  2\n",
              "0 2020-12-08 07:31:23  ...  @DeepStateDude At this moment in time, I do no...\n",
              "1 2020-12-08 07:31:23  ...  RT @gowondalupe: This what y'all think the cov...\n",
              "2 2020-12-08 07:31:23  ...  Britain begins Pfizer vaccine shots, launching...\n",
              "3 2020-12-08 07:31:22  ...  RT @Love_Nature20: Bill Gates Admits COVID Vac...\n",
              "4 2020-12-08 07:31:22  ...  RT @W7VOA: US officials passed when @pfizer of...\n",
              "5 2020-12-08 07:31:22  ...  RT @islamphobiacow: I don’t understand how thi...\n",
              "\n",
              "[6 rows x 3 columns]"
            ]
          },
          "metadata": {
            "tags": []
          },
          "execution_count": 59
        }
      ]
    },
    {
      "cell_type": "code",
      "metadata": {
        "colab": {
          "base_uri": "https://localhost:8080/",
          "height": 227
        },
        "id": "RsO3qyVLYnx4",
        "outputId": "6eeb9489-e857-4586-c2dd-39abe92a69fe"
      },
      "source": [
        "covid_vaccine.to_csv('covid_vaccine.csv')\n",
        "covid_vaccine=covid_vaccine.rename(columns={0:'Date&time',1:'Twitter_id',2:'tweets'})\n",
        "covid_vaccine.head(6)"
      ],
      "execution_count": 61,
      "outputs": [
        {
          "output_type": "execute_result",
          "data": {
            "text/html": [
              "<div>\n",
              "<style scoped>\n",
              "    .dataframe tbody tr th:only-of-type {\n",
              "        vertical-align: middle;\n",
              "    }\n",
              "\n",
              "    .dataframe tbody tr th {\n",
              "        vertical-align: top;\n",
              "    }\n",
              "\n",
              "    .dataframe thead th {\n",
              "        text-align: right;\n",
              "    }\n",
              "</style>\n",
              "<table border=\"1\" class=\"dataframe\">\n",
              "  <thead>\n",
              "    <tr style=\"text-align: right;\">\n",
              "      <th></th>\n",
              "      <th>Date&amp;time</th>\n",
              "      <th>Twitter_id</th>\n",
              "      <th>tweets</th>\n",
              "    </tr>\n",
              "  </thead>\n",
              "  <tbody>\n",
              "    <tr>\n",
              "      <th>0</th>\n",
              "      <td>2020-12-08 07:31:23</td>\n",
              "      <td>1336211758520918016</td>\n",
              "      <td>@DeepStateDude At this moment in time, I do no...</td>\n",
              "    </tr>\n",
              "    <tr>\n",
              "      <th>1</th>\n",
              "      <td>2020-12-08 07:31:23</td>\n",
              "      <td>1336211757648449536</td>\n",
              "      <td>RT @gowondalupe: This what y'all think the cov...</td>\n",
              "    </tr>\n",
              "    <tr>\n",
              "      <th>2</th>\n",
              "      <td>2020-12-08 07:31:23</td>\n",
              "      <td>1336211756771921921</td>\n",
              "      <td>Britain begins Pfizer vaccine shots, launching...</td>\n",
              "    </tr>\n",
              "    <tr>\n",
              "      <th>3</th>\n",
              "      <td>2020-12-08 07:31:22</td>\n",
              "      <td>1336211755672997889</td>\n",
              "      <td>RT @Love_Nature20: Bill Gates Admits COVID Vac...</td>\n",
              "    </tr>\n",
              "    <tr>\n",
              "      <th>4</th>\n",
              "      <td>2020-12-08 07:31:22</td>\n",
              "      <td>1336211754179760128</td>\n",
              "      <td>RT @W7VOA: US officials passed when @pfizer of...</td>\n",
              "    </tr>\n",
              "    <tr>\n",
              "      <th>5</th>\n",
              "      <td>2020-12-08 07:31:22</td>\n",
              "      <td>1336211753093500928</td>\n",
              "      <td>RT @islamphobiacow: I don’t understand how thi...</td>\n",
              "    </tr>\n",
              "  </tbody>\n",
              "</table>\n",
              "</div>"
            ],
            "text/plain": [
              "            Date&time  ...                                             tweets\n",
              "0 2020-12-08 07:31:23  ...  @DeepStateDude At this moment in time, I do no...\n",
              "1 2020-12-08 07:31:23  ...  RT @gowondalupe: This what y'all think the cov...\n",
              "2 2020-12-08 07:31:23  ...  Britain begins Pfizer vaccine shots, launching...\n",
              "3 2020-12-08 07:31:22  ...  RT @Love_Nature20: Bill Gates Admits COVID Vac...\n",
              "4 2020-12-08 07:31:22  ...  RT @W7VOA: US officials passed when @pfizer of...\n",
              "5 2020-12-08 07:31:22  ...  RT @islamphobiacow: I don’t understand how thi...\n",
              "\n",
              "[6 rows x 3 columns]"
            ]
          },
          "metadata": {
            "tags": []
          },
          "execution_count": 61
        }
      ]
    },
    {
      "cell_type": "code",
      "metadata": {
        "colab": {
          "base_uri": "https://localhost:8080/",
          "height": 227
        },
        "id": "Qf7xqD8MYsHQ",
        "outputId": "9cba2851-c2fc-45a2-814c-6d99c0ea9128"
      },
      "source": [
        "covid_vaccine['cleaned_text']=covid_vaccine['tweets'].str.replace('(@\\w+.*?)',\"\")\n",
        "covid_vaccine.head(6)"
      ],
      "execution_count": 62,
      "outputs": [
        {
          "output_type": "execute_result",
          "data": {
            "text/html": [
              "<div>\n",
              "<style scoped>\n",
              "    .dataframe tbody tr th:only-of-type {\n",
              "        vertical-align: middle;\n",
              "    }\n",
              "\n",
              "    .dataframe tbody tr th {\n",
              "        vertical-align: top;\n",
              "    }\n",
              "\n",
              "    .dataframe thead th {\n",
              "        text-align: right;\n",
              "    }\n",
              "</style>\n",
              "<table border=\"1\" class=\"dataframe\">\n",
              "  <thead>\n",
              "    <tr style=\"text-align: right;\">\n",
              "      <th></th>\n",
              "      <th>Date&amp;time</th>\n",
              "      <th>Twitter_id</th>\n",
              "      <th>tweets</th>\n",
              "      <th>cleaned_text</th>\n",
              "    </tr>\n",
              "  </thead>\n",
              "  <tbody>\n",
              "    <tr>\n",
              "      <th>0</th>\n",
              "      <td>2020-12-08 07:31:23</td>\n",
              "      <td>1336211758520918016</td>\n",
              "      <td>@DeepStateDude At this moment in time, I do no...</td>\n",
              "      <td>At this moment in time, I do not believe the ...</td>\n",
              "    </tr>\n",
              "    <tr>\n",
              "      <th>1</th>\n",
              "      <td>2020-12-08 07:31:23</td>\n",
              "      <td>1336211757648449536</td>\n",
              "      <td>RT @gowondalupe: This what y'all think the cov...</td>\n",
              "      <td>RT : This what y'all think the covid vaccine's...</td>\n",
              "    </tr>\n",
              "    <tr>\n",
              "      <th>2</th>\n",
              "      <td>2020-12-08 07:31:23</td>\n",
              "      <td>1336211756771921921</td>\n",
              "      <td>Britain begins Pfizer vaccine shots, launching...</td>\n",
              "      <td>Britain begins Pfizer vaccine shots, launching...</td>\n",
              "    </tr>\n",
              "    <tr>\n",
              "      <th>3</th>\n",
              "      <td>2020-12-08 07:31:22</td>\n",
              "      <td>1336211755672997889</td>\n",
              "      <td>RT @Love_Nature20: Bill Gates Admits COVID Vac...</td>\n",
              "      <td>RT : Bill Gates Admits COVID Vaccine Changes D...</td>\n",
              "    </tr>\n",
              "    <tr>\n",
              "      <th>4</th>\n",
              "      <td>2020-12-08 07:31:22</td>\n",
              "      <td>1336211754179760128</td>\n",
              "      <td>RT @W7VOA: US officials passed when @pfizer of...</td>\n",
              "      <td>RT : US officials passed when  offered in late...</td>\n",
              "    </tr>\n",
              "    <tr>\n",
              "      <th>5</th>\n",
              "      <td>2020-12-08 07:31:22</td>\n",
              "      <td>1336211753093500928</td>\n",
              "      <td>RT @islamphobiacow: I don’t understand how thi...</td>\n",
              "      <td>RT : I don’t understand how this isn’t a bigge...</td>\n",
              "    </tr>\n",
              "  </tbody>\n",
              "</table>\n",
              "</div>"
            ],
            "text/plain": [
              "            Date&time  ...                                       cleaned_text\n",
              "0 2020-12-08 07:31:23  ...   At this moment in time, I do not believe the ...\n",
              "1 2020-12-08 07:31:23  ...  RT : This what y'all think the covid vaccine's...\n",
              "2 2020-12-08 07:31:23  ...  Britain begins Pfizer vaccine shots, launching...\n",
              "3 2020-12-08 07:31:22  ...  RT : Bill Gates Admits COVID Vaccine Changes D...\n",
              "4 2020-12-08 07:31:22  ...  RT : US officials passed when  offered in late...\n",
              "5 2020-12-08 07:31:22  ...  RT : I don’t understand how this isn’t a bigge...\n",
              "\n",
              "[6 rows x 4 columns]"
            ]
          },
          "metadata": {
            "tags": []
          },
          "execution_count": 62
        }
      ]
    },
    {
      "cell_type": "code",
      "metadata": {
        "colab": {
          "base_uri": "https://localhost:8080/",
          "height": 227
        },
        "id": "hZIpyGCMbJl3",
        "outputId": "cccf0642-4e64-4ea7-d472-383bacc63162"
      },
      "source": [
        "covid_vaccine['cleaned_text']=covid_vaccine['cleaned_text'].str.replace('RT :',\"\")\n",
        "covid_vaccine.head(6)"
      ],
      "execution_count": 63,
      "outputs": [
        {
          "output_type": "execute_result",
          "data": {
            "text/html": [
              "<div>\n",
              "<style scoped>\n",
              "    .dataframe tbody tr th:only-of-type {\n",
              "        vertical-align: middle;\n",
              "    }\n",
              "\n",
              "    .dataframe tbody tr th {\n",
              "        vertical-align: top;\n",
              "    }\n",
              "\n",
              "    .dataframe thead th {\n",
              "        text-align: right;\n",
              "    }\n",
              "</style>\n",
              "<table border=\"1\" class=\"dataframe\">\n",
              "  <thead>\n",
              "    <tr style=\"text-align: right;\">\n",
              "      <th></th>\n",
              "      <th>Date&amp;time</th>\n",
              "      <th>Twitter_id</th>\n",
              "      <th>tweets</th>\n",
              "      <th>cleaned_text</th>\n",
              "    </tr>\n",
              "  </thead>\n",
              "  <tbody>\n",
              "    <tr>\n",
              "      <th>0</th>\n",
              "      <td>2020-12-08 07:31:23</td>\n",
              "      <td>1336211758520918016</td>\n",
              "      <td>@DeepStateDude At this moment in time, I do no...</td>\n",
              "      <td>At this moment in time, I do not believe the ...</td>\n",
              "    </tr>\n",
              "    <tr>\n",
              "      <th>1</th>\n",
              "      <td>2020-12-08 07:31:23</td>\n",
              "      <td>1336211757648449536</td>\n",
              "      <td>RT @gowondalupe: This what y'all think the cov...</td>\n",
              "      <td>This what y'all think the covid vaccine's gon...</td>\n",
              "    </tr>\n",
              "    <tr>\n",
              "      <th>2</th>\n",
              "      <td>2020-12-08 07:31:23</td>\n",
              "      <td>1336211756771921921</td>\n",
              "      <td>Britain begins Pfizer vaccine shots, launching...</td>\n",
              "      <td>Britain begins Pfizer vaccine shots, launching...</td>\n",
              "    </tr>\n",
              "    <tr>\n",
              "      <th>3</th>\n",
              "      <td>2020-12-08 07:31:22</td>\n",
              "      <td>1336211755672997889</td>\n",
              "      <td>RT @Love_Nature20: Bill Gates Admits COVID Vac...</td>\n",
              "      <td>Bill Gates Admits COVID Vaccine Changes DNA, ...</td>\n",
              "    </tr>\n",
              "    <tr>\n",
              "      <th>4</th>\n",
              "      <td>2020-12-08 07:31:22</td>\n",
              "      <td>1336211754179760128</td>\n",
              "      <td>RT @W7VOA: US officials passed when @pfizer of...</td>\n",
              "      <td>US officials passed when  offered in late sum...</td>\n",
              "    </tr>\n",
              "    <tr>\n",
              "      <th>5</th>\n",
              "      <td>2020-12-08 07:31:22</td>\n",
              "      <td>1336211753093500928</td>\n",
              "      <td>RT @islamphobiacow: I don’t understand how thi...</td>\n",
              "      <td>I don’t understand how this isn’t a bigger st...</td>\n",
              "    </tr>\n",
              "  </tbody>\n",
              "</table>\n",
              "</div>"
            ],
            "text/plain": [
              "            Date&time  ...                                       cleaned_text\n",
              "0 2020-12-08 07:31:23  ...   At this moment in time, I do not believe the ...\n",
              "1 2020-12-08 07:31:23  ...   This what y'all think the covid vaccine's gon...\n",
              "2 2020-12-08 07:31:23  ...  Britain begins Pfizer vaccine shots, launching...\n",
              "3 2020-12-08 07:31:22  ...   Bill Gates Admits COVID Vaccine Changes DNA, ...\n",
              "4 2020-12-08 07:31:22  ...   US officials passed when  offered in late sum...\n",
              "5 2020-12-08 07:31:22  ...   I don’t understand how this isn’t a bigger st...\n",
              "\n",
              "[6 rows x 4 columns]"
            ]
          },
          "metadata": {
            "tags": []
          },
          "execution_count": 63
        }
      ]
    },
    {
      "cell_type": "code",
      "metadata": {
        "id": "D4zimFmvdIO9"
      },
      "source": [
        "covid_vaccine.to_csv(\"covid_vaccine.csv\")"
      ],
      "execution_count": 64,
      "outputs": []
    },
    {
      "cell_type": "code",
      "metadata": {
        "id": "mD-QPR0yg_zv"
      },
      "source": [
        "covid_vaccine[\"cleaned_text\"] = covid_vaccine[\"cleaned_text\"].str.replace(r'https?://[^\\s<>\"]+|www\\.[^\\s<>\"]+', \"\")"
      ],
      "execution_count": 73,
      "outputs": []
    },
    {
      "cell_type": "code",
      "metadata": {
        "colab": {
          "base_uri": "https://localhost:8080/",
          "height": 327
        },
        "id": "FL3ypP-ndMYW",
        "outputId": "9b1072d7-566a-4f19-ddc3-c7db923f06a7"
      },
      "source": [
        "covid_vaccine.head(6)"
      ],
      "execution_count": 78,
      "outputs": [
        {
          "output_type": "execute_result",
          "data": {
            "text/html": [
              "<div>\n",
              "<style scoped>\n",
              "    .dataframe tbody tr th:only-of-type {\n",
              "        vertical-align: middle;\n",
              "    }\n",
              "\n",
              "    .dataframe tbody tr th {\n",
              "        vertical-align: top;\n",
              "    }\n",
              "\n",
              "    .dataframe thead th {\n",
              "        text-align: right;\n",
              "    }\n",
              "</style>\n",
              "<table border=\"1\" class=\"dataframe\">\n",
              "  <thead>\n",
              "    <tr style=\"text-align: right;\">\n",
              "      <th></th>\n",
              "      <th>Date&amp;time</th>\n",
              "      <th>Twitter_id</th>\n",
              "      <th>tweets</th>\n",
              "      <th>cleaned_text</th>\n",
              "      <th>col_new</th>\n",
              "    </tr>\n",
              "  </thead>\n",
              "  <tbody>\n",
              "    <tr>\n",
              "      <th>0</th>\n",
              "      <td>2020-12-08 07:31:23</td>\n",
              "      <td>1336211758520918016</td>\n",
              "      <td>@DeepStateDude At this moment in time, I do no...</td>\n",
              "      <td>At this moment in time, I do not believe the ...</td>\n",
              "      <td>At this moment in time, I do not believe the ...</td>\n",
              "    </tr>\n",
              "    <tr>\n",
              "      <th>1</th>\n",
              "      <td>2020-12-08 07:31:23</td>\n",
              "      <td>1336211757648449536</td>\n",
              "      <td>RT @gowondalupe: This what y'all think the cov...</td>\n",
              "      <td>This what y'all think the covid vaccine's gon...</td>\n",
              "      <td>This what y'all think the covid vaccine's gon...</td>\n",
              "    </tr>\n",
              "    <tr>\n",
              "      <th>2</th>\n",
              "      <td>2020-12-08 07:31:23</td>\n",
              "      <td>1336211756771921921</td>\n",
              "      <td>Britain begins Pfizer vaccine shots, launching...</td>\n",
              "      <td>Britain begins Pfizer vaccine shots, launching...</td>\n",
              "      <td>Britain begins Pfizer vaccine shots, launching...</td>\n",
              "    </tr>\n",
              "    <tr>\n",
              "      <th>3</th>\n",
              "      <td>2020-12-08 07:31:22</td>\n",
              "      <td>1336211755672997889</td>\n",
              "      <td>RT @Love_Nature20: Bill Gates Admits COVID Vac...</td>\n",
              "      <td>Bill Gates Admits COVID Vaccine Changes DNA, ...</td>\n",
              "      <td>Bill Gates Admits COVID Vaccine Changes DNA, ...</td>\n",
              "    </tr>\n",
              "    <tr>\n",
              "      <th>4</th>\n",
              "      <td>2020-12-08 07:31:22</td>\n",
              "      <td>1336211754179760128</td>\n",
              "      <td>RT @W7VOA: US officials passed when @pfizer of...</td>\n",
              "      <td>US officials passed when  offered in late sum...</td>\n",
              "      <td>US officials passed when  offered in late sum...</td>\n",
              "    </tr>\n",
              "    <tr>\n",
              "      <th>5</th>\n",
              "      <td>2020-12-08 07:31:22</td>\n",
              "      <td>1336211753093500928</td>\n",
              "      <td>RT @islamphobiacow: I don’t understand how thi...</td>\n",
              "      <td>I don’t understand how this isn’t a bigger st...</td>\n",
              "      <td>I don’t understand how this isn’t a bigger st...</td>\n",
              "    </tr>\n",
              "  </tbody>\n",
              "</table>\n",
              "</div>"
            ],
            "text/plain": [
              "            Date&time  ...                                            col_new\n",
              "0 2020-12-08 07:31:23  ...   At this moment in time, I do not believe the ...\n",
              "1 2020-12-08 07:31:23  ...   This what y'all think the covid vaccine's gon...\n",
              "2 2020-12-08 07:31:23  ...  Britain begins Pfizer vaccine shots, launching...\n",
              "3 2020-12-08 07:31:22  ...   Bill Gates Admits COVID Vaccine Changes DNA, ...\n",
              "4 2020-12-08 07:31:22  ...   US officials passed when  offered in late sum...\n",
              "5 2020-12-08 07:31:22  ...   I don’t understand how this isn’t a bigger st...\n",
              "\n",
              "[6 rows x 5 columns]"
            ]
          },
          "metadata": {
            "tags": []
          },
          "execution_count": 78
        }
      ]
    },
    {
      "cell_type": "code",
      "metadata": {
        "id": "kmCQ2HZpiHbK"
      },
      "source": [
        "covid_vaccine.to_csv('covid_vaccine.csv')"
      ],
      "execution_count": 82,
      "outputs": []
    },
    {
      "cell_type": "code",
      "metadata": {
        "id": "J8csQHSpiKYk"
      },
      "source": [
        ""
      ],
      "execution_count": null,
      "outputs": []
    }
  ]
}