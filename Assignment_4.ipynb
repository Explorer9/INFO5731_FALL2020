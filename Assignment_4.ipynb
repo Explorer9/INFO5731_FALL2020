{
  "nbformat": 4,
  "nbformat_minor": 0,
  "metadata": {
    "colab": {
      "name": "Assignment_4.ipynb",
      "provenance": [],
      "collapsed_sections": [],
      "toc_visible": true,
      "include_colab_link": true
    },
    "kernelspec": {
      "display_name": "Python 3",
      "language": "python",
      "name": "python3"
    },
    "language_info": {
      "codemirror_mode": {
        "name": "ipython",
        "version": 3
      },
      "file_extension": ".py",
      "mimetype": "text/x-python",
      "name": "python",
      "nbconvert_exporter": "python",
      "pygments_lexer": "ipython3",
      "version": "3.7.4"
    }
  },
  "cells": [
    {
      "cell_type": "markdown",
      "metadata": {
        "id": "view-in-github",
        "colab_type": "text"
      },
      "source": [
        "<a href=\"https://colab.research.google.com/github/Explorer9/INFO5731_FALL2020/blob/master/Assignment_4.ipynb\" target=\"_parent\"><img src=\"https://colab.research.google.com/assets/colab-badge.svg\" alt=\"Open In Colab\"/></a>"
      ]
    },
    {
      "cell_type": "code",
      "metadata": {
        "id": "GNSrdAJ3CmIq",
        "colab": {
          "base_uri": "https://localhost:8080/"
        },
        "outputId": "afd5aa3b-0130-4943-dc0b-f616c9cd65c5"
      },
      "source": [
        "from google.colab import drive\n",
        "drive.mount('/content/drive')"
      ],
      "execution_count": 3,
      "outputs": [
        {
          "output_type": "stream",
          "text": [
            "Mounted at /content/drive\n"
          ],
          "name": "stdout"
        }
      ]
    },
    {
      "cell_type": "markdown",
      "metadata": {
        "id": "USSdXHuqnwv9"
      },
      "source": [
        "# **INFO5731 Assignment Four**\n",
        "\n",
        "In this assignment, you are required to conduct topic modeling, sentiment analysis, and regression analysis."
      ]
    },
    {
      "cell_type": "markdown",
      "metadata": {
        "id": "YWxodXh5n4xF"
      },
      "source": [
        "# **Question 1: Topic Modeling**"
      ]
    },
    {
      "cell_type": "markdown",
      "metadata": {
        "id": "TenBkDJ5n95k"
      },
      "source": [
        "(30 points). This question is designed to help you understand topic modeling better as well as how to visualize topic modeling results, aims to collect the human meanings of documents. Based on the yelp review data (only the review text will be used for this question), which can be download from Dropbox: https://www.dropbox.com/s/59hsrk56sfwh9u2/Assignment%20four%20data%20Yelp%20%28question%201%20and%202%29.zip?dl=0, **select two models** and write a python program to **identify the top 20 topics (with 15 words for each topic) in the dataset**. Before answering this question, please review the materials in lesson 8, as well as the introduction of these models by the links provided.\n",
        "\n",
        "(1)   Labeled LDA (LLDA): https://github.com/JoeZJH/Labeled-LDA-Python\n",
        "\n",
        "(2)   Biterm Topic Model (BTM): https://github.com/markoarnauto/biterm\n",
        "\n",
        "(3)   HMM-LDA: https://github.com/dongwookim-ml/python-topic-model\n",
        "\n",
        "(4)   SupervisedLDA: https://github.com/dongwookim-ml/python-topic-model/tree/master/notebook\n",
        "\n",
        "(5)   Relational Topic Model: https://github.com/dongwookim-ml/python-topic-model/tree/master/notebook\n",
        "\n",
        "(6)   LDA2VEC: https://github.com/cemoody/lda2vec\n",
        "\n",
        "(7)   BERTopic: https://github.com/MaartenGr/BERTopic\n",
        "\n",
        "(8)   LDA+BERT Topic Modeling: https://www.kaggle.com/dskswu/topic-modeling-bert-lda\n",
        "\n",
        "(9)   Clustering for Topic models: (paper: https://arxiv.org/abs/2004.14914), (code: https://github.com/adalmia96/Cluster-Analysis)\n",
        "\n",
        "\n",
        "**The following information should be reported:**\n",
        "\n",
        "(1) Top 20 clusters for topic modeling.\n",
        "\n",
        "(2) Summarize and describe the topic for each cluster. \n",
        "\n",
        "(3) Visualize the topic modeling reasults by using pyLDAVis: https://www.machinelearningplus.com/nlp/topic-modeling-visualization-how-to-present-results-lda-models/#14.-pyLDAVis\n"
      ]
    },
    {
      "cell_type": "code",
      "metadata": {
        "id": "PuFPKhC0m1fd"
      },
      "source": [
        "import pandas as pd\n",
        "import json\n",
        "file_name=[]\n",
        "df=pd.DataFrame()\n",
        "reviews=[]\n",
        "ratings=[]\n",
        "path='/content/drive/MyDrive/Assign_4_data_5731/data'\n",
        "import os\n",
        "for root, dirs, files in os.walk(path, topdown=False):\n",
        "  for i in files:\n",
        "    f=open('/content/drive/MyDrive/Assign_4_data_5731/data/'+i,)\n",
        "    data=json.load(f)\n",
        "    print(i)\n",
        "    for j in data:\n",
        "      ratings.append(j['stars'])\n",
        "      reviews.append(j['text'])\n",
        "      "
      ],
      "execution_count": null,
      "outputs": []
    },
    {
      "cell_type": "code",
      "metadata": {
        "id": "WtpwoDGyweEc"
      },
      "source": [
        "df=pd.DataFrame()\n",
        "df['reviews']=reviews\n",
        "df['ratings']=ratings\n",
        "print(\"reviews:\",len(reviews))\n",
        "print(\"ratings\",len(ratings))"
      ],
      "execution_count": null,
      "outputs": []
    },
    {
      "cell_type": "code",
      "metadata": {
        "id": "NR8LJLuWghE9"
      },
      "source": [
        "df.to_csv(\"Data.csv\")"
      ],
      "execution_count": null,
      "outputs": []
    },
    {
      "cell_type": "code",
      "metadata": {
        "colab": {
          "base_uri": "https://localhost:8080/",
          "height": 340
        },
        "id": "LXRwT9YDQNSN",
        "outputId": "0f3662c2-422e-4e12-d37b-dc1f63837be2"
      },
      "source": [
        "df.head(10)"
      ],
      "execution_count": 36,
      "outputs": [
        {
          "output_type": "execute_result",
          "data": {
            "text/html": [
              "<div>\n",
              "<style scoped>\n",
              "    .dataframe tbody tr th:only-of-type {\n",
              "        vertical-align: middle;\n",
              "    }\n",
              "\n",
              "    .dataframe tbody tr th {\n",
              "        vertical-align: top;\n",
              "    }\n",
              "\n",
              "    .dataframe thead th {\n",
              "        text-align: right;\n",
              "    }\n",
              "</style>\n",
              "<table border=\"1\" class=\"dataframe\">\n",
              "  <thead>\n",
              "    <tr style=\"text-align: right;\">\n",
              "      <th></th>\n",
              "      <th>Unnamed: 0</th>\n",
              "      <th>reviews</th>\n",
              "      <th>ratings</th>\n",
              "    </tr>\n",
              "  </thead>\n",
              "  <tbody>\n",
              "    <tr>\n",
              "      <th>352806</th>\n",
              "      <td>352806</td>\n",
              "      <td>It is 32C outside, and I was dreading having t...</td>\n",
              "      <td>5.0</td>\n",
              "    </tr>\n",
              "    <tr>\n",
              "      <th>417824</th>\n",
              "      <td>417824</td>\n",
              "      <td>Stopped in for lunch and was quite pleased. Th...</td>\n",
              "      <td>4.0</td>\n",
              "    </tr>\n",
              "    <tr>\n",
              "      <th>469847</th>\n",
              "      <td>469847</td>\n",
              "      <td>So everyone knows about the W. They are the hi...</td>\n",
              "      <td>4.0</td>\n",
              "    </tr>\n",
              "    <tr>\n",
              "      <th>407746</th>\n",
              "      <td>407746</td>\n",
              "      <td>Aladdin's is one of those gem restaurants wher...</td>\n",
              "      <td>5.0</td>\n",
              "    </tr>\n",
              "    <tr>\n",
              "      <th>469848</th>\n",
              "      <td>469848</td>\n",
              "      <td>I finally made it to this location!  Super clo...</td>\n",
              "      <td>5.0</td>\n",
              "    </tr>\n",
              "    <tr>\n",
              "      <th>494526</th>\n",
              "      <td>494526</td>\n",
              "      <td>Bleh, this store is so grody inside. The price...</td>\n",
              "      <td>1.0</td>\n",
              "    </tr>\n",
              "    <tr>\n",
              "      <th>413659</th>\n",
              "      <td>413659</td>\n",
              "      <td>i have to admit, the interior is pretty nice f...</td>\n",
              "      <td>3.0</td>\n",
              "    </tr>\n",
              "    <tr>\n",
              "      <th>243752</th>\n",
              "      <td>243752</td>\n",
              "      <td>We went to Giordanos for dinner the other nigh...</td>\n",
              "      <td>5.0</td>\n",
              "    </tr>\n",
              "    <tr>\n",
              "      <th>157151</th>\n",
              "      <td>157151</td>\n",
              "      <td>I started out at scrubs and beyond and this pl...</td>\n",
              "      <td>5.0</td>\n",
              "    </tr>\n",
              "    <tr>\n",
              "      <th>302827</th>\n",
              "      <td>302827</td>\n",
              "      <td>The fact that Phoenix Palace only has a 3.5 St...</td>\n",
              "      <td>5.0</td>\n",
              "    </tr>\n",
              "  </tbody>\n",
              "</table>\n",
              "</div>"
            ],
            "text/plain": [
              "        Unnamed: 0                                            reviews  ratings\n",
              "352806      352806  It is 32C outside, and I was dreading having t...      5.0\n",
              "417824      417824  Stopped in for lunch and was quite pleased. Th...      4.0\n",
              "469847      469847  So everyone knows about the W. They are the hi...      4.0\n",
              "407746      407746  Aladdin's is one of those gem restaurants wher...      5.0\n",
              "469848      469848  I finally made it to this location!  Super clo...      5.0\n",
              "494526      494526  Bleh, this store is so grody inside. The price...      1.0\n",
              "413659      413659  i have to admit, the interior is pretty nice f...      3.0\n",
              "243752      243752  We went to Giordanos for dinner the other nigh...      5.0\n",
              "157151      157151  I started out at scrubs and beyond and this pl...      5.0\n",
              "302827      302827  The fact that Phoenix Palace only has a 3.5 St...      5.0"
            ]
          },
          "metadata": {
            "tags": []
          },
          "execution_count": 36
        }
      ]
    },
    {
      "cell_type": "code",
      "metadata": {
        "id": "XfDApm2UmdQE",
        "colab": {
          "base_uri": "https://localhost:8080/"
        },
        "outputId": "40dcff7a-41fe-4a17-8a7d-ea07189731a0"
      },
      "source": [
        "!git clone \"https://github.com/dongwookim-ml/python-topic-model.git\""
      ],
      "execution_count": 3,
      "outputs": [
        {
          "output_type": "stream",
          "text": [
            "Cloning into 'python-topic-model'...\n",
            "remote: Enumerating objects: 357, done.\u001b[K\n",
            "remote: Total 357 (delta 0), reused 0 (delta 0), pack-reused 357\u001b[K\n",
            "Receiving objects: 100% (357/357), 18.75 MiB | 13.68 MiB/s, done.\n",
            "Resolving deltas: 100% (181/181), done.\n"
          ],
          "name": "stdout"
        }
      ]
    },
    {
      "cell_type": "code",
      "metadata": {
        "id": "QbX4WnJKmlF_"
      },
      "source": [
        "import sys\n",
        "sys.path.insert(0, '/content/python-topic-model')\n"
      ],
      "execution_count": 4,
      "outputs": []
    },
    {
      "cell_type": "code",
      "metadata": {
        "id": "ftg-RUHvbxUw"
      },
      "source": [
        "reviews=[]\n",
        "for i in df['reviews']:\n",
        "  reviews.append(i)"
      ],
      "execution_count": 6,
      "outputs": []
    },
    {
      "cell_type": "code",
      "metadata": {
        "id": "TXsEfWbVZRPt"
      },
      "source": [
        "df=df.sample(n=50000,random_state=1) # sampled 10% of the data for faster execution "
      ],
      "execution_count": 7,
      "outputs": []
    },
    {
      "cell_type": "markdown",
      "metadata": {
        "id": "-njS1fv-gYih"
      },
      "source": [
        "Supervised LDA"
      ]
    },
    {
      "cell_type": "code",
      "metadata": {
        "id": "W_lG9vaTmpsX"
      },
      "source": [
        "import os\n",
        "import logging\n",
        "\n",
        "import numpy as np\n",
        "import matplotlib.pyplot as plt\n",
        "\n",
        "from ptm import GibbsSupervisedLDA\n",
        "from ptm.nltk_corpus import get_ids_cnt\n",
        "from ptm.utils import convert_cnt_to_list, get_top_words\n",
        "\n",
        "%matplotlib inline  \n",
        "\n",
        "logger = logging.getLogger('GibbsSupervisedLDA')\n",
        "logger.propagate = False"
      ],
      "execution_count": 8,
      "outputs": []
    },
    {
      "cell_type": "code",
      "metadata": {
        "id": "j8am-jxHb_5n"
      },
      "source": [
        "reviews=df['reviews']\n",
        "ratings=df['ratings']"
      ],
      "execution_count": 9,
      "outputs": []
    },
    {
      "cell_type": "code",
      "metadata": {
        "colab": {
          "base_uri": "https://localhost:8080/"
        },
        "id": "X0pekIqFnCXM",
        "outputId": "aa41afc1-c784-4381-a24c-e44d70300ea3"
      },
      "source": [
        "\n",
        "import nltk\n",
        "nltk.download('words')\n",
        "nltk.download('stopwords')\n",
        "nltk.download('punkt')\n",
        "voca, word_ids, word_cnt = get_ids_cnt(reviews)\n",
        "corpus = convert_cnt_to_list(word_ids, word_cnt)"
      ],
      "execution_count": 25,
      "outputs": [
        {
          "output_type": "stream",
          "text": [
            "[nltk_data] Downloading package words to /root/nltk_data...\n",
            "[nltk_data]   Package words is already up-to-date!\n",
            "[nltk_data] Downloading package stopwords to /root/nltk_data...\n",
            "[nltk_data]   Package stopwords is already up-to-date!\n",
            "[nltk_data] Downloading package punkt to /root/nltk_data...\n",
            "[nltk_data]   Package punkt is already up-to-date!\n"
          ],
          "name": "stdout"
        }
      ]
    },
    {
      "cell_type": "code",
      "metadata": {
        "id": "ySaxuGMLpH2-",
        "colab": {
          "base_uri": "https://localhost:8080/",
          "height": 914
        },
        "outputId": "dad0d767-386f-4f5d-c028-e8f12de5af3d"
      },
      "source": [
        "n_doc = len(corpus)\n",
        "n_voca = voca.size\n",
        "print('num doc', n_doc, 'num_voca', n_voca)\n",
        "plt.hist(ratings, bins=5)\n",
        "plt.show()\n",
        "print('max rating', np.max(ratings), '\\tmin rating', np.min(ratings))\n",
        "n_topic = 20\n",
        "r_var = 0.1\n",
        "\n",
        "model = GibbsSupervisedLDA(n_doc, n_voca, n_topic, sigma=r_var)\n",
        "model.fit(corpus, ratings)"
      ],
      "execution_count": null,
      "outputs": [
        {
          "output_type": "stream",
          "text": [
            "num doc 50000 num_voca 20060\n"
          ],
          "name": "stdout"
        },
        {
          "output_type": "display_data",
          "data": {
            "image/png": "[encoded data removed]",
            "text/plain": [
              "<Figure size 432x288 with 1 Axes>"
            ]
          },
          "metadata": {
            "tags": [],
            "needs_background": "light"
          }
        },
        {
          "output_type": "stream",
          "text": [
            "max rating 5.0 \tmin rating 1.0\n"
          ],
          "name": "stdout"
        },
        {
          "output_type": "stream",
          "text": [
            "2020-12-04 02:01:11 INFO:GibbsSupervisedLDA:[ITER] 0,\tMAE:0.25,\tlog_likelihood:-20127177.13\n",
            "2020-12-04 02:02:57 INFO:GibbsSupervisedLDA:[ITER] 1,\tMAE:0.25,\tlog_likelihood:-19492483.35\n",
            "2020-12-04 02:04:40 INFO:GibbsSupervisedLDA:[ITER] 2,\tMAE:0.26,\tlog_likelihood:-19087337.95\n",
            "2020-12-04 02:06:24 INFO:GibbsSupervisedLDA:[ITER] 3,\tMAE:0.27,\tlog_likelihood:-18808104.03\n",
            "2020-12-04 02:08:07 INFO:GibbsSupervisedLDA:[ITER] 4,\tMAE:0.28,\tlog_likelihood:-18598900.28\n",
            "2020-12-04 02:09:50 INFO:GibbsSupervisedLDA:[ITER] 5,\tMAE:0.28,\tlog_likelihood:-18434482.01\n",
            "2020-12-04 02:11:35 INFO:GibbsSupervisedLDA:[ITER] 6,\tMAE:0.28,\tlog_likelihood:-18299187.91\n",
            "2020-12-04 02:13:20 INFO:GibbsSupervisedLDA:[ITER] 7,\tMAE:0.28,\tlog_likelihood:-18180433.42\n",
            "2020-12-04 02:15:03 INFO:GibbsSupervisedLDA:[ITER] 8,\tMAE:0.29,\tlog_likelihood:-18079419.43\n",
            "2020-12-04 02:16:46 INFO:GibbsSupervisedLDA:[ITER] 9,\tMAE:0.29,\tlog_likelihood:-17988011.54\n",
            "2020-12-04 02:18:30 INFO:GibbsSupervisedLDA:[ITER] 10,\tMAE:0.29,\tlog_likelihood:-17913876.52\n",
            "2020-12-04 02:20:16 INFO:GibbsSupervisedLDA:[ITER] 11,\tMAE:0.29,\tlog_likelihood:-17841785.44\n",
            "2020-12-04 02:22:02 INFO:GibbsSupervisedLDA:[ITER] 12,\tMAE:0.29,\tlog_likelihood:-17785473.19\n",
            "2020-12-04 02:23:45 INFO:GibbsSupervisedLDA:[ITER] 13,\tMAE:0.29,\tlog_likelihood:-17733973.27\n",
            "2020-12-04 02:25:29 INFO:GibbsSupervisedLDA:[ITER] 14,\tMAE:0.29,\tlog_likelihood:-17691706.66\n"
          ],
          "name": "stderr"
        },
        {
          "output_type": "error",
          "ename": "KeyboardInterrupt",
          "evalue": "ignored",
          "traceback": [
            "\u001b[0;31m---------------------------------------------------------------------------\u001b[0m",
            "\u001b[0;31mKeyboardInterrupt\u001b[0m                         Traceback (most recent call last)",
            "\u001b[0;32m<ipython-input-45-217ae855d454>\u001b[0m in \u001b[0;36m<module>\u001b[0;34m()\u001b[0m\n\u001b[1;32m      9\u001b[0m \u001b[0;34m\u001b[0m\u001b[0m\n\u001b[1;32m     10\u001b[0m \u001b[0mmodel\u001b[0m \u001b[0;34m=\u001b[0m \u001b[0mGibbsSupervisedLDA\u001b[0m\u001b[0;34m(\u001b[0m\u001b[0mn_doc\u001b[0m\u001b[0;34m,\u001b[0m \u001b[0mn_voca\u001b[0m\u001b[0;34m,\u001b[0m \u001b[0mn_topic\u001b[0m\u001b[0;34m,\u001b[0m \u001b[0msigma\u001b[0m\u001b[0;34m=\u001b[0m\u001b[0mr_var\u001b[0m\u001b[0;34m)\u001b[0m\u001b[0;34m\u001b[0m\u001b[0;34m\u001b[0m\u001b[0m\n\u001b[0;32m---> 11\u001b[0;31m \u001b[0mmodel\u001b[0m\u001b[0;34m.\u001b[0m\u001b[0mfit\u001b[0m\u001b[0;34m(\u001b[0m\u001b[0mcorpus\u001b[0m\u001b[0;34m,\u001b[0m \u001b[0mratings\u001b[0m\u001b[0;34m)\u001b[0m\u001b[0;34m\u001b[0m\u001b[0;34m\u001b[0m\u001b[0m\n\u001b[0m",
            "\u001b[0;32m/content/python-topic-model/ptm/slda_gibbs.py\u001b[0m in \u001b[0;36mfit\u001b[0;34m(self, docs, responses, max_iter)\u001b[0m\n\u001b[1;32m     74\u001b[0m                     \u001b[0;31m# update\u001b[0m\u001b[0;34m\u001b[0m\u001b[0;34m\u001b[0m\u001b[0;34m\u001b[0m\u001b[0m\n\u001b[1;32m     75\u001b[0m                     prob = (self.TW[:, word]) / (self.sum_T) * (self.DT[di, :]) * np.exp(\n\u001b[0;32m---> 76\u001b[0;31m                         np.negative((responses[di] - np.dot(z_bar, self.eta)) ** 2) / 2 / self.sigma)\n\u001b[0m\u001b[1;32m     77\u001b[0m \u001b[0;34m\u001b[0m\u001b[0m\n\u001b[1;32m     78\u001b[0m                     \u001b[0mnew_topic\u001b[0m \u001b[0;34m=\u001b[0m \u001b[0msampling_from_dist\u001b[0m\u001b[0;34m(\u001b[0m\u001b[0mprob\u001b[0m\u001b[0;34m)\u001b[0m\u001b[0;34m\u001b[0m\u001b[0;34m\u001b[0m\u001b[0m\n",
            "\u001b[0;32m<__array_function__ internals>\u001b[0m in \u001b[0;36mdot\u001b[0;34m(*args, **kwargs)\u001b[0m\n",
            "\u001b[0;31mKeyboardInterrupt\u001b[0m: "
          ]
        }
      ]
    },
    {
      "cell_type": "code",
      "metadata": {
        "id": "I1S-d93-KK-H"
      },
      "source": [
        "import pyLDAvis.gensim\n",
        "import gensim\n",
        "pyLDAvis.enable_notebook()\n",
        "dicti=gensim.corpora.Dictionary.load('dictionary.dict')\n",
        "vis = pyLDAvis.gensim.prepare(model, corpus, dicti)\n",
        "vis"
      ],
      "execution_count": null,
      "outputs": []
    },
    {
      "cell_type": "code",
      "metadata": {
        "id": "VUhQWSAdpfd6",
        "colab": {
          "base_uri": "https://localhost:8080/"
        },
        "outputId": "ffb67b67-20a5-44b1-cd4a-adb408c5efa0"
      },
      "source": [
        "for ti in model.eta.argsort():\n",
        "    top_words = get_top_words(model.TW, voca, ti, n_words=15)\n",
        "    print('Eta', model.eta[ti] ,'Topic', ti ,':\\t', ','.join(top_words))"
      ],
      "execution_count": null,
      "outputs": [
        {
          "output_type": "stream",
          "text": [
            "Eta -4.601662012098114 Topic 5 :\t ordered,chicken,salad,restaurant,like,would,meal,steak,menu,nothing,meat,eat,table,dinner,ok\n",
            "Eta -3.4153407996017093 Topic 11 :\t would,go,back,never,like,bad,could,get,time,one,people,room,left,experience,ever\n",
            "Eta -3.086343270218516 Topic 16 :\t like,restaurant,ordered,better,would,get,bad,tea,go,coffee,got,pretty,also,really,much\n",
            "Eta -1.7413596861124994 Topic 14 :\t ordered,chicken,like,restaurant,order,lunch,pizza,got,salad,one,menu,cheese,sauce,eat,came\n",
            "Eta -0.2911998423138726 Topic 7 :\t go,get,even,like,back,would,one,order,way,time,money,better,going,ever,say\n",
            "Eta 0.37202293875062437 Topic 3 :\t car,would,told,said,customer,never,store,get,time,could,call,back,manager,work,company\n",
            "Eta 0.5406788497909882 Topic 13 :\t get,time,would,us,back,never,one,order,told,got,even,said,go,could,come\n",
            "Eta 0.5548415988304843 Topic 1 :\t us,back,one,came,table,time,order,like,go,would,server,get,got,bar,even\n",
            "Eta 1.064238338473579 Topic 0 :\t time,back,get,said,would,told,us,could,even,never,go,one,got,done,customer\n",
            "Eta 1.9192168141074828 Topic 18 :\t would,one,get,time,people,like,customer,never,store,said,told,could,got,back,even\n",
            "Eta 2.866007512595558 Topic 4 :\t would,get,time,us,car,back,one,told,even,went,said,could,call,new,came\n",
            "Eta 3.808452257047789 Topic 8 :\t pizza,room,night,nice,get,would,one,much,really,bar,pretty,like,hotel,us,people\n",
            "Eta 3.997886666050835 Topic 9 :\t like,one,get,time,really,us,go,would,nice,even,little,people,see,much,could\n",
            "Eta 4.120320560895993 Topic 17 :\t room,hotel,nice,stay,pool,like,one,strip,clean,night,would,get,area,free,also\n",
            "Eta 4.559826112373217 Topic 15 :\t us,one,get,time,would,could,first,like,even,people,got,went,go,back,also\n",
            "Eta 5.057395320362162 Topic 12 :\t ordered,sauce,cheese,chicken,menu,really,like,delicious,also,bread,restaurant,try,little,fresh,salad\n",
            "Eta 5.109771744620427 Topic 10 :\t chicken,ordered,really,like,also,menu,one,delicious,sauce,fresh,rice,pizza,little,soup,cream\n",
            "Eta 5.271136452502114 Topic 19 :\t like,really,one,get,pretty,little,time,would,nice,well,also,go,back,menu,bar\n",
            "Eta 5.886442841822909 Topic 6 :\t time,get,day,would,one,could,really,experience,back,like,even,work,went,first,took\n",
            "Eta 6.479059092894375 Topic 2 :\t best,always,love,friendly,amazing,time,staff,definitely,back,recommend,delicious,go,also,nice,awesome\n"
          ],
          "name": "stdout"
        }
      ]
    },
    {
      "cell_type": "code",
      "metadata": {
        "id": "8HjVkWsyGpy3"
      },
      "source": [
        "\n",
        "'''\n",
        "Topic-1: ordered chicken salad in menu of restaurent with meat and steak from dinner\n",
        "Topic-2: one place available no room left bad expereince ever\n",
        "Topic-3: Ordered tea and coffee in the restaurent it got pretty much really bad\n",
        "Topic-4: order menu with one chicken, pizza, salad cheese sauce for lunch we ate and came\n",
        "Topic-5: one would never get money back\n",
        "Topic-6: manager never get time to call back customer \n",
        "Topic-7: order told to get back items in time\n",
        "Topic-8: Customer could not call back time\n",
        "Topic-9: time cannot get back the customer\n",
        "Topic-10:Pretty much goot place with pizza, bar and hotel\n",
        "Topic-11:one could get a good time with little people\n",
        "Topic-12:Orderd chicken, rice, pizza with fresh sauce, soup, cream\n",
        "Topic-13: one would get a really amazing time at this bar\n",
        "Topic-14:first expereince was not very good\n",
        "Topic-15:best recommended amazing loving place with amazing staff and delicious food completly awsome with love\n",
        "Topic-16: one would get good time in car\n",
        "Topic-17: orderd chicken, rice with fresh sauce, soup and cream\n",
        "Topic-18: best amazing staff definately recommended to go back\n",
        "Topic-19: Time and experience with get really amazing even for the first time\n",
        "Topic-20:best lovely delicious food with amazing staff\n"
      ],
      "execution_count": null,
      "outputs": []
    },
    {
      "cell_type": "markdown",
      "metadata": {
        "id": "BJi9Eeocp5yg"
      },
      "source": [
        "HMM LDA"
      ]
    },
    {
      "cell_type": "code",
      "metadata": {
        "id": "dgQCDmh-rUBx"
      },
      "source": [
        "import logging\n",
        "from ptm.nltk_corpus import get_reuters_token_list_by_sentence\n",
        "from ptm import HMM_LDA\n",
        "from ptm.utils import get_top_words\n",
        "\n",
        "logger = logging.getLogger('HMM_LDA')\n",
        "logger.propagate=False"
      ],
      "execution_count": null,
      "outputs": []
    },
    {
      "cell_type": "code",
      "metadata": {
        "id": "UHMbnlymsQpH"
      },
      "source": [
        "corpus=[corpus]"
      ],
      "execution_count": null,
      "outputs": []
    },
    {
      "cell_type": "code",
      "metadata": {
        "id": "G7XKwU_3rfKu"
      },
      "source": [
        "n_docs = len(corpus)\n",
        "n_voca = len(voca)\n",
        "n_topic = 20\n",
        "n_class = 15\n",
        "max_iter = 100\n",
        "alpha = 0.1\n",
        "beta = 0.01\n",
        "gamma = 0.1\n",
        "eta = 0.1\n",
        "model = HMM_LDA(n_docs, n_voca, n_topic, n_class, alpha=alpha, beta=beta, gamma=gamma, eta=eta, verbose=False)\n",
        "model.fit(corpus, max_iter=max_iter)"
      ],
      "execution_count": null,
      "outputs": []
    },
    {
      "cell_type": "code",
      "metadata": {
        "id": "TTQdFKlOwTK0",
        "colab": {
          "base_uri": "https://localhost:8080/"
        },
        "outputId": "c9a477ae-3d8c-45f4-d351-82d8ddd8a21f"
      },
      "source": [
        "for ti in range(n_topic):\n",
        "    top_words = get_top_words(model.TW, voca, ti, n_words=10)\n",
        "    print('Topic', ti ,': ', ','.join(top_words))"
      ],
      "execution_count": null,
      "outputs": [
        {
          "output_type": "stream",
          "text": [
            "Topic 0 :  delight,pathetic,history,tare,revealing,omelet,moderately,wandering,rave,bulk\n",
            "Topic 1 :  advisor,overtly,curtis,coat,maintain,finch,dennis,oliver,dredging,loudly\n",
            "Topic 2 :  lowering,scare,edge,focus,earth,july,baguette,mountain,fortunate,unhappy\n",
            "Topic 3 :  shack,interest,robust,crumbly,weak,muffin,accordingly,spoon,lastly,kosher\n",
            "Topic 4 :  convince,concern,entering,observant,mechanic,flag,factor,crumbly,fragrant,meaning\n",
            "Topic 5 :  attraction,plumbing,duty,weekday,chapel,student,bye,ceiling,sublime,necessary\n",
            "Topic 6 :  challenge,messy,hung,ed,complicated,coca,parcel,younger,frosted,central\n",
            "Topic 7 :  confident,unable,lastly,interest,irene,bypass,noon,involved,ie,kudos\n",
            "Topic 8 :  quickie,trail,suit,misted,shrunken,excessively,adventurous,glove,treasure,quiche\n",
            "Topic 9 :  coca,japan,van,benefit,superior,maker,separates,sprite,stadium,slippery\n",
            "Topic 10 :  preference,ski,foremost,meaning,stew,killer,report,rose,zucchini,folded\n",
            "Topic 11 :  stressful,lake,stupid,extended,condition,clarification,feed,vitality,leg,eats\n",
            "Topic 12 :  mock,gourmet,melon,koi,finger,tee,microwave,stew,angus,loyal\n",
            "Topic 13 :  outdated,jam,certifiably,relieved,homework,hooked,whipped,racist,worker,wearer\n",
            "Topic 14 :  marketing,muffin,argentinian,nursing,shade,settled,electric,flag,smoky,spiced\n",
            "Topic 15 :  coast,charging,petite,aka,pronounced,omelet,thankfully,pat,paradise,row\n",
            "Topic 16 :  salesman,united,massive,shark,mingle,preferred,tamale,quantity,paramount,peach\n",
            "Topic 17 :  tart,elite,boston,robust,weak,muffin,pound,rider,peak,spoon\n",
            "Topic 18 :  victorian,comparison,wearing,cried,bust,strangely,ping,pecan,armenian,pride\n",
            "Topic 19 :  juan,dude,bottled,genuine,salespeople,weak,minded,unable,wildlife,lastly\n"
          ],
          "name": "stdout"
        }
      ]
    },
    {
      "cell_type": "markdown",
      "metadata": {
        "id": "AfpMRCrRwN6Z"
      },
      "source": [
        "# **Question 2: Yelp Review Sentiment Analysis**"
      ]
    },
    {
      "cell_type": "markdown",
      "metadata": {
        "id": "1dCQEbDawWCw"
      },
      "source": [
        "(30 points). Sentiment analysis also known as opinion mining is a sub field within Natural Language Processing (NLP) that builds machine learning algorithms to classify a text according to the sentimental polarities of opinions it contains, e.g., positive, negative, neutral. The purpose of this question is to develop a machine learning classifier for sentiment analysis. Based on the dataset from assignment three, write a python program to implement a sentiment classifier and evaluate its performance. Notice: **80% data for training and 20% data for testing**.\n",
        "\n",
        "The data can be download from Dropbox: https://www.dropbox.com/s/59hsrk56sfwh9u2/Assignment%20four%20data%20Yelp%20%28question%201%20and%202%29.zip?dl=0 \n",
        "\n",
        "The data was saved in json format, here is an example of the data (for this task, you only need to use the star rating and the review text fields):\n",
        "\n",
        "{\n",
        "    // string, 22 character unique review id\n",
        "    \"review_id\": \"zdSx_SD6obEhz9VrW9uAWA\",\n",
        "\n",
        "    // string, 22 character unique user id, maps to the user in user.json\n",
        "    \"user_id\": \"Ha3iJu77CxlrFm-vQRs_8g\",\n",
        "\n",
        "    // string, 22 character business id, maps to business in business.json\n",
        "    \"business_id\": \"tnhfDv5Il8EaGSXZGiuQGg\",\n",
        "\n",
        "    // integer, star rating\n",
        "    \"stars\": 4,\n",
        "\n",
        "    // string, date formatted YYYY-MM-DD\n",
        "    \"date\": \"2016-03-09\",\n",
        "\n",
        "    // string, the review itself\n",
        "    \"text\": \"Great place to hang out after work: the prices are decent, and the ambience is fun. It's a bit loud, but very lively. The staff is friendly, and the food is good. They have a good selection of drinks.\",\n",
        "\n",
        "    // integer, number of useful votes received\n",
        "    \"useful\": 0,\n",
        "\n",
        "    // integer, number of funny votes received\n",
        "    \"funny\": 0,\n",
        "\n",
        "    // integer, number of cool votes received\n",
        "    \"cool\": 0\n",
        "}\n",
        "\n",
        "The sentiment of can be accessed based on the star rating, if no star information avaliable for a record, just remove that record. Detail star and sentiment level can be matched blew:\n",
        "\n",
        "Very positive = 5 stars\n",
        "\n",
        "Positive = 4 stars\n",
        "\n",
        "Neutral = 3 stars\n",
        "\n",
        "Negative = 2 stars\n",
        "\n",
        "Very negative = 1 star\n",
        "\n",
        "Here is code for yelp data preprocessing: https://github.com/Yelp/dataset-examples. \n",
        "\n",
        "Answer the following questions:\n",
        "\n",
        "(1) Features used for sentiment classification and explain why you select these features (tf-idf, sentiment lexicon, word2vec, etc). Considering achieve the best performance as you can. \n",
        "\n",
        "(2) Select two of the supervised learning algorithm from scikit-learn library: https://scikit-learn.org/stable/supervised_learning.html#supervised-learning, to build a sentiment classifier respectively. \n",
        "\n",
        "(3) Compare the performance over accuracy, precision, recall, and F1 score for the two algorithms you selected. Here is the reference of how to calculate these metrics: https://towardsdatascience.com/accuracy-precision-recall-or-f1-331fb37c5cb9. "
      ]
    },
    {
      "cell_type": "code",
      "metadata": {
        "id": "vATjQNTY8buA"
      },
      "source": [
        "# Write your code here\n",
        "df.loc[df['ratings']==5.0, 'sentiment'] = 'very_positve'\n",
        "df.loc[df['ratings']==4.0, 'sentiment'] = 'Positve'\n",
        "df.loc[df['ratings']==3.0, 'sentiment'] = 'Neutral'\n",
        "df.loc[df['ratings']==2.0, 'sentiment'] = 'Negative'\n",
        "df.loc[df['ratings']==1.0, 'sentiment'] = 'very_Negative'\n"
      ],
      "execution_count": null,
      "outputs": []
    },
    {
      "cell_type": "code",
      "metadata": {
        "id": "1kVsa5Fe1vDM"
      },
      "source": [
        "df=df.dropna()"
      ],
      "execution_count": null,
      "outputs": []
    },
    {
      "cell_type": "code",
      "metadata": {
        "id": "kFg3hg4tznJa",
        "colab": {
          "base_uri": "https://localhost:8080/"
        },
        "outputId": "c7e52f87-6f48-4969-8c30-c977de6bfc77"
      },
      "source": [
        "X = df.iloc[:, 1].values\n",
        "y = df.iloc[:, 2].values\n",
        "from sklearn.feature_extraction.text import TfidfVectorizer\n",
        "td = TfidfVectorizer(max_features = 4500)\n",
        "X = td.fit_transform(X).toarray()\n",
        "\n",
        "# Splitting into training & test subsets\n",
        "from sklearn.model_selection import train_test_split\n",
        "X_train, X_test, y_train, y_test = train_test_split(X, y, test_size = 0.3,\n",
        "                                                    random_state = 0)\n",
        "\n",
        "# Training the classifier & predicting on test data\n",
        "from sklearn.naive_bayes import MultinomialNB\n",
        "classifier = MultinomialNB()\n",
        "classifier.fit(X_train, y_train)\n",
        "\n",
        "y_pred = classifier.predict(X_test)\n",
        "\n",
        "# Classification metrics\n",
        "from sklearn.metrics import accuracy_score, classification_report\n",
        "classification_report = classification_report(y_test, y_pred)\n",
        "\n",
        "print('\\n Accuracy using Multinomial navie bayes: ', accuracy_score(y_test, y_pred))\n",
        "print('\\nClassification Report')\n",
        "print('======================================================')\n",
        "print('\\n', classification_report)"
      ],
      "execution_count": null,
      "outputs": [
        {
          "output_type": "stream",
          "text": [
            "\n",
            " Accuracy using Multinomial navie bayes:  0.5985333333333334\n",
            "\n",
            "Classification Report\n",
            "======================================================\n",
            "\n",
            "               precision    recall  f1-score   support\n",
            "\n",
            "         1.0       0.67      0.74      0.70      2090\n",
            "         2.0       0.50      0.03      0.05      1185\n",
            "         3.0       0.37      0.05      0.08      1697\n",
            "         4.0       0.38      0.34      0.36      3212\n",
            "         5.0       0.66      0.91      0.76      6816\n",
            "\n",
            "    accuracy                           0.60     15000\n",
            "   macro avg       0.51      0.41      0.39     15000\n",
            "weighted avg       0.55      0.60      0.53     15000\n",
            "\n"
          ],
          "name": "stdout"
        }
      ]
    },
    {
      "cell_type": "code",
      "metadata": {
        "id": "DiWSuMr42NzS",
        "colab": {
          "base_uri": "https://localhost:8080/"
        },
        "outputId": "53a37ab7-2037-48c2-b5f3-25431174ccba"
      },
      "source": [
        "from sklearn.svm import LinearSVC\n",
        "svm_classifier=LinearSVC()\n",
        "svm_classifier.fit(X_train,y_train)\n",
        "y_pred=svm_classifier.predict(X_test)\n",
        "from sklearn.metrics import accuracy_score, classification_report\n",
        "classification_report=classification_report(y_test,y_pred)\n",
        "print('\\n Accuracy using support vector machine: ', accuracy_score(y_test, y_pred))\n",
        "print('\\nClassification Report')\n",
        "print('======================================================')\n",
        "print('\\n', classification_report)"
      ],
      "execution_count": null,
      "outputs": [
        {
          "output_type": "stream",
          "text": [
            "\n",
            " Accuracy using support vector machine:  0.6371333333333333\n",
            "\n",
            "Classification Report\n",
            "======================================================\n",
            "\n",
            "               precision    recall  f1-score   support\n",
            "\n",
            "         1.0       0.69      0.78      0.74      2090\n",
            "         2.0       0.40      0.23      0.29      1185\n",
            "         3.0       0.39      0.29      0.33      1697\n",
            "         4.0       0.45      0.40      0.43      3212\n",
            "         5.0       0.75      0.86      0.80      6816\n",
            "\n",
            "    accuracy                           0.64     15000\n",
            "   macro avg       0.54      0.51      0.52     15000\n",
            "weighted avg       0.61      0.64      0.62     15000\n",
            "\n"
          ],
          "name": "stdout"
        }
      ]
    },
    {
      "cell_type": "markdown",
      "metadata": {
        "id": "PB_D1PZkHUMn"
      },
      "source": [
        "1.\n",
        "#I selected features in the dataset using tf-idf matrix becuase tf-idf converts text into numerical array of frequency which means term frequency says how frequently does a word appeared in a document and inverse document frequency says how frequently does the word appears across all others in the dataset and also as this is the easiest way to find out the important terms and to concnetrate on these terms. \n",
        "\n",
        "# This is important becuase the values in the tfidf matrix are like weights which are added to the terms according to their occurence and importance which makes a model to identify which is more important for a particular sentiment and tends to predict the sentiment of a sentence easily."
      ]
    },
    {
      "cell_type": "markdown",
      "metadata": {
        "id": "E5mmYIfN8eYV"
      },
      "source": [
        "# **Question 3: House price prediction**"
      ]
    },
    {
      "cell_type": "markdown",
      "metadata": {
        "id": "hsi2y4z88ngX"
      },
      "source": [
        "(40 points). You are required to build a **regression** model to predict the house price with 79 explanatory variables describing (almost) every aspect of residential homes. The purpose of this question is to practice regression analysis, an supervised learning model. The training data, testing data, and data description files can be download from Dropbox: https://www.dropbox.com/s/52j9hpxppfo921o/assignment4-question3-data.zip?dl=0. Here is an axample for the implementation: https://towardsdatascience.com/linear-regression-in-python-predict-the-bay-areas-home-price-5c91c8378878. \n"
      ]
    },
    {
      "cell_type": "code",
      "metadata": {
        "id": "XfvMKJjIXS5G",
        "colab": {
          "base_uri": "https://localhost:8080/"
        },
        "outputId": "d774c6c0-a707-4d04-8125-a77608ff7454"
      },
      "source": [
        "# Write your code here\n",
        "import pandas as pd\n",
        "train=pd.read_csv('/content/train.csv')\n",
        "train.columns\n"
      ],
      "execution_count": null,
      "outputs": [
        {
          "output_type": "execute_result",
          "data": {
            "text/plain": [
              "Index(['Id', 'MSSubClass', 'MSZoning', 'LotFrontage', 'LotArea', 'Street',\n",
              "       'Alley', 'LotShape', 'LandContour', 'Utilities', 'LotConfig',\n",
              "       'LandSlope', 'Neighborhood', 'Condition1', 'Condition2', 'BldgType',\n",
              "       'HouseStyle', 'OverallQual', 'OverallCond', 'YearBuilt', 'YearRemodAdd',\n",
              "       'RoofStyle', 'RoofMatl', 'Exterior1st', 'Exterior2nd', 'MasVnrType',\n",
              "       'MasVnrArea', 'ExterQual', 'ExterCond', 'Foundation', 'BsmtQual',\n",
              "       'BsmtCond', 'BsmtExposure', 'BsmtFinType1', 'BsmtFinSF1',\n",
              "       'BsmtFinType2', 'BsmtFinSF2', 'BsmtUnfSF', 'TotalBsmtSF', 'Heating',\n",
              "       'HeatingQC', 'CentralAir', 'Electrical', '1stFlrSF', '2ndFlrSF',\n",
              "       'LowQualFinSF', 'GrLivArea', 'BsmtFullBath', 'BsmtHalfBath', 'FullBath',\n",
              "       'HalfBath', 'BedroomAbvGr', 'KitchenAbvGr', 'KitchenQual',\n",
              "       'TotRmsAbvGrd', 'Functional', 'Fireplaces', 'FireplaceQu', 'GarageType',\n",
              "       'GarageYrBlt', 'GarageFinish', 'GarageCars', 'GarageArea', 'GarageQual',\n",
              "       'GarageCond', 'PavedDrive', 'WoodDeckSF', 'OpenPorchSF',\n",
              "       'EnclosedPorch', '3SsnPorch', 'ScreenPorch', 'PoolArea', 'PoolQC',\n",
              "       'Fence', 'MiscFeature', 'MiscVal', 'MoSold', 'YrSold', 'SaleType',\n",
              "       'SaleCondition', 'SalePrice'],\n",
              "      dtype='object')"
            ]
          },
          "metadata": {
            "tags": []
          },
          "execution_count": 66
        }
      ]
    },
    {
      "cell_type": "code",
      "metadata": {
        "id": "ISmAfTHXHpQI",
        "colab": {
          "base_uri": "https://localhost:8080/",
          "height": 879
        },
        "outputId": "cc4384ed-4a0b-4925-8c64-aea0276c5ca5"
      },
      "source": [
        "%matplotlib inline\n",
        "import matplotlib.pyplot as plt\n",
        "train.hist(bins=10, figsize=(20,15))\n",
        "plt.savefig(\"attribute_histogram_plots\")\n",
        "plt.show()"
      ],
      "execution_count": null,
      "outputs": [
        {
          "output_type": "display_data",
          "data": {
            "image/png": "[encoded data removed]",
            "text/plain": [
              "<Figure size 1440x1080 with 42 Axes>"
            ]
          },
          "metadata": {
            "tags": [],
            "needs_background": "light"
          }
        }
      ]
    },
    {
      "cell_type": "code",
      "metadata": {
        "id": "BvM0JwRL9J7G"
      },
      "source": [
        "train_missing = train.isna()\n",
        "train_num_missing = train_missing.sum()"
      ],
      "execution_count": null,
      "outputs": []
    },
    {
      "cell_type": "code",
      "metadata": {
        "id": "yDwH8PNb9WRO",
        "colab": {
          "base_uri": "https://localhost:8080/"
        },
        "outputId": "cdcf58da-47a0-4f52-eadf-9f3f41781c18"
      },
      "source": [
        "miss=train_num_missing/len(train)\n",
        "miss=miss.sort_values()\n",
        "miss.tail(10)"
      ],
      "execution_count": null,
      "outputs": [
        {
          "output_type": "execute_result",
          "data": {
            "text/plain": [
              "GarageFinish    0.055479\n",
              "GarageYrBlt     0.055479\n",
              "GarageType      0.055479\n",
              "GarageCond      0.055479\n",
              "LotFrontage     0.177397\n",
              "FireplaceQu     0.472603\n",
              "Fence           0.807534\n",
              "Alley           0.937671\n",
              "MiscFeature     0.963014\n",
              "PoolQC          0.995205\n",
              "dtype: float64"
            ]
          },
          "metadata": {
            "tags": []
          },
          "execution_count": 69
        }
      ]
    },
    {
      "cell_type": "code",
      "metadata": {
        "id": "N8sF5yWiKnGC",
        "colab": {
          "base_uri": "https://localhost:8080/",
          "height": 419
        },
        "outputId": "33feb9d1-e430-490f-9bbc-e02e0e758bd3"
      },
      "source": [
        "train.drop(['PoolQC','MiscFeature','Alley','Fence','FireplaceQu','LotFrontage','GarageCond','GarageType','GarageCond'],axis=1)"
      ],
      "execution_count": null,
      "outputs": [
        {
          "output_type": "execute_result",
          "data": {
            "text/html": [
              "<div>\n",
              "<style scoped>\n",
              "    .dataframe tbody tr th:only-of-type {\n",
              "        vertical-align: middle;\n",
              "    }\n",
              "\n",
              "    .dataframe tbody tr th {\n",
              "        vertical-align: top;\n",
              "    }\n",
              "\n",
              "    .dataframe thead th {\n",
              "        text-align: right;\n",
              "    }\n",
              "</style>\n",
              "<table border=\"1\" class=\"dataframe\">\n",
              "  <thead>\n",
              "    <tr style=\"text-align: right;\">\n",
              "      <th></th>\n",
              "      <th>Id</th>\n",
              "      <th>MSSubClass</th>\n",
              "      <th>MSZoning</th>\n",
              "      <th>LotArea</th>\n",
              "      <th>Street</th>\n",
              "      <th>LotShape</th>\n",
              "      <th>LandContour</th>\n",
              "      <th>Utilities</th>\n",
              "      <th>LotConfig</th>\n",
              "      <th>LandSlope</th>\n",
              "      <th>Neighborhood</th>\n",
              "      <th>Condition1</th>\n",
              "      <th>Condition2</th>\n",
              "      <th>BldgType</th>\n",
              "      <th>HouseStyle</th>\n",
              "      <th>OverallQual</th>\n",
              "      <th>OverallCond</th>\n",
              "      <th>YearBuilt</th>\n",
              "      <th>YearRemodAdd</th>\n",
              "      <th>RoofStyle</th>\n",
              "      <th>RoofMatl</th>\n",
              "      <th>Exterior1st</th>\n",
              "      <th>Exterior2nd</th>\n",
              "      <th>MasVnrType</th>\n",
              "      <th>MasVnrArea</th>\n",
              "      <th>ExterQual</th>\n",
              "      <th>ExterCond</th>\n",
              "      <th>Foundation</th>\n",
              "      <th>BsmtQual</th>\n",
              "      <th>BsmtCond</th>\n",
              "      <th>BsmtExposure</th>\n",
              "      <th>BsmtFinType1</th>\n",
              "      <th>BsmtFinSF1</th>\n",
              "      <th>BsmtFinType2</th>\n",
              "      <th>BsmtFinSF2</th>\n",
              "      <th>BsmtUnfSF</th>\n",
              "      <th>TotalBsmtSF</th>\n",
              "      <th>Heating</th>\n",
              "      <th>HeatingQC</th>\n",
              "      <th>CentralAir</th>\n",
              "      <th>Electrical</th>\n",
              "      <th>1stFlrSF</th>\n",
              "      <th>2ndFlrSF</th>\n",
              "      <th>LowQualFinSF</th>\n",
              "      <th>GrLivArea</th>\n",
              "      <th>BsmtFullBath</th>\n",
              "      <th>BsmtHalfBath</th>\n",
              "      <th>FullBath</th>\n",
              "      <th>HalfBath</th>\n",
              "      <th>BedroomAbvGr</th>\n",
              "      <th>KitchenAbvGr</th>\n",
              "      <th>KitchenQual</th>\n",
              "      <th>TotRmsAbvGrd</th>\n",
              "      <th>Functional</th>\n",
              "      <th>Fireplaces</th>\n",
              "      <th>GarageYrBlt</th>\n",
              "      <th>GarageFinish</th>\n",
              "      <th>GarageCars</th>\n",
              "      <th>GarageArea</th>\n",
              "      <th>GarageQual</th>\n",
              "      <th>PavedDrive</th>\n",
              "      <th>WoodDeckSF</th>\n",
              "      <th>OpenPorchSF</th>\n",
              "      <th>EnclosedPorch</th>\n",
              "      <th>3SsnPorch</th>\n",
              "      <th>ScreenPorch</th>\n",
              "      <th>PoolArea</th>\n",
              "      <th>MiscVal</th>\n",
              "      <th>MoSold</th>\n",
              "      <th>YrSold</th>\n",
              "      <th>SaleType</th>\n",
              "      <th>SaleCondition</th>\n",
              "      <th>SalePrice</th>\n",
              "    </tr>\n",
              "  </thead>\n",
              "  <tbody>\n",
              "    <tr>\n",
              "      <th>0</th>\n",
              "      <td>1</td>\n",
              "      <td>60</td>\n",
              "      <td>RL</td>\n",
              "      <td>8450</td>\n",
              "      <td>Pave</td>\n",
              "      <td>Reg</td>\n",
              "      <td>Lvl</td>\n",
              "      <td>AllPub</td>\n",
              "      <td>Inside</td>\n",
              "      <td>Gtl</td>\n",
              "      <td>CollgCr</td>\n",
              "      <td>Norm</td>\n",
              "      <td>Norm</td>\n",
              "      <td>1Fam</td>\n",
              "      <td>2Story</td>\n",
              "      <td>7</td>\n",
              "      <td>5</td>\n",
              "      <td>2003</td>\n",
              "      <td>2003</td>\n",
              "      <td>Gable</td>\n",
              "      <td>CompShg</td>\n",
              "      <td>VinylSd</td>\n",
              "      <td>VinylSd</td>\n",
              "      <td>BrkFace</td>\n",
              "      <td>196.0</td>\n",
              "      <td>Gd</td>\n",
              "      <td>TA</td>\n",
              "      <td>PConc</td>\n",
              "      <td>Gd</td>\n",
              "      <td>TA</td>\n",
              "      <td>No</td>\n",
              "      <td>GLQ</td>\n",
              "      <td>706</td>\n",
              "      <td>Unf</td>\n",
              "      <td>0</td>\n",
              "      <td>150</td>\n",
              "      <td>856</td>\n",
              "      <td>GasA</td>\n",
              "      <td>Ex</td>\n",
              "      <td>Y</td>\n",
              "      <td>SBrkr</td>\n",
              "      <td>856</td>\n",
              "      <td>854</td>\n",
              "      <td>0</td>\n",
              "      <td>1710</td>\n",
              "      <td>1</td>\n",
              "      <td>0</td>\n",
              "      <td>2</td>\n",
              "      <td>1</td>\n",
              "      <td>3</td>\n",
              "      <td>1</td>\n",
              "      <td>Gd</td>\n",
              "      <td>8</td>\n",
              "      <td>Typ</td>\n",
              "      <td>0</td>\n",
              "      <td>2003.0</td>\n",
              "      <td>RFn</td>\n",
              "      <td>2</td>\n",
              "      <td>548</td>\n",
              "      <td>TA</td>\n",
              "      <td>Y</td>\n",
              "      <td>0</td>\n",
              "      <td>61</td>\n",
              "      <td>0</td>\n",
              "      <td>0</td>\n",
              "      <td>0</td>\n",
              "      <td>0</td>\n",
              "      <td>0</td>\n",
              "      <td>2</td>\n",
              "      <td>2008</td>\n",
              "      <td>WD</td>\n",
              "      <td>Normal</td>\n",
              "      <td>208500</td>\n",
              "    </tr>\n",
              "    <tr>\n",
              "      <th>1</th>\n",
              "      <td>2</td>\n",
              "      <td>20</td>\n",
              "      <td>RL</td>\n",
              "      <td>9600</td>\n",
              "      <td>Pave</td>\n",
              "      <td>Reg</td>\n",
              "      <td>Lvl</td>\n",
              "      <td>AllPub</td>\n",
              "      <td>FR2</td>\n",
              "      <td>Gtl</td>\n",
              "      <td>Veenker</td>\n",
              "      <td>Feedr</td>\n",
              "      <td>Norm</td>\n",
              "      <td>1Fam</td>\n",
              "      <td>1Story</td>\n",
              "      <td>6</td>\n",
              "      <td>8</td>\n",
              "      <td>1976</td>\n",
              "      <td>1976</td>\n",
              "      <td>Gable</td>\n",
              "      <td>CompShg</td>\n",
              "      <td>MetalSd</td>\n",
              "      <td>MetalSd</td>\n",
              "      <td>None</td>\n",
              "      <td>0.0</td>\n",
              "      <td>TA</td>\n",
              "      <td>TA</td>\n",
              "      <td>CBlock</td>\n",
              "      <td>Gd</td>\n",
              "      <td>TA</td>\n",
              "      <td>Gd</td>\n",
              "      <td>ALQ</td>\n",
              "      <td>978</td>\n",
              "      <td>Unf</td>\n",
              "      <td>0</td>\n",
              "      <td>284</td>\n",
              "      <td>1262</td>\n",
              "      <td>GasA</td>\n",
              "      <td>Ex</td>\n",
              "      <td>Y</td>\n",
              "      <td>SBrkr</td>\n",
              "      <td>1262</td>\n",
              "      <td>0</td>\n",
              "      <td>0</td>\n",
              "      <td>1262</td>\n",
              "      <td>0</td>\n",
              "      <td>1</td>\n",
              "      <td>2</td>\n",
              "      <td>0</td>\n",
              "      <td>3</td>\n",
              "      <td>1</td>\n",
              "      <td>TA</td>\n",
              "      <td>6</td>\n",
              "      <td>Typ</td>\n",
              "      <td>1</td>\n",
              "      <td>1976.0</td>\n",
              "      <td>RFn</td>\n",
              "      <td>2</td>\n",
              "      <td>460</td>\n",
              "      <td>TA</td>\n",
              "      <td>Y</td>\n",
              "      <td>298</td>\n",
              "      <td>0</td>\n",
              "      <td>0</td>\n",
              "      <td>0</td>\n",
              "      <td>0</td>\n",
              "      <td>0</td>\n",
              "      <td>0</td>\n",
              "      <td>5</td>\n",
              "      <td>2007</td>\n",
              "      <td>WD</td>\n",
              "      <td>Normal</td>\n",
              "      <td>181500</td>\n",
              "    </tr>\n",
              "    <tr>\n",
              "      <th>2</th>\n",
              "      <td>3</td>\n",
              "      <td>60</td>\n",
              "      <td>RL</td>\n",
              "      <td>11250</td>\n",
              "      <td>Pave</td>\n",
              "      <td>IR1</td>\n",
              "      <td>Lvl</td>\n",
              "      <td>AllPub</td>\n",
              "      <td>Inside</td>\n",
              "      <td>Gtl</td>\n",
              "      <td>CollgCr</td>\n",
              "      <td>Norm</td>\n",
              "      <td>Norm</td>\n",
              "      <td>1Fam</td>\n",
              "      <td>2Story</td>\n",
              "      <td>7</td>\n",
              "      <td>5</td>\n",
              "      <td>2001</td>\n",
              "      <td>2002</td>\n",
              "      <td>Gable</td>\n",
              "      <td>CompShg</td>\n",
              "      <td>VinylSd</td>\n",
              "      <td>VinylSd</td>\n",
              "      <td>BrkFace</td>\n",
              "      <td>162.0</td>\n",
              "      <td>Gd</td>\n",
              "      <td>TA</td>\n",
              "      <td>PConc</td>\n",
              "      <td>Gd</td>\n",
              "      <td>TA</td>\n",
              "      <td>Mn</td>\n",
              "      <td>GLQ</td>\n",
              "      <td>486</td>\n",
              "      <td>Unf</td>\n",
              "      <td>0</td>\n",
              "      <td>434</td>\n",
              "      <td>920</td>\n",
              "      <td>GasA</td>\n",
              "      <td>Ex</td>\n",
              "      <td>Y</td>\n",
              "      <td>SBrkr</td>\n",
              "      <td>920</td>\n",
              "      <td>866</td>\n",
              "      <td>0</td>\n",
              "      <td>1786</td>\n",
              "      <td>1</td>\n",
              "      <td>0</td>\n",
              "      <td>2</td>\n",
              "      <td>1</td>\n",
              "      <td>3</td>\n",
              "      <td>1</td>\n",
              "      <td>Gd</td>\n",
              "      <td>6</td>\n",
              "      <td>Typ</td>\n",
              "      <td>1</td>\n",
              "      <td>2001.0</td>\n",
              "      <td>RFn</td>\n",
              "      <td>2</td>\n",
              "      <td>608</td>\n",
              "      <td>TA</td>\n",
              "      <td>Y</td>\n",
              "      <td>0</td>\n",
              "      <td>42</td>\n",
              "      <td>0</td>\n",
              "      <td>0</td>\n",
              "      <td>0</td>\n",
              "      <td>0</td>\n",
              "      <td>0</td>\n",
              "      <td>9</td>\n",
              "      <td>2008</td>\n",
              "      <td>WD</td>\n",
              "      <td>Normal</td>\n",
              "      <td>223500</td>\n",
              "    </tr>\n",
              "    <tr>\n",
              "      <th>3</th>\n",
              "      <td>4</td>\n",
              "      <td>70</td>\n",
              "      <td>RL</td>\n",
              "      <td>9550</td>\n",
              "      <td>Pave</td>\n",
              "      <td>IR1</td>\n",
              "      <td>Lvl</td>\n",
              "      <td>AllPub</td>\n",
              "      <td>Corner</td>\n",
              "      <td>Gtl</td>\n",
              "      <td>Crawfor</td>\n",
              "      <td>Norm</td>\n",
              "      <td>Norm</td>\n",
              "      <td>1Fam</td>\n",
              "      <td>2Story</td>\n",
              "      <td>7</td>\n",
              "      <td>5</td>\n",
              "      <td>1915</td>\n",
              "      <td>1970</td>\n",
              "      <td>Gable</td>\n",
              "      <td>CompShg</td>\n",
              "      <td>Wd Sdng</td>\n",
              "      <td>Wd Shng</td>\n",
              "      <td>None</td>\n",
              "      <td>0.0</td>\n",
              "      <td>TA</td>\n",
              "      <td>TA</td>\n",
              "      <td>BrkTil</td>\n",
              "      <td>TA</td>\n",
              "      <td>Gd</td>\n",
              "      <td>No</td>\n",
              "      <td>ALQ</td>\n",
              "      <td>216</td>\n",
              "      <td>Unf</td>\n",
              "      <td>0</td>\n",
              "      <td>540</td>\n",
              "      <td>756</td>\n",
              "      <td>GasA</td>\n",
              "      <td>Gd</td>\n",
              "      <td>Y</td>\n",
              "      <td>SBrkr</td>\n",
              "      <td>961</td>\n",
              "      <td>756</td>\n",
              "      <td>0</td>\n",
              "      <td>1717</td>\n",
              "      <td>1</td>\n",
              "      <td>0</td>\n",
              "      <td>1</td>\n",
              "      <td>0</td>\n",
              "      <td>3</td>\n",
              "      <td>1</td>\n",
              "      <td>Gd</td>\n",
              "      <td>7</td>\n",
              "      <td>Typ</td>\n",
              "      <td>1</td>\n",
              "      <td>1998.0</td>\n",
              "      <td>Unf</td>\n",
              "      <td>3</td>\n",
              "      <td>642</td>\n",
              "      <td>TA</td>\n",
              "      <td>Y</td>\n",
              "      <td>0</td>\n",
              "      <td>35</td>\n",
              "      <td>272</td>\n",
              "      <td>0</td>\n",
              "      <td>0</td>\n",
              "      <td>0</td>\n",
              "      <td>0</td>\n",
              "      <td>2</td>\n",
              "      <td>2006</td>\n",
              "      <td>WD</td>\n",
              "      <td>Abnorml</td>\n",
              "      <td>140000</td>\n",
              "    </tr>\n",
              "    <tr>\n",
              "      <th>4</th>\n",
              "      <td>5</td>\n",
              "      <td>60</td>\n",
              "      <td>RL</td>\n",
              "      <td>14260</td>\n",
              "      <td>Pave</td>\n",
              "      <td>IR1</td>\n",
              "      <td>Lvl</td>\n",
              "      <td>AllPub</td>\n",
              "      <td>FR2</td>\n",
              "      <td>Gtl</td>\n",
              "      <td>NoRidge</td>\n",
              "      <td>Norm</td>\n",
              "      <td>Norm</td>\n",
              "      <td>1Fam</td>\n",
              "      <td>2Story</td>\n",
              "      <td>8</td>\n",
              "      <td>5</td>\n",
              "      <td>2000</td>\n",
              "      <td>2000</td>\n",
              "      <td>Gable</td>\n",
              "      <td>CompShg</td>\n",
              "      <td>VinylSd</td>\n",
              "      <td>VinylSd</td>\n",
              "      <td>BrkFace</td>\n",
              "      <td>350.0</td>\n",
              "      <td>Gd</td>\n",
              "      <td>TA</td>\n",
              "      <td>PConc</td>\n",
              "      <td>Gd</td>\n",
              "      <td>TA</td>\n",
              "      <td>Av</td>\n",
              "      <td>GLQ</td>\n",
              "      <td>655</td>\n",
              "      <td>Unf</td>\n",
              "      <td>0</td>\n",
              "      <td>490</td>\n",
              "      <td>1145</td>\n",
              "      <td>GasA</td>\n",
              "      <td>Ex</td>\n",
              "      <td>Y</td>\n",
              "      <td>SBrkr</td>\n",
              "      <td>1145</td>\n",
              "      <td>1053</td>\n",
              "      <td>0</td>\n",
              "      <td>2198</td>\n",
              "      <td>1</td>\n",
              "      <td>0</td>\n",
              "      <td>2</td>\n",
              "      <td>1</td>\n",
              "      <td>4</td>\n",
              "      <td>1</td>\n",
              "      <td>Gd</td>\n",
              "      <td>9</td>\n",
              "      <td>Typ</td>\n",
              "      <td>1</td>\n",
              "      <td>2000.0</td>\n",
              "      <td>RFn</td>\n",
              "      <td>3</td>\n",
              "      <td>836</td>\n",
              "      <td>TA</td>\n",
              "      <td>Y</td>\n",
              "      <td>192</td>\n",
              "      <td>84</td>\n",
              "      <td>0</td>\n",
              "      <td>0</td>\n",
              "      <td>0</td>\n",
              "      <td>0</td>\n",
              "      <td>0</td>\n",
              "      <td>12</td>\n",
              "      <td>2008</td>\n",
              "      <td>WD</td>\n",
              "      <td>Normal</td>\n",
              "      <td>250000</td>\n",
              "    </tr>\n",
              "    <tr>\n",
              "      <th>...</th>\n",
              "      <td>...</td>\n",
              "      <td>...</td>\n",
              "      <td>...</td>\n",
              "      <td>...</td>\n",
              "      <td>...</td>\n",
              "      <td>...</td>\n",
              "      <td>...</td>\n",
              "      <td>...</td>\n",
              "      <td>...</td>\n",
              "      <td>...</td>\n",
              "      <td>...</td>\n",
              "      <td>...</td>\n",
              "      <td>...</td>\n",
              "      <td>...</td>\n",
              "      <td>...</td>\n",
              "      <td>...</td>\n",
              "      <td>...</td>\n",
              "      <td>...</td>\n",
              "      <td>...</td>\n",
              "      <td>...</td>\n",
              "      <td>...</td>\n",
              "      <td>...</td>\n",
              "      <td>...</td>\n",
              "      <td>...</td>\n",
              "      <td>...</td>\n",
              "      <td>...</td>\n",
              "      <td>...</td>\n",
              "      <td>...</td>\n",
              "      <td>...</td>\n",
              "      <td>...</td>\n",
              "      <td>...</td>\n",
              "      <td>...</td>\n",
              "      <td>...</td>\n",
              "      <td>...</td>\n",
              "      <td>...</td>\n",
              "      <td>...</td>\n",
              "      <td>...</td>\n",
              "      <td>...</td>\n",
              "      <td>...</td>\n",
              "      <td>...</td>\n",
              "      <td>...</td>\n",
              "      <td>...</td>\n",
              "      <td>...</td>\n",
              "      <td>...</td>\n",
              "      <td>...</td>\n",
              "      <td>...</td>\n",
              "      <td>...</td>\n",
              "      <td>...</td>\n",
              "      <td>...</td>\n",
              "      <td>...</td>\n",
              "      <td>...</td>\n",
              "      <td>...</td>\n",
              "      <td>...</td>\n",
              "      <td>...</td>\n",
              "      <td>...</td>\n",
              "      <td>...</td>\n",
              "      <td>...</td>\n",
              "      <td>...</td>\n",
              "      <td>...</td>\n",
              "      <td>...</td>\n",
              "      <td>...</td>\n",
              "      <td>...</td>\n",
              "      <td>...</td>\n",
              "      <td>...</td>\n",
              "      <td>...</td>\n",
              "      <td>...</td>\n",
              "      <td>...</td>\n",
              "      <td>...</td>\n",
              "      <td>...</td>\n",
              "      <td>...</td>\n",
              "      <td>...</td>\n",
              "      <td>...</td>\n",
              "      <td>...</td>\n",
              "    </tr>\n",
              "    <tr>\n",
              "      <th>1455</th>\n",
              "      <td>1456</td>\n",
              "      <td>60</td>\n",
              "      <td>RL</td>\n",
              "      <td>7917</td>\n",
              "      <td>Pave</td>\n",
              "      <td>Reg</td>\n",
              "      <td>Lvl</td>\n",
              "      <td>AllPub</td>\n",
              "      <td>Inside</td>\n",
              "      <td>Gtl</td>\n",
              "      <td>Gilbert</td>\n",
              "      <td>Norm</td>\n",
              "      <td>Norm</td>\n",
              "      <td>1Fam</td>\n",
              "      <td>2Story</td>\n",
              "      <td>6</td>\n",
              "      <td>5</td>\n",
              "      <td>1999</td>\n",
              "      <td>2000</td>\n",
              "      <td>Gable</td>\n",
              "      <td>CompShg</td>\n",
              "      <td>VinylSd</td>\n",
              "      <td>VinylSd</td>\n",
              "      <td>None</td>\n",
              "      <td>0.0</td>\n",
              "      <td>TA</td>\n",
              "      <td>TA</td>\n",
              "      <td>PConc</td>\n",
              "      <td>Gd</td>\n",
              "      <td>TA</td>\n",
              "      <td>No</td>\n",
              "      <td>Unf</td>\n",
              "      <td>0</td>\n",
              "      <td>Unf</td>\n",
              "      <td>0</td>\n",
              "      <td>953</td>\n",
              "      <td>953</td>\n",
              "      <td>GasA</td>\n",
              "      <td>Ex</td>\n",
              "      <td>Y</td>\n",
              "      <td>SBrkr</td>\n",
              "      <td>953</td>\n",
              "      <td>694</td>\n",
              "      <td>0</td>\n",
              "      <td>1647</td>\n",
              "      <td>0</td>\n",
              "      <td>0</td>\n",
              "      <td>2</td>\n",
              "      <td>1</td>\n",
              "      <td>3</td>\n",
              "      <td>1</td>\n",
              "      <td>TA</td>\n",
              "      <td>7</td>\n",
              "      <td>Typ</td>\n",
              "      <td>1</td>\n",
              "      <td>1999.0</td>\n",
              "      <td>RFn</td>\n",
              "      <td>2</td>\n",
              "      <td>460</td>\n",
              "      <td>TA</td>\n",
              "      <td>Y</td>\n",
              "      <td>0</td>\n",
              "      <td>40</td>\n",
              "      <td>0</td>\n",
              "      <td>0</td>\n",
              "      <td>0</td>\n",
              "      <td>0</td>\n",
              "      <td>0</td>\n",
              "      <td>8</td>\n",
              "      <td>2007</td>\n",
              "      <td>WD</td>\n",
              "      <td>Normal</td>\n",
              "      <td>175000</td>\n",
              "    </tr>\n",
              "    <tr>\n",
              "      <th>1456</th>\n",
              "      <td>1457</td>\n",
              "      <td>20</td>\n",
              "      <td>RL</td>\n",
              "      <td>13175</td>\n",
              "      <td>Pave</td>\n",
              "      <td>Reg</td>\n",
              "      <td>Lvl</td>\n",
              "      <td>AllPub</td>\n",
              "      <td>Inside</td>\n",
              "      <td>Gtl</td>\n",
              "      <td>NWAmes</td>\n",
              "      <td>Norm</td>\n",
              "      <td>Norm</td>\n",
              "      <td>1Fam</td>\n",
              "      <td>1Story</td>\n",
              "      <td>6</td>\n",
              "      <td>6</td>\n",
              "      <td>1978</td>\n",
              "      <td>1988</td>\n",
              "      <td>Gable</td>\n",
              "      <td>CompShg</td>\n",
              "      <td>Plywood</td>\n",
              "      <td>Plywood</td>\n",
              "      <td>Stone</td>\n",
              "      <td>119.0</td>\n",
              "      <td>TA</td>\n",
              "      <td>TA</td>\n",
              "      <td>CBlock</td>\n",
              "      <td>Gd</td>\n",
              "      <td>TA</td>\n",
              "      <td>No</td>\n",
              "      <td>ALQ</td>\n",
              "      <td>790</td>\n",
              "      <td>Rec</td>\n",
              "      <td>163</td>\n",
              "      <td>589</td>\n",
              "      <td>1542</td>\n",
              "      <td>GasA</td>\n",
              "      <td>TA</td>\n",
              "      <td>Y</td>\n",
              "      <td>SBrkr</td>\n",
              "      <td>2073</td>\n",
              "      <td>0</td>\n",
              "      <td>0</td>\n",
              "      <td>2073</td>\n",
              "      <td>1</td>\n",
              "      <td>0</td>\n",
              "      <td>2</td>\n",
              "      <td>0</td>\n",
              "      <td>3</td>\n",
              "      <td>1</td>\n",
              "      <td>TA</td>\n",
              "      <td>7</td>\n",
              "      <td>Min1</td>\n",
              "      <td>2</td>\n",
              "      <td>1978.0</td>\n",
              "      <td>Unf</td>\n",
              "      <td>2</td>\n",
              "      <td>500</td>\n",
              "      <td>TA</td>\n",
              "      <td>Y</td>\n",
              "      <td>349</td>\n",
              "      <td>0</td>\n",
              "      <td>0</td>\n",
              "      <td>0</td>\n",
              "      <td>0</td>\n",
              "      <td>0</td>\n",
              "      <td>0</td>\n",
              "      <td>2</td>\n",
              "      <td>2010</td>\n",
              "      <td>WD</td>\n",
              "      <td>Normal</td>\n",
              "      <td>210000</td>\n",
              "    </tr>\n",
              "    <tr>\n",
              "      <th>1457</th>\n",
              "      <td>1458</td>\n",
              "      <td>70</td>\n",
              "      <td>RL</td>\n",
              "      <td>9042</td>\n",
              "      <td>Pave</td>\n",
              "      <td>Reg</td>\n",
              "      <td>Lvl</td>\n",
              "      <td>AllPub</td>\n",
              "      <td>Inside</td>\n",
              "      <td>Gtl</td>\n",
              "      <td>Crawfor</td>\n",
              "      <td>Norm</td>\n",
              "      <td>Norm</td>\n",
              "      <td>1Fam</td>\n",
              "      <td>2Story</td>\n",
              "      <td>7</td>\n",
              "      <td>9</td>\n",
              "      <td>1941</td>\n",
              "      <td>2006</td>\n",
              "      <td>Gable</td>\n",
              "      <td>CompShg</td>\n",
              "      <td>CemntBd</td>\n",
              "      <td>CmentBd</td>\n",
              "      <td>None</td>\n",
              "      <td>0.0</td>\n",
              "      <td>Ex</td>\n",
              "      <td>Gd</td>\n",
              "      <td>Stone</td>\n",
              "      <td>TA</td>\n",
              "      <td>Gd</td>\n",
              "      <td>No</td>\n",
              "      <td>GLQ</td>\n",
              "      <td>275</td>\n",
              "      <td>Unf</td>\n",
              "      <td>0</td>\n",
              "      <td>877</td>\n",
              "      <td>1152</td>\n",
              "      <td>GasA</td>\n",
              "      <td>Ex</td>\n",
              "      <td>Y</td>\n",
              "      <td>SBrkr</td>\n",
              "      <td>1188</td>\n",
              "      <td>1152</td>\n",
              "      <td>0</td>\n",
              "      <td>2340</td>\n",
              "      <td>0</td>\n",
              "      <td>0</td>\n",
              "      <td>2</td>\n",
              "      <td>0</td>\n",
              "      <td>4</td>\n",
              "      <td>1</td>\n",
              "      <td>Gd</td>\n",
              "      <td>9</td>\n",
              "      <td>Typ</td>\n",
              "      <td>2</td>\n",
              "      <td>1941.0</td>\n",
              "      <td>RFn</td>\n",
              "      <td>1</td>\n",
              "      <td>252</td>\n",
              "      <td>TA</td>\n",
              "      <td>Y</td>\n",
              "      <td>0</td>\n",
              "      <td>60</td>\n",
              "      <td>0</td>\n",
              "      <td>0</td>\n",
              "      <td>0</td>\n",
              "      <td>0</td>\n",
              "      <td>2500</td>\n",
              "      <td>5</td>\n",
              "      <td>2010</td>\n",
              "      <td>WD</td>\n",
              "      <td>Normal</td>\n",
              "      <td>266500</td>\n",
              "    </tr>\n",
              "    <tr>\n",
              "      <th>1458</th>\n",
              "      <td>1459</td>\n",
              "      <td>20</td>\n",
              "      <td>RL</td>\n",
              "      <td>9717</td>\n",
              "      <td>Pave</td>\n",
              "      <td>Reg</td>\n",
              "      <td>Lvl</td>\n",
              "      <td>AllPub</td>\n",
              "      <td>Inside</td>\n",
              "      <td>Gtl</td>\n",
              "      <td>NAmes</td>\n",
              "      <td>Norm</td>\n",
              "      <td>Norm</td>\n",
              "      <td>1Fam</td>\n",
              "      <td>1Story</td>\n",
              "      <td>5</td>\n",
              "      <td>6</td>\n",
              "      <td>1950</td>\n",
              "      <td>1996</td>\n",
              "      <td>Hip</td>\n",
              "      <td>CompShg</td>\n",
              "      <td>MetalSd</td>\n",
              "      <td>MetalSd</td>\n",
              "      <td>None</td>\n",
              "      <td>0.0</td>\n",
              "      <td>TA</td>\n",
              "      <td>TA</td>\n",
              "      <td>CBlock</td>\n",
              "      <td>TA</td>\n",
              "      <td>TA</td>\n",
              "      <td>Mn</td>\n",
              "      <td>GLQ</td>\n",
              "      <td>49</td>\n",
              "      <td>Rec</td>\n",
              "      <td>1029</td>\n",
              "      <td>0</td>\n",
              "      <td>1078</td>\n",
              "      <td>GasA</td>\n",
              "      <td>Gd</td>\n",
              "      <td>Y</td>\n",
              "      <td>FuseA</td>\n",
              "      <td>1078</td>\n",
              "      <td>0</td>\n",
              "      <td>0</td>\n",
              "      <td>1078</td>\n",
              "      <td>1</td>\n",
              "      <td>0</td>\n",
              "      <td>1</td>\n",
              "      <td>0</td>\n",
              "      <td>2</td>\n",
              "      <td>1</td>\n",
              "      <td>Gd</td>\n",
              "      <td>5</td>\n",
              "      <td>Typ</td>\n",
              "      <td>0</td>\n",
              "      <td>1950.0</td>\n",
              "      <td>Unf</td>\n",
              "      <td>1</td>\n",
              "      <td>240</td>\n",
              "      <td>TA</td>\n",
              "      <td>Y</td>\n",
              "      <td>366</td>\n",
              "      <td>0</td>\n",
              "      <td>112</td>\n",
              "      <td>0</td>\n",
              "      <td>0</td>\n",
              "      <td>0</td>\n",
              "      <td>0</td>\n",
              "      <td>4</td>\n",
              "      <td>2010</td>\n",
              "      <td>WD</td>\n",
              "      <td>Normal</td>\n",
              "      <td>142125</td>\n",
              "    </tr>\n",
              "    <tr>\n",
              "      <th>1459</th>\n",
              "      <td>1460</td>\n",
              "      <td>20</td>\n",
              "      <td>RL</td>\n",
              "      <td>9937</td>\n",
              "      <td>Pave</td>\n",
              "      <td>Reg</td>\n",
              "      <td>Lvl</td>\n",
              "      <td>AllPub</td>\n",
              "      <td>Inside</td>\n",
              "      <td>Gtl</td>\n",
              "      <td>Edwards</td>\n",
              "      <td>Norm</td>\n",
              "      <td>Norm</td>\n",
              "      <td>1Fam</td>\n",
              "      <td>1Story</td>\n",
              "      <td>5</td>\n",
              "      <td>6</td>\n",
              "      <td>1965</td>\n",
              "      <td>1965</td>\n",
              "      <td>Gable</td>\n",
              "      <td>CompShg</td>\n",
              "      <td>HdBoard</td>\n",
              "      <td>HdBoard</td>\n",
              "      <td>None</td>\n",
              "      <td>0.0</td>\n",
              "      <td>Gd</td>\n",
              "      <td>TA</td>\n",
              "      <td>CBlock</td>\n",
              "      <td>TA</td>\n",
              "      <td>TA</td>\n",
              "      <td>No</td>\n",
              "      <td>BLQ</td>\n",
              "      <td>830</td>\n",
              "      <td>LwQ</td>\n",
              "      <td>290</td>\n",
              "      <td>136</td>\n",
              "      <td>1256</td>\n",
              "      <td>GasA</td>\n",
              "      <td>Gd</td>\n",
              "      <td>Y</td>\n",
              "      <td>SBrkr</td>\n",
              "      <td>1256</td>\n",
              "      <td>0</td>\n",
              "      <td>0</td>\n",
              "      <td>1256</td>\n",
              "      <td>1</td>\n",
              "      <td>0</td>\n",
              "      <td>1</td>\n",
              "      <td>1</td>\n",
              "      <td>3</td>\n",
              "      <td>1</td>\n",
              "      <td>TA</td>\n",
              "      <td>6</td>\n",
              "      <td>Typ</td>\n",
              "      <td>0</td>\n",
              "      <td>1965.0</td>\n",
              "      <td>Fin</td>\n",
              "      <td>1</td>\n",
              "      <td>276</td>\n",
              "      <td>TA</td>\n",
              "      <td>Y</td>\n",
              "      <td>736</td>\n",
              "      <td>68</td>\n",
              "      <td>0</td>\n",
              "      <td>0</td>\n",
              "      <td>0</td>\n",
              "      <td>0</td>\n",
              "      <td>0</td>\n",
              "      <td>6</td>\n",
              "      <td>2008</td>\n",
              "      <td>WD</td>\n",
              "      <td>Normal</td>\n",
              "      <td>147500</td>\n",
              "    </tr>\n",
              "  </tbody>\n",
              "</table>\n",
              "<p>1460 rows × 73 columns</p>\n",
              "</div>"
            ],
            "text/plain": [
              "        Id  MSSubClass MSZoning  ...  SaleType SaleCondition SalePrice\n",
              "0        1          60       RL  ...        WD        Normal    208500\n",
              "1        2          20       RL  ...        WD        Normal    181500\n",
              "2        3          60       RL  ...        WD        Normal    223500\n",
              "3        4          70       RL  ...        WD       Abnorml    140000\n",
              "4        5          60       RL  ...        WD        Normal    250000\n",
              "...    ...         ...      ...  ...       ...           ...       ...\n",
              "1455  1456          60       RL  ...        WD        Normal    175000\n",
              "1456  1457          20       RL  ...        WD        Normal    210000\n",
              "1457  1458          70       RL  ...        WD        Normal    266500\n",
              "1458  1459          20       RL  ...        WD        Normal    142125\n",
              "1459  1460          20       RL  ...        WD        Normal    147500\n",
              "\n",
              "[1460 rows x 73 columns]"
            ]
          },
          "metadata": {
            "tags": []
          },
          "execution_count": 70
        }
      ]
    },
    {
      "cell_type": "code",
      "metadata": {
        "id": "phsN17SSGoY3",
        "colab": {
          "base_uri": "https://localhost:8080/"
        },
        "outputId": "c99dd684-87f4-4ec3-eb29-2e9198f903e4"
      },
      "source": [
        "correlation=train.corr()\n",
        "#correlation with targert variable\n",
        "correlation[\"SalePrice\"].sort_values()"
      ],
      "execution_count": null,
      "outputs": [
        {
          "output_type": "execute_result",
          "data": {
            "text/plain": [
              "KitchenAbvGr    -0.135907\n",
              "EnclosedPorch   -0.128578\n",
              "MSSubClass      -0.084284\n",
              "OverallCond     -0.077856\n",
              "YrSold          -0.028923\n",
              "LowQualFinSF    -0.025606\n",
              "Id              -0.021917\n",
              "MiscVal         -0.021190\n",
              "BsmtHalfBath    -0.016844\n",
              "BsmtFinSF2      -0.011378\n",
              "3SsnPorch        0.044584\n",
              "MoSold           0.046432\n",
              "PoolArea         0.092404\n",
              "ScreenPorch      0.111447\n",
              "BedroomAbvGr     0.168213\n",
              "BsmtUnfSF        0.214479\n",
              "BsmtFullBath     0.227122\n",
              "LotArea          0.263843\n",
              "HalfBath         0.284108\n",
              "OpenPorchSF      0.315856\n",
              "2ndFlrSF         0.319334\n",
              "WoodDeckSF       0.324413\n",
              "LotFrontage      0.351799\n",
              "BsmtFinSF1       0.386420\n",
              "Fireplaces       0.466929\n",
              "MasVnrArea       0.477493\n",
              "GarageYrBlt      0.486362\n",
              "YearRemodAdd     0.507101\n",
              "YearBuilt        0.522897\n",
              "TotRmsAbvGrd     0.533723\n",
              "FullBath         0.560664\n",
              "1stFlrSF         0.605852\n",
              "TotalBsmtSF      0.613581\n",
              "GarageArea       0.623431\n",
              "GarageCars       0.640409\n",
              "GrLivArea        0.708624\n",
              "OverallQual      0.790982\n",
              "SalePrice        1.000000\n",
              "Name: SalePrice, dtype: float64"
            ]
          },
          "metadata": {
            "tags": []
          },
          "execution_count": 71
        }
      ]
    },
    {
      "cell_type": "code",
      "metadata": {
        "id": "AYz09qdk_QTV"
      },
      "source": [
        "train.fillna(train.mean(),inplace=True)\n",
        "X=train[['Fireplaces','MasVnrArea','GarageYrBlt','YearRemodAdd','YearBuilt','TotRmsAbvGrd','FullBath','1stFlrSF','TotalBsmtSF','GarageArea','GarageCars','GrLivArea','OverallQual']]\n",
        "Y=train[['SalePrice']]\n"
      ],
      "execution_count": null,
      "outputs": []
    },
    {
      "cell_type": "code",
      "metadata": {
        "id": "keXCQsjj6unr",
        "colab": {
          "base_uri": "https://localhost:8080/"
        },
        "outputId": "afec3aed-ae93-4399-a424-23ff04417846"
      },
      "source": [
        "from sklearn.model_selection import train_test_split\n",
        "X_train, X_test, y_train, y_test = train_test_split(X, Y, test_size=0.3, random_state=0)\n",
        "from sklearn.linear_model import LinearRegression\n",
        "regressor = LinearRegression()\n",
        "regressor.fit(X_train, y_train)"
      ],
      "execution_count": null,
      "outputs": [
        {
          "output_type": "execute_result",
          "data": {
            "text/plain": [
              "LinearRegression(copy_X=True, fit_intercept=True, n_jobs=None, normalize=False)"
            ]
          },
          "metadata": {
            "tags": []
          },
          "execution_count": 73
        }
      ]
    },
    {
      "cell_type": "code",
      "metadata": {
        "id": "e4JOT6QhJBab",
        "colab": {
          "base_uri": "https://localhost:8080/"
        },
        "outputId": "cd28fd02-a349-4994-cacd-f5a8a169b3f1"
      },
      "source": [
        "y_pred = regressor.predict(X_test)\n",
        "print('Linear Regression R squared\": %.4f' % regressor.score(X_test, y_test))"
      ],
      "execution_count": null,
      "outputs": [
        {
          "output_type": "stream",
          "text": [
            "Linear Regression R squared\": 0.7050\n"
          ],
          "name": "stdout"
        }
      ]
    },
    {
      "cell_type": "code",
      "metadata": {
        "id": "dsD53pNlJuH9",
        "colab": {
          "base_uri": "https://localhost:8080/"
        },
        "outputId": "73808ca8-5ed6-4cf4-f628-bc86a560e93b"
      },
      "source": [
        "test=pd.read_csv(\"/content/test.csv\")\n",
        "test.drop(['PoolQC','MiscFeature','Alley','Fence','FireplaceQu','LotFrontage','GarageCond','GarageType','GarageCond'],axis=1)\n",
        "test.fillna(test.mean(),inplace=True)\n",
        "test_x=test[['Fireplaces','MasVnrArea','GarageYrBlt','YearRemodAdd','YearBuilt','TotRmsAbvGrd','FullBath','1stFlrSF','TotalBsmtSF','GarageArea','GarageCars','GrLivArea','OverallQual']]\n",
        "\n",
        "y_pred=regressor.predict(test_x)\n",
        "y_pred[:20]\n"
      ],
      "execution_count": null,
      "outputs": [
        {
          "output_type": "execute_result",
          "data": {
            "text/plain": [
              "array([[121690.1260001 ],\n",
              "       [155514.99986051],\n",
              "       [173104.72522433],\n",
              "       [188181.91248921],\n",
              "       [203034.34217006],\n",
              "       [179885.80640825],\n",
              "       [163808.68140181],\n",
              "       [171541.52192993],\n",
              "       [205527.97654407],\n",
              "       [ 97438.63974576],\n",
              "       [209400.26814308],\n",
              "       [126223.92046709],\n",
              "       [119987.68720818],\n",
              "       [161983.42083162],\n",
              "       [134707.58805638],\n",
              "       [321864.69874074],\n",
              "       [262548.99029649],\n",
              "       [304870.83373567],\n",
              "       [284706.26682052],\n",
              "       [434457.66148398]])"
            ]
          },
          "metadata": {
            "tags": []
          },
          "execution_count": 75
        }
      ]
    }
  ]
}