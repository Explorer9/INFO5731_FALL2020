{
  "nbformat": 4,
  "nbformat_minor": 0,
  "metadata": {
    "colab": {
      "name": "BERT.ipynb",
      "provenance": [],
      "mount_file_id": "1wrJvRkuT-hM32aiqgjqwbSh7CVnErrIt",
      "authorship_tag": "ABX9TyMyMIu/sCauiQ6Ya9znzIIX",
      "include_colab_link": true
    },
    "kernelspec": {
      "name": "python3",
      "display_name": "Python 3"
    }
  },
  "cells": [
    {
      "cell_type": "markdown",
      "metadata": {
        "id": "view-in-github",
        "colab_type": "text"
      },
      "source": [
        "<a href=\"https://colab.research.google.com/github/Explorer9/INFO5731_FALL2020/blob/master/BERT.ipynb\" target=\"_parent\"><img src=\"https://colab.research.google.com/assets/colab-badge.svg\" alt=\"Open In Colab\"/></a>"
      ]
    },
    {
      "cell_type": "code",
      "metadata": {
        "id": "Wfp0S-rxF7e7"
      },
      "source": [
        "\n",
        "import pandas as pd\n",
        "import tarfile\n",
        "from sklearn.preprocessing import LabelEncoder\n",
        "from sklearn.model_selection import train_test_split\n",
        "import random "
      ],
      "execution_count": 34,
      "outputs": []
    },
    {
      "cell_type": "code",
      "metadata": {
        "id": "50MIwMYLmVBv",
        "outputId": "7640e7db-fa40-4c90-ae57-2eb626318f93",
        "colab": {
          "base_uri": "https://localhost:8080/"
        }
      },
      "source": [
        "!git clone https://github.com/google-research/bert.git"
      ],
      "execution_count": 70,
      "outputs": [
        {
          "output_type": "stream",
          "text": [
            "Cloning into 'bert'...\n",
            "remote: Enumerating objects: 340, done.\u001b[K\n",
            "remote: Total 340 (delta 0), reused 0 (delta 0), pack-reused 340\u001b[K\n",
            "Receiving objects: 100% (340/340), 317.85 KiB | 957.00 KiB/s, done.\n",
            "Resolving deltas: 100% (185/185), done.\n"
          ],
          "name": "stdout"
        }
      ]
    },
    {
      "cell_type": "code",
      "metadata": {
        "id": "HnyrJQg1mzoj",
        "outputId": "40d97b31-e3a1-4c8d-f79e-497a83f28d16",
        "colab": {
          "base_uri": "https://localhost:8080/"
        }
      },
      "source": [
        "!git clone https://storage.googleapis.com/bert_models/2018_10_18/uncased_L-12_H-768_A-12.zip"
      ],
      "execution_count": 71,
      "outputs": [
        {
          "output_type": "stream",
          "text": [
            "Cloning into 'uncased_L-12_H-768_A-12.zip'...\n",
            "fatal: unable to access 'https://storage.googleapis.com/bert_models/2018_10_18/uncased_L-12_H-768_A-12.zip/': The requested URL returned error: 403\n"
          ],
          "name": "stdout"
        }
      ]
    },
    {
      "cell_type": "code",
      "metadata": {
        "id": "y6SH3i8AGAOo",
        "outputId": "19c5a11d-d615-4171-c07a-9ed36b581ea5",
        "colab": {
          "base_uri": "https://localhost:8080/"
        }
      },
      "source": [
        "\n",
        "# Write your code here\n",
        "import pandas as pd\n",
        "import requests\n",
        "from bs4 import BeautifulSoup\n",
        "def insert_into_array(values,ref_array):\n",
        "  for i in values:\n",
        "    ref_array.append(i.text)\n",
        "URL=[\"https://www.imdb.com/title/tt7294534/reviews/_ajax?ref_=undefined&paginationKey=g4wp7djfquydczye7wthxnztqltmwcbhzfmxvlnomwklyczuf43o6ssypazfjmjddv4k4rk5izrbr2k7kbghholct5fuigy\",\"https://www.imdb.com/title/tt7294534/reviews/_ajax?ref_=undefined&paginationKey=g4wp7dbfqi3tizqg66uhhnzrrdt4ucbyy4hhzo5ziwr26fbyhvrl4ty4oqyvtprodfr5dtt3nlozdkpd6sssetvth324k3g7\",\"https://www.imdb.com/title/tt7294534/reviews/_ajax?ref_=undefined&paginationKey=g4wp7dbqsr3ximsatx5dz2dezxzyyrr72intd6pnaljzoplumbhlqx7ok6yfifxz3a76iui\",\"https://www.imdb.com/title/tt7294534/reviews/_ajax?ref_=undefined&paginationKey=g4wp7dbqsr3ximsatx5dz2dezxzyyrr73mptr4hfapjzpeaaaj5kx7i75r5y6odr55p7f2q\"]\n",
        "text=[]\n",
        "rating=[]\n",
        "review_title=[]\n",
        "for i in URL:\n",
        "  page=requests.get(i,headers={'User-Agent':'Chrome/85.0.4183.121'})\n",
        "  soup = BeautifulSoup(page.content, 'html.parser')\n",
        "  insert_into_array(soup.find_all('div', class_='text show-more__control'),text)\n",
        "  insert_into_array(soup.find_all('a',class_='title'),review_title)\n",
        "  insert_into_array(soup.find_all(name='span',class_='rating-other-user-rating'),rating)\n",
        "imdb_df=pd.DataFrame({'comment':text,'review_title':review_title})\n",
        "imdb_df.to_csv(\"imbd\")\n",
        "print(imdb_df[:6])"
      ],
      "execution_count": 35,
      "outputs": [
        {
          "output_type": "stream",
          "text": [
            "                                             comment                                       review_title\n",
            "0  I can't understand what's so path breaking, in...                                 A wannabe Devdas\\n\n",
            "1  I have personally known people like Arjun Redd...   Arjun Reddy is a person who sees world in bla...\n",
            "2  Best acting , mind blowing background scores d...    One of the realistic movie in Telugu industry\\n\n",
            "3  If \"Rashmika Mandanna\" was Preethi\\nIt would b...                                               IF\\n\n",
            "4  Arjun Reddy is a story in purest. Its fresh, l...                   A milestone in romantic genre.\\n\n",
            "5  The movie displays plain and uncensored drug a...                                          Unique.\\n\n"
          ],
          "name": "stdout"
        }
      ]
    },
    {
      "cell_type": "code",
      "metadata": {
        "id": "MoRZDEJyGLds",
        "outputId": "4211e866-75af-4caa-8154-8fb6090b5cf6",
        "colab": {
          "base_uri": "https://localhost:8080/",
          "height": 194
        }
      },
      "source": [
        "train_df = imdb_df['comment'][:50].to_frame()\n",
        "train_df['sentiment']=''\n",
        "for i in range(len(train_df)):\n",
        "  train_df['sentiment'][i]=random.choice([0,1]) \n",
        "train_df.columns = range(train_df.shape[1])\n",
        "train_df.head()"
      ],
      "execution_count": 36,
      "outputs": [
        {
          "output_type": "execute_result",
          "data": {
            "text/html": [
              "<div>\n",
              "<style scoped>\n",
              "    .dataframe tbody tr th:only-of-type {\n",
              "        vertical-align: middle;\n",
              "    }\n",
              "\n",
              "    .dataframe tbody tr th {\n",
              "        vertical-align: top;\n",
              "    }\n",
              "\n",
              "    .dataframe thead th {\n",
              "        text-align: right;\n",
              "    }\n",
              "</style>\n",
              "<table border=\"1\" class=\"dataframe\">\n",
              "  <thead>\n",
              "    <tr style=\"text-align: right;\">\n",
              "      <th></th>\n",
              "      <th>0</th>\n",
              "      <th>1</th>\n",
              "    </tr>\n",
              "  </thead>\n",
              "  <tbody>\n",
              "    <tr>\n",
              "      <th>0</th>\n",
              "      <td>I can't understand what's so path breaking, in...</td>\n",
              "      <td>1</td>\n",
              "    </tr>\n",
              "    <tr>\n",
              "      <th>1</th>\n",
              "      <td>I have personally known people like Arjun Redd...</td>\n",
              "      <td>1</td>\n",
              "    </tr>\n",
              "    <tr>\n",
              "      <th>2</th>\n",
              "      <td>Best acting , mind blowing background scores d...</td>\n",
              "      <td>1</td>\n",
              "    </tr>\n",
              "    <tr>\n",
              "      <th>3</th>\n",
              "      <td>If \"Rashmika Mandanna\" was Preethi\\nIt would b...</td>\n",
              "      <td>1</td>\n",
              "    </tr>\n",
              "    <tr>\n",
              "      <th>4</th>\n",
              "      <td>Arjun Reddy is a story in purest. Its fresh, l...</td>\n",
              "      <td>1</td>\n",
              "    </tr>\n",
              "  </tbody>\n",
              "</table>\n",
              "</div>"
            ],
            "text/plain": [
              "                                                   0  1\n",
              "0  I can't understand what's so path breaking, in...  1\n",
              "1  I have personally known people like Arjun Redd...  1\n",
              "2  Best acting , mind blowing background scores d...  1\n",
              "3  If \"Rashmika Mandanna\" was Preethi\\nIt would b...  1\n",
              "4  Arjun Reddy is a story in purest. Its fresh, l...  1"
            ]
          },
          "metadata": {
            "tags": []
          },
          "execution_count": 36
        }
      ]
    },
    {
      "cell_type": "code",
      "metadata": {
        "id": "6qtWD5mYGtew",
        "outputId": "50ce8641-db7a-4186-eb75-a241649c626b",
        "colab": {
          "base_uri": "https://localhost:8080/",
          "height": 194
        }
      },
      "source": [
        "test_df = imdb_df['comment'][50:80].to_frame()\n",
        "test_df['sentiment']=''\n",
        "for i in range(len(test_df)):\n",
        "  test_df['sentiment'][i]=random.choice([0,1]) \n",
        "test_df.columns = range(test_df.shape[1])\n",
        "train_df.head()\n"
      ],
      "execution_count": 37,
      "outputs": [
        {
          "output_type": "execute_result",
          "data": {
            "text/html": [
              "<div>\n",
              "<style scoped>\n",
              "    .dataframe tbody tr th:only-of-type {\n",
              "        vertical-align: middle;\n",
              "    }\n",
              "\n",
              "    .dataframe tbody tr th {\n",
              "        vertical-align: top;\n",
              "    }\n",
              "\n",
              "    .dataframe thead th {\n",
              "        text-align: right;\n",
              "    }\n",
              "</style>\n",
              "<table border=\"1\" class=\"dataframe\">\n",
              "  <thead>\n",
              "    <tr style=\"text-align: right;\">\n",
              "      <th></th>\n",
              "      <th>0</th>\n",
              "      <th>1</th>\n",
              "    </tr>\n",
              "  </thead>\n",
              "  <tbody>\n",
              "    <tr>\n",
              "      <th>0</th>\n",
              "      <td>I can't understand what's so path breaking, in...</td>\n",
              "      <td>1</td>\n",
              "    </tr>\n",
              "    <tr>\n",
              "      <th>1</th>\n",
              "      <td>I have personally known people like Arjun Redd...</td>\n",
              "      <td>1</td>\n",
              "    </tr>\n",
              "    <tr>\n",
              "      <th>2</th>\n",
              "      <td>Best acting , mind blowing background scores d...</td>\n",
              "      <td>1</td>\n",
              "    </tr>\n",
              "    <tr>\n",
              "      <th>3</th>\n",
              "      <td>If \"Rashmika Mandanna\" was Preethi\\nIt would b...</td>\n",
              "      <td>1</td>\n",
              "    </tr>\n",
              "    <tr>\n",
              "      <th>4</th>\n",
              "      <td>Arjun Reddy is a story in purest. Its fresh, l...</td>\n",
              "      <td>1</td>\n",
              "    </tr>\n",
              "  </tbody>\n",
              "</table>\n",
              "</div>"
            ],
            "text/plain": [
              "                                                   0  1\n",
              "0  I can't understand what's so path breaking, in...  1\n",
              "1  I have personally known people like Arjun Redd...  1\n",
              "2  Best acting , mind blowing background scores d...  1\n",
              "3  If \"Rashmika Mandanna\" was Preethi\\nIt would b...  1\n",
              "4  Arjun Reddy is a story in purest. Its fresh, l...  1"
            ]
          },
          "metadata": {
            "tags": []
          },
          "execution_count": 37
        }
      ]
    },
    {
      "cell_type": "code",
      "metadata": {
        "id": "rmC5ul4RHEnD",
        "outputId": "9c40434b-c21a-46bd-85be-60c9ce08b4c5",
        "colab": {
          "base_uri": "https://localhost:8080/",
          "height": 194
        }
      },
      "source": [
        "a={'id':range(len(train_df)),'label':train_df[1],'alpha':['a']*train_df.shape[1],'text': train_df[0].replace(r'\\n', ' ', regex=True)}\n",
        "df_bert = pd.DataFrame.from_dict(a, orient='index')\n",
        "df_bert = df_bert.transpose()\n",
        "\n",
        "# Splitting training data file into *train* and *dev*\n",
        "df_bert_train, df_bert_dev = train_test_split(df_bert, test_size=0.01)\n",
        "\n",
        "df_bert_train.head()"
      ],
      "execution_count": 65,
      "outputs": [
        {
          "output_type": "execute_result",
          "data": {
            "text/html": [
              "<div>\n",
              "<style scoped>\n",
              "    .dataframe tbody tr th:only-of-type {\n",
              "        vertical-align: middle;\n",
              "    }\n",
              "\n",
              "    .dataframe tbody tr th {\n",
              "        vertical-align: top;\n",
              "    }\n",
              "\n",
              "    .dataframe thead th {\n",
              "        text-align: right;\n",
              "    }\n",
              "</style>\n",
              "<table border=\"1\" class=\"dataframe\">\n",
              "  <thead>\n",
              "    <tr style=\"text-align: right;\">\n",
              "      <th></th>\n",
              "      <th>id</th>\n",
              "      <th>label</th>\n",
              "      <th>alpha</th>\n",
              "      <th>text</th>\n",
              "    </tr>\n",
              "  </thead>\n",
              "  <tbody>\n",
              "    <tr>\n",
              "      <th>10</th>\n",
              "      <td>10</td>\n",
              "      <td>1</td>\n",
              "      <td>None</td>\n",
              "      <td>An absolute masterpiece. Not to be missed. I'v...</td>\n",
              "    </tr>\n",
              "    <tr>\n",
              "      <th>40</th>\n",
              "      <td>40</td>\n",
              "      <td>1</td>\n",
              "      <td>None</td>\n",
              "      <td>What a experience omg was totally blown away f...</td>\n",
              "    </tr>\n",
              "    <tr>\n",
              "      <th>2</th>\n",
              "      <td>2</td>\n",
              "      <td>1</td>\n",
              "      <td>None</td>\n",
              "      <td>Best acting , mind blowing background scores d...</td>\n",
              "    </tr>\n",
              "    <tr>\n",
              "      <th>15</th>\n",
              "      <td>15</td>\n",
              "      <td>1</td>\n",
              "      <td>None</td>\n",
              "      <td>People who never had a relationship or have a ...</td>\n",
              "    </tr>\n",
              "    <tr>\n",
              "      <th>23</th>\n",
              "      <td>23</td>\n",
              "      <td>0</td>\n",
              "      <td>None</td>\n",
              "      <td>The best there was, the best there is and prob...</td>\n",
              "    </tr>\n",
              "  </tbody>\n",
              "</table>\n",
              "</div>"
            ],
            "text/plain": [
              "    id label alpha                                               text\n",
              "10  10     1  None  An absolute masterpiece. Not to be missed. I'v...\n",
              "40  40     1  None  What a experience omg was totally blown away f...\n",
              "2    2     1  None  Best acting , mind blowing background scores d...\n",
              "15  15     1  None  People who never had a relationship or have a ...\n",
              "23  23     0  None  The best there was, the best there is and prob..."
            ]
          },
          "metadata": {
            "tags": []
          },
          "execution_count": 65
        }
      ]
    },
    {
      "cell_type": "code",
      "metadata": {
        "id": "xFl6ZR1_NMfz",
        "outputId": "bedb4b71-eb2c-40dc-aacb-64b8886590ca",
        "colab": {
          "base_uri": "https://localhost:8080/",
          "height": 194
        }
      },
      "source": [
        "df_bert_test = pd.DataFrame({\n",
        "    'id':range(len(test_df)),\n",
        "    'text': test_df[0].replace(r'\\n', ' ', regex=True)\n",
        "})\n",
        "\n",
        "df_bert_test.head()"
      ],
      "execution_count": 67,
      "outputs": [
        {
          "output_type": "execute_result",
          "data": {
            "text/html": [
              "<div>\n",
              "<style scoped>\n",
              "    .dataframe tbody tr th:only-of-type {\n",
              "        vertical-align: middle;\n",
              "    }\n",
              "\n",
              "    .dataframe tbody tr th {\n",
              "        vertical-align: top;\n",
              "    }\n",
              "\n",
              "    .dataframe thead th {\n",
              "        text-align: right;\n",
              "    }\n",
              "</style>\n",
              "<table border=\"1\" class=\"dataframe\">\n",
              "  <thead>\n",
              "    <tr style=\"text-align: right;\">\n",
              "      <th></th>\n",
              "      <th>id</th>\n",
              "      <th>text</th>\n",
              "    </tr>\n",
              "  </thead>\n",
              "  <tbody>\n",
              "    <tr>\n",
              "      <th>50</th>\n",
              "      <td>0</td>\n",
              "      <td>All the characters in this movie are so cute. ...</td>\n",
              "    </tr>\n",
              "    <tr>\n",
              "      <th>51</th>\n",
              "      <td>1</td>\n",
              "      <td>The director directed the movie in the way tha...</td>\n",
              "    </tr>\n",
              "    <tr>\n",
              "      <th>52</th>\n",
              "      <td>2</td>\n",
              "      <td>Boyfriend ho toh Arjun Reddy jaisa ho varna na...</td>\n",
              "    </tr>\n",
              "    <tr>\n",
              "      <th>53</th>\n",
              "      <td>3</td>\n",
              "      <td>Undoubtedly, Arjun Reddy is a Winner.. The way...</td>\n",
              "    </tr>\n",
              "    <tr>\n",
              "      <th>54</th>\n",
              "      <td>4</td>\n",
              "      <td>This is my first review and I am completely to...</td>\n",
              "    </tr>\n",
              "  </tbody>\n",
              "</table>\n",
              "</div>"
            ],
            "text/plain": [
              "    id                                               text\n",
              "50   0  All the characters in this movie are so cute. ...\n",
              "51   1  The director directed the movie in the way tha...\n",
              "52   2  Boyfriend ho toh Arjun Reddy jaisa ho varna na...\n",
              "53   3  Undoubtedly, Arjun Reddy is a Winner.. The way...\n",
              "54   4  This is my first review and I am completely to..."
            ]
          },
          "metadata": {
            "tags": []
          },
          "execution_count": 67
        }
      ]
    },
    {
      "cell_type": "code",
      "metadata": {
        "id": "Vj3Dt4OPjmhu"
      },
      "source": [
        "# Saving dataframes to .tsv format as required by BERT\n",
        "df_bert_train.to_csv('/content/data/train.tsv', sep='\\t', index=False, header=False)\n",
        "df_bert_dev.to_csv('/content/data/dev.tsv', sep='\\t', index=False, header=False)\n",
        "df_bert_test.to_csv('/content/data/test.tsv', sep='\\t', index=False, header=False)"
      ],
      "execution_count": 69,
      "outputs": []
    },
    {
      "cell_type": "code",
      "metadata": {
        "id": "D_X9ob_Ojvip"
      },
      "source": [
        "!python /content/bert/run_classifier.py \n",
        "--task_name=cola\n",
        "--do_train=true \n",
        "--do_eval=true \n",
        "--do_predict=true \n",
        "--data_dir=\"/content/data\"\n",
        "--vocab_file=\"/content/drive/My Drive/uncased_L-12_H-768_A-12/vocab.txt\"\n",
        "--bert_config_file=\"/content/drive/My Drive/uncased_L-12_H-768_A-12/bert_config.json\"\n",
        "--init_checkpoint=\"/content/drive/My Drive/uncased_L-12_H-768_A-12/bert_model.ckpt.data-00000-of-00001\"\n",
        "--max_seq_length=128 \n",
        "--train_batch_size=32 \n",
        "--learning_rate=2e-5 \n",
        "--num_train_epochs=3.0 \n",
        "--output_dir=\"/bert_output/\" \n",
        "--do_lower_case=False"
      ],
      "execution_count": null,
      "outputs": []
    },
    {
      "cell_type": "code",
      "metadata": {
        "id": "esWhXbJkqjXD"
      },
      "source": [
        ""
      ],
      "execution_count": null,
      "outputs": []
    }
  ]
}