{
  "nbformat": 4,
  "nbformat_minor": 0,
  "metadata": {
    "colab": {
      "name": "lda2vec.ipynb",
      "provenance": [],
      "mount_file_id": "1TtVnBwVY5E7ZSrunSKJvDdBt3hLeHIx6",
      "authorship_tag": "ABX9TyPowcpGgWBt3j9IrrtCZWf9",
      "include_colab_link": true
    },
    "kernelspec": {
      "name": "python3",
      "display_name": "Python 3"
    }
  },
  "cells": [
    {
      "cell_type": "markdown",
      "metadata": {
        "id": "view-in-github",
        "colab_type": "text"
      },
      "source": [
        "<a href=\"https://colab.research.google.com/github/Explorer9/INFO5731_FALL2020/blob/master/lda2vec.ipynb\" target=\"_parent\"><img src=\"https://colab.research.google.com/assets/colab-badge.svg\" alt=\"Open In Colab\"/></a>"
      ]
    },
    {
      "cell_type": "code",
      "metadata": {
        "id": "kL9REkuF9AVf",
        "outputId": "4c1b4336-430b-4e7d-c74c-4151e975d4dd",
        "colab": {
          "base_uri": "https://localhost:8080/"
        }
      },
      "source": [
        "\n",
        "# Write your code here\n",
        "import pandas as pd\n",
        "import requests\n",
        "from bs4 import BeautifulSoup\n",
        "def insert_into_array(values,ref_array):\n",
        "  for i in values:\n",
        "    ref_array.append(i.text)\n",
        "URL=[\"https://www.imdb.com/title/tt7294534/reviews/_ajax?ref_=undefined&paginationKey=g4wp7djfquydczye7wthxnztqltmwcbhzfmxvlnomwklyczuf43o6ssypazfjmjddv4k4rk5izrbr2k7kbghholct5fuigy\",\"https://www.imdb.com/title/tt7294534/reviews/_ajax?ref_=undefined&paginationKey=g4wp7dbfqi3tizqg66uhhnzrrdt4ucbyy4hhzo5ziwr26fbyhvrl4ty4oqyvtprodfr5dtt3nlozdkpd6sssetvth324k3g7\",\"https://www.imdb.com/title/tt7294534/reviews/_ajax?ref_=undefined&paginationKey=g4wp7dbqsr3ximsatx5dz2dezxzyyrr72intd6pnaljzoplumbhlqx7ok6yfifxz3a76iui\",\"https://www.imdb.com/title/tt7294534/reviews/_ajax?ref_=undefined&paginationKey=g4wp7dbqsr3ximsatx5dz2dezxzyyrr73mptr4hfapjzpeaaaj5kx7i75r5y6odr55p7f2q\"]\n",
        "text=[]\n",
        "rating=[]\n",
        "review_title=[]\n",
        "for i in URL:\n",
        "  page=requests.get(i,headers={'User-Agent':'Chrome/85.0.4183.121'})\n",
        "  soup = BeautifulSoup(page.content, 'html.parser')\n",
        "  insert_into_array(soup.find_all('div', class_='text show-more__control'),text)\n",
        "  insert_into_array(soup.find_all('a',class_='title'),review_title)\n",
        "  insert_into_array(soup.find_all(name='span',class_='rating-other-user-rating'),rating)\n",
        "imdb_df=pd.DataFrame({'comment':text,'review_title':review_title})\n",
        "imdb_df.to_csv(\"imbd\")\n",
        "print(imdb_df[:6])"
      ],
      "execution_count": 6,
      "outputs": [
        {
          "output_type": "stream",
          "text": [
            "                                             comment                                       review_title\n",
            "0  I can't understand what's so path breaking, in...                                 A wannabe Devdas\\n\n",
            "1  I have personally known people like Arjun Redd...   Arjun Reddy is a person who sees world in bla...\n",
            "2  Best acting , mind blowing background scores d...    One of the realistic movie in Telugu industry\\n\n",
            "3  If \"Rashmika Mandanna\" was Preethi\\nIt would b...                                               IF\\n\n",
            "4  Arjun Reddy is a story in purest. Its fresh, l...                   A milestone in romantic genre.\\n\n",
            "5  The movie displays plain and uncensored drug a...                                          Unique.\\n\n"
          ],
          "name": "stdout"
        }
      ]
    },
    {
      "cell_type": "code",
      "metadata": {
        "id": "C65zHRjA9CHU"
      },
      "source": [
        "from helper import *"
      ],
      "execution_count": 2,
      "outputs": []
    },
    {
      "cell_type": "code",
      "metadata": {
        "id": "QDZ7ZidP9IVB",
        "outputId": "eafb5061-0608-4075-dbfc-21251920ff56",
        "colab": {
          "base_uri": "https://localhost:8080/"
        }
      },
      "source": [
        "! pip install pandas nltk gensim pyldavis"
      ],
      "execution_count": 3,
      "outputs": [
        {
          "output_type": "stream",
          "text": [
            "Requirement already satisfied: pandas in /usr/local/lib/python3.6/dist-packages (1.1.4)\n",
            "Requirement already satisfied: nltk in /usr/local/lib/python3.6/dist-packages (3.2.5)\n",
            "Requirement already satisfied: gensim in /usr/local/lib/python3.6/dist-packages (3.6.0)\n",
            "Collecting pyldavis\n",
            "\u001b[?25l  Downloading https://files.pythonhosted.org/packages/a5/3a/af82e070a8a96e13217c8f362f9a73e82d61ac8fff3a2561946a97f96266/pyLDAvis-2.1.2.tar.gz (1.6MB)\n",
            "\u001b[K     |████████████████████████████████| 1.6MB 2.7MB/s \n",
            "\u001b[?25hRequirement already satisfied: python-dateutil>=2.7.3 in /usr/local/lib/python3.6/dist-packages (from pandas) (2.8.1)\n",
            "Requirement already satisfied: pytz>=2017.2 in /usr/local/lib/python3.6/dist-packages (from pandas) (2018.9)\n",
            "Requirement already satisfied: numpy>=1.15.4 in /usr/local/lib/python3.6/dist-packages (from pandas) (1.18.5)\n",
            "Requirement already satisfied: six in /usr/local/lib/python3.6/dist-packages (from nltk) (1.15.0)\n",
            "Requirement already satisfied: smart-open>=1.2.1 in /usr/local/lib/python3.6/dist-packages (from gensim) (3.0.0)\n",
            "Requirement already satisfied: scipy>=0.18.1 in /usr/local/lib/python3.6/dist-packages (from gensim) (1.4.1)\n",
            "Requirement already satisfied: wheel>=0.23.0 in /usr/local/lib/python3.6/dist-packages (from pyldavis) (0.35.1)\n",
            "Requirement already satisfied: joblib>=0.8.4 in /usr/local/lib/python3.6/dist-packages (from pyldavis) (0.17.0)\n",
            "Requirement already satisfied: jinja2>=2.7.2 in /usr/local/lib/python3.6/dist-packages (from pyldavis) (2.11.2)\n",
            "Requirement already satisfied: numexpr in /usr/local/lib/python3.6/dist-packages (from pyldavis) (2.7.1)\n",
            "Requirement already satisfied: pytest in /usr/local/lib/python3.6/dist-packages (from pyldavis) (3.6.4)\n",
            "Requirement already satisfied: future in /usr/local/lib/python3.6/dist-packages (from pyldavis) (0.16.0)\n",
            "Collecting funcy\n",
            "  Downloading https://files.pythonhosted.org/packages/66/89/479de0afbbfb98d1c4b887936808764627300208bb771fcd823403645a36/funcy-1.15-py2.py3-none-any.whl\n",
            "Requirement already satisfied: requests in /usr/local/lib/python3.6/dist-packages (from smart-open>=1.2.1->gensim) (2.23.0)\n",
            "Requirement already satisfied: MarkupSafe>=0.23 in /usr/local/lib/python3.6/dist-packages (from jinja2>=2.7.2->pyldavis) (1.1.1)\n",
            "Requirement already satisfied: atomicwrites>=1.0 in /usr/local/lib/python3.6/dist-packages (from pytest->pyldavis) (1.4.0)\n",
            "Requirement already satisfied: attrs>=17.4.0 in /usr/local/lib/python3.6/dist-packages (from pytest->pyldavis) (20.2.0)\n",
            "Requirement already satisfied: setuptools in /usr/local/lib/python3.6/dist-packages (from pytest->pyldavis) (50.3.2)\n",
            "Requirement already satisfied: more-itertools>=4.0.0 in /usr/local/lib/python3.6/dist-packages (from pytest->pyldavis) (8.6.0)\n",
            "Requirement already satisfied: py>=1.5.0 in /usr/local/lib/python3.6/dist-packages (from pytest->pyldavis) (1.9.0)\n",
            "Requirement already satisfied: pluggy<0.8,>=0.5 in /usr/local/lib/python3.6/dist-packages (from pytest->pyldavis) (0.7.1)\n",
            "Requirement already satisfied: certifi>=2017.4.17 in /usr/local/lib/python3.6/dist-packages (from requests->smart-open>=1.2.1->gensim) (2020.6.20)\n",
            "Requirement already satisfied: chardet<4,>=3.0.2 in /usr/local/lib/python3.6/dist-packages (from requests->smart-open>=1.2.1->gensim) (3.0.4)\n",
            "Requirement already satisfied: idna<3,>=2.5 in /usr/local/lib/python3.6/dist-packages (from requests->smart-open>=1.2.1->gensim) (2.10)\n",
            "Requirement already satisfied: urllib3!=1.25.0,!=1.25.1,<1.26,>=1.21.1 in /usr/local/lib/python3.6/dist-packages (from requests->smart-open>=1.2.1->gensim) (1.24.3)\n",
            "Building wheels for collected packages: pyldavis\n",
            "  Building wheel for pyldavis (setup.py) ... \u001b[?25l\u001b[?25hdone\n",
            "  Created wheel for pyldavis: filename=pyLDAvis-2.1.2-py2.py3-none-any.whl size=97712 sha256=db5d427daea3bb6a39bc23d799663a60935237678b161db578cddd08fcbce658\n",
            "  Stored in directory: /root/.cache/pip/wheels/98/71/24/513a99e58bb6b8465bae4d2d5e9dba8f0bef8179e3051ac414\n",
            "Successfully built pyldavis\n",
            "Installing collected packages: funcy, pyldavis\n",
            "Successfully installed funcy-1.15 pyldavis-2.1.2\n"
          ],
          "name": "stdout"
        }
      ]
    },
    {
      "cell_type": "code",
      "metadata": {
        "id": "bx-1AAlS9Lj2",
        "outputId": "ab2992b8-2c40-46b4-99e1-4bcb6a6789c8",
        "colab": {
          "base_uri": "https://localhost:8080/"
        }
      },
      "source": [
        "import nltk\n",
        "nltk.download('stopwords')\n",
        "nltk.download('wordnet')\n",
        "from nltk.corpus import stopwords \n",
        "from nltk.stem.wordnet import WordNetLemmatizer\n",
        "import string\n",
        "\n",
        "stopwords = set(stopwords.words('english'))\n",
        "punctuation = set(string.punctuation) \n",
        "lemmatize = WordNetLemmatizer()\n",
        "\n",
        "def cleaning(article):\n",
        "    one = \" \".join([i for i in article.lower().split() if i not in stopwords])\n",
        "    two = \"\".join(i for i in one if i not in punctuation)\n",
        "    three = \" \".join(lemmatize.lemmatize(i) for i in two.split())\n",
        "    return three"
      ],
      "execution_count": 4,
      "outputs": [
        {
          "output_type": "stream",
          "text": [
            "[nltk_data] Downloading package stopwords to /root/nltk_data...\n",
            "[nltk_data]   Unzipping corpora/stopwords.zip.\n",
            "[nltk_data] Downloading package wordnet to /root/nltk_data...\n",
            "[nltk_data]   Unzipping corpora/wordnet.zip.\n"
          ],
          "name": "stdout"
        }
      ]
    },
    {
      "cell_type": "code",
      "metadata": {
        "id": "yyJehYWz9VC2",
        "outputId": "2991ca17-b261-449a-f1c8-a79498c450ce",
        "colab": {
          "base_uri": "https://localhost:8080/"
        }
      },
      "source": [
        "text = imdb_df.applymap(cleaning)['comment']\n",
        "text_list = [i.split() for i in text]\n",
        "len(text_list)"
      ],
      "execution_count": 5,
      "outputs": [
        {
          "output_type": "execute_result",
          "data": {
            "text/plain": [
              "80"
            ]
          },
          "metadata": {
            "tags": []
          },
          "execution_count": 5
        }
      ]
    },
    {
      "cell_type": "code",
      "metadata": {
        "id": "1lBIEc359iNM"
      },
      "source": [
        "from time import time\n",
        "import logging\n",
        "\n",
        "logging.basicConfig(format='%(asctime)s : %(levelname)s : %(message)s', level=logging.INFO,\n",
        "                   filename='running.log',filemode='w')"
      ],
      "execution_count": 8,
      "outputs": []
    },
    {
      "cell_type": "code",
      "metadata": {
        "id": "AiGnFd-l9qpY",
        "outputId": "9bbdc6fc-48a5-43bd-9353-87803a874d3b",
        "colab": {
          "base_uri": "https://localhost:8080/"
        }
      },
      "source": [
        "# Importing Gensim\n",
        "import gensim\n",
        "from gensim import corpora\n",
        "\n",
        "# Creating the term dictionary of our courpus, where every unique term is assigned an index. dictionary = corpora.Dictionary(doc_clean)\n",
        "dictionary = corpora.Dictionary(text_list)\n",
        "dictionary.save('dictionary.dict')\n",
        "print(dictionary)"
      ],
      "execution_count": 10,
      "outputs": [
        {
          "output_type": "stream",
          "text": [
            "Dictionary(1543 unique tokens: ['afraid', 'again', 'among', 'anger', 'anytime']...)\n"
          ],
          "name": "stdout"
        }
      ]
    },
    {
      "cell_type": "code",
      "metadata": {
        "id": "dh5TBbkp9uWK",
        "outputId": "c07e5456-56f5-444a-f848-4b37f6d759f3",
        "colab": {
          "base_uri": "https://localhost:8080/"
        }
      },
      "source": [
        "doc_term_matrix = [dictionary.doc2bow(doc) for doc in text_list]\n",
        "corpora.MmCorpus.serialize('corpus.mm', doc_term_matrix)\n",
        "\n",
        "print(len(doc_term_matrix))\n",
        "print(doc_term_matrix[70])"
      ],
      "execution_count": 13,
      "outputs": [
        {
          "output_type": "stream",
          "text": [
            "80\n",
            "[(3, 1), (6, 11), (7, 1), (16, 1), (18, 1), (26, 1), (32, 7), (35, 1), (38, 1), (40, 2), (41, 1), (46, 1), (50, 2), (52, 4), (56, 1), (58, 1), (60, 1), (61, 2), (68, 2), (69, 6), (73, 1), (74, 1), (75, 1), (77, 2), (81, 1), (82, 2), (83, 3), (88, 4), (90, 2), (115, 1), (117, 1), (118, 3), (119, 1), (120, 1), (125, 6), (128, 1), (130, 1), (132, 1), (138, 1), (144, 1), (149, 1), (155, 1), (159, 1), (171, 6), (173, 1), (174, 1), (186, 1), (188, 2), (198, 1), (222, 1), (223, 1), (237, 1), (239, 1), (250, 1), (273, 4), (274, 1), (280, 1), (283, 1), (284, 1), (293, 1), (302, 1), (303, 1), (311, 1), (340, 1), (344, 1), (354, 1), (373, 1), (386, 1), (392, 1), (409, 1), (414, 1), (418, 1), (430, 1), (438, 1), (470, 1), (471, 3), (479, 2), (481, 1), (492, 1), (524, 1), (536, 1), (578, 1), (580, 1), (584, 1), (594, 1), (612, 1), (623, 3), (647, 2), (671, 2), (680, 1), (684, 2), (708, 2), (710, 1), (714, 2), (725, 1), (734, 2), (739, 1), (748, 1), (751, 2), (753, 2), (766, 1), (787, 1), (807, 1), (813, 1), (819, 1), (824, 1), (827, 1), (833, 1), (859, 1), (860, 1), (861, 1), (868, 2), (881, 2), (897, 1), (917, 1), (928, 1), (954, 1), (965, 1), (1008, 1), (1020, 1), (1047, 1), (1083, 1), (1088, 1), (1095, 1), (1096, 1), (1104, 2), (1147, 1), (1155, 2), (1160, 2), (1195, 1), (1216, 1), (1240, 1), (1260, 1), (1269, 1), (1289, 1), (1313, 1), (1325, 2), (1332, 2), (1345, 1), (1346, 1), (1347, 1), (1348, 1), (1349, 1), (1350, 1), (1351, 1), (1352, 1), (1353, 1), (1354, 1), (1355, 1), (1356, 1), (1357, 1), (1358, 1), (1359, 1), (1360, 1), (1361, 1), (1362, 1), (1363, 1), (1364, 1), (1365, 1), (1366, 1), (1367, 1), (1368, 1), (1369, 1), (1370, 1), (1371, 1), (1372, 1), (1373, 1), (1374, 1), (1375, 1), (1376, 1), (1377, 1), (1378, 1), (1379, 1), (1380, 1), (1381, 1), (1382, 1), (1383, 1), (1384, 2), (1385, 1), (1386, 1), (1387, 1), (1388, 1), (1389, 1), (1390, 1), (1391, 1), (1392, 1), (1393, 1), (1394, 1), (1395, 1), (1396, 1), (1397, 1), (1398, 1), (1399, 1), (1400, 2), (1401, 1), (1402, 1), (1403, 1), (1404, 1), (1405, 1), (1406, 1), (1407, 1), (1408, 1), (1409, 1), (1410, 1), (1411, 1), (1412, 1), (1413, 1), (1414, 1), (1415, 1), (1416, 1), (1417, 1), (1418, 1), (1419, 1), (1420, 1), (1421, 1), (1422, 1), (1423, 1), (1424, 1), (1425, 1), (1426, 1), (1427, 1), (1428, 1), (1429, 1), (1430, 1), (1431, 1), (1432, 1), (1433, 1), (1434, 1), (1435, 1), (1436, 1), (1437, 1), (1438, 1), (1439, 1), (1440, 1), (1441, 1), (1442, 1), (1443, 1), (1444, 1)]\n"
          ],
          "name": "stdout"
        }
      ]
    },
    {
      "cell_type": "code",
      "metadata": {
        "id": "p_0G2rh192qe",
        "outputId": "5ddcfe9a-b6e2-42f0-e6e3-b8fabd3ff48a",
        "colab": {
          "base_uri": "https://localhost:8080/"
        }
      },
      "source": [
        "start = time()\n",
        "# Creating the object for LDA model using gensim library\n",
        "Lda = gensim.models.ldamodel.LdaModel\n",
        "\n",
        "# Running and Trainign LDA model on the document term matrix.\n",
        "ldamodel = Lda(doc_term_matrix, num_topics=10, id2word = dictionary, passes=50)\n",
        "print('used: {:.2f}s'.format(time()-start))"
      ],
      "execution_count": 15,
      "outputs": [
        {
          "output_type": "stream",
          "text": [
            "used: 2.57s\n"
          ],
          "name": "stdout"
        }
      ]
    },
    {
      "cell_type": "code",
      "metadata": {
        "id": "A-qeaxKN-AXk",
        "outputId": "a687b7da-c3f3-458b-e9f4-a3b05c26602f",
        "colab": {
          "base_uri": "https://localhost:8080/"
        }
      },
      "source": [
        "print(ldamodel.print_topics(num_topics=2, num_words=4))"
      ],
      "execution_count": 16,
      "outputs": [
        {
          "output_type": "stream",
          "text": [
            "[(2, '0.022*\"good\" + 0.022*\"movie\" + 0.006*\"direction\" + 0.006*\"here\"'), (5, '0.021*\"movie\" + 0.015*\"love\" + 0.013*\"story\" + 0.011*\"like\"')]\n"
          ],
          "name": "stdout"
        }
      ]
    },
    {
      "cell_type": "code",
      "metadata": {
        "id": "GQCYCEXR-GAQ",
        "outputId": "8a69f475-54fe-4d61-c178-8c99f7891c35",
        "colab": {
          "base_uri": "https://localhost:8080/"
        }
      },
      "source": [
        "for i in ldamodel.print_topics(): \n",
        "    for j in i:\n",
        "      print(j)"
      ],
      "execution_count": 18,
      "outputs": [
        {
          "output_type": "stream",
          "text": [
            "0\n",
            "0.037*\"movie\" + 0.012*\"acting\" + 0.010*\"better\" + 0.010*\"vijay\" + 0.010*\"performance\" + 0.010*\"character\" + 0.010*\"good\" + 0.010*\"arjun\" + 0.008*\"director\" + 0.008*\"every\"\n",
            "1\n",
            "0.029*\"movie\" + 0.015*\"reddy\" + 0.015*\"time\" + 0.012*\"vijay\" + 0.012*\"like\" + 0.012*\"arjun\" + 0.009*\"loved\" + 0.009*\"way\" + 0.009*\"good\" + 0.009*\"film\"\n",
            "2\n",
            "0.022*\"good\" + 0.022*\"movie\" + 0.006*\"direction\" + 0.006*\"here\" + 0.006*\"job\" + 0.006*\"hour\" + 0.006*\"much\" + 0.006*\"also\" + 0.006*\"overall\" + 0.006*\"say\"\n",
            "3\n",
            "0.022*\"movie\" + 0.019*\"arjun\" + 0.016*\"vijay\" + 0.013*\"reddy\" + 0.013*\"character\" + 0.011*\"love\" + 0.011*\"film\" + 0.009*\"life\" + 0.009*\"deverakonda\" + 0.008*\"lead\"\n",
            "4\n",
            "0.045*\"movie\" + 0.013*\"arjun\" + 0.011*\"story\" + 0.011*\"film\" + 0.011*\"telugu\" + 0.011*\"love\" + 0.008*\"also\" + 0.008*\"way\" + 0.007*\"one\" + 0.007*\"language\"\n",
            "5\n",
            "0.021*\"movie\" + 0.015*\"love\" + 0.013*\"story\" + 0.011*\"like\" + 0.011*\"reddy\" + 0.011*\"arjun\" + 0.008*\"ending\" + 0.008*\"character\" + 0.007*\"end\" + 0.007*\"everything\"\n",
            "6\n",
            "0.024*\"arjun\" + 0.022*\"movie\" + 0.014*\"reddy\" + 0.009*\"telugu\" + 0.008*\"come\" + 0.008*\"get\" + 0.008*\"story\" + 0.007*\"film\" + 0.007*\"like\" + 0.007*\"scene\"\n",
            "7\n",
            "0.016*\"movie\" + 0.011*\"actor\" + 0.011*\"also\" + 0.011*\"job\" + 0.011*\"masterpiece\" + 0.006*\"director\" + 0.006*\"storyline\" + 0.006*\"actress\" + 0.006*\"ending\" + 0.006*\"first\"\n",
            "8\n",
            "0.052*\"movie\" + 0.016*\"reddy\" + 0.016*\"arjun\" + 0.011*\"telugu\" + 0.010*\"feel\" + 0.010*\"one\" + 0.010*\"life\" + 0.010*\"film\" + 0.008*\"acting\" + 0.008*\"worth\"\n",
            "9\n",
            "0.022*\"film\" + 0.016*\"reddy\" + 0.015*\"love\" + 0.014*\"arjun\" + 0.013*\"movie\" + 0.009*\"telugu\" + 0.009*\"story\" + 0.008*\"character\" + 0.008*\"world\" + 0.007*\"way\"\n"
          ],
          "name": "stdout"
        }
      ]
    },
    {
      "cell_type": "code",
      "metadata": {
        "id": "9mkTit0J-Kuh"
      },
      "source": [
        "ldamodel.save('topic.model')"
      ],
      "execution_count": 19,
      "outputs": []
    },
    {
      "cell_type": "code",
      "metadata": {
        "id": "rAVTb91G-PWv"
      },
      "source": [
        "from gensim.models import LdaModel\n",
        "loading = LdaModel.load('topic.model')"
      ],
      "execution_count": 20,
      "outputs": []
    },
    {
      "cell_type": "code",
      "metadata": {
        "id": "C5mBc6OT-RPa",
        "outputId": "563c435c-6ab7-420e-9bc2-48f84463939d",
        "colab": {
          "base_uri": "https://localhost:8080/"
        }
      },
      "source": [
        "print(loading.print_topics(num_topics=2, num_words=4))"
      ],
      "execution_count": 21,
      "outputs": [
        {
          "output_type": "stream",
          "text": [
            "[(3, '0.022*\"movie\" + 0.019*\"arjun\" + 0.016*\"vijay\" + 0.013*\"reddy\"'), (6, '0.024*\"arjun\" + 0.022*\"movie\" + 0.014*\"reddy\" + 0.009*\"telugu\"')]\n"
          ],
          "name": "stdout"
        }
      ]
    },
    {
      "cell_type": "code",
      "metadata": {
        "id": "1pfeSgLy-S9I"
      },
      "source": [
        "def pre_new(doc):\n",
        "    one = cleaning(doc).split()\n",
        "    two = dictionary.doc2bow(one)\n",
        "    return two"
      ],
      "execution_count": 22,
      "outputs": []
    },
    {
      "cell_type": "code",
      "metadata": {
        "id": "R4hKrcXz-Vvn",
        "outputId": "82a297e0-bda6-46f0-faf2-df653adbf957",
        "colab": {
          "base_uri": "https://localhost:8080/"
        }
      },
      "source": [
        "pre_new('new article that to be classified by trained model!')"
      ],
      "execution_count": 23,
      "outputs": [
        {
          "output_type": "execute_result",
          "data": {
            "text/plain": [
              "[(58, 1), (593, 1)]"
            ]
          },
          "metadata": {
            "tags": []
          },
          "execution_count": 23
        }
      ]
    },
    {
      "cell_type": "code",
      "metadata": {
        "id": "ZijEFrUk-X3P",
        "outputId": "93cc9667-c3db-442c-c260-341953b78b7f",
        "colab": {
          "base_uri": "https://localhost:8080/"
        }
      },
      "source": [
        "belong = loading[(pre_new('new article that to be classified by trained model!'))]\n",
        "belong"
      ],
      "execution_count": 24,
      "outputs": [
        {
          "output_type": "execute_result",
          "data": {
            "text/plain": [
              "[(0, 0.033333335),\n",
              " (1, 0.033333335),\n",
              " (2, 0.033333335),\n",
              " (3, 0.033335064),\n",
              " (4, 0.6999851),\n",
              " (5, 0.033333335),\n",
              " (6, 0.033339743),\n",
              " (7, 0.033333335),\n",
              " (8, 0.033336114),\n",
              " (9, 0.03333726)]"
            ]
          },
          "metadata": {
            "tags": []
          },
          "execution_count": 24
        }
      ]
    },
    {
      "cell_type": "code",
      "metadata": {
        "id": "GFs-SfRO-Z3A",
        "outputId": "6aa1bc8e-bdbb-4534-ca2a-b6041bd454b1",
        "colab": {
          "base_uri": "https://localhost:8080/",
          "height": 340
        }
      },
      "source": [
        "new = pd.DataFrame(belong,columns=['id','prob']).sort_values('prob',ascending=False)\n",
        "new['topic'] = new['id'].apply(loading.print_topic)\n",
        "new"
      ],
      "execution_count": 25,
      "outputs": [
        {
          "output_type": "execute_result",
          "data": {
            "text/html": [
              "<div>\n",
              "<style scoped>\n",
              "    .dataframe tbody tr th:only-of-type {\n",
              "        vertical-align: middle;\n",
              "    }\n",
              "\n",
              "    .dataframe tbody tr th {\n",
              "        vertical-align: top;\n",
              "    }\n",
              "\n",
              "    .dataframe thead th {\n",
              "        text-align: right;\n",
              "    }\n",
              "</style>\n",
              "<table border=\"1\" class=\"dataframe\">\n",
              "  <thead>\n",
              "    <tr style=\"text-align: right;\">\n",
              "      <th></th>\n",
              "      <th>id</th>\n",
              "      <th>prob</th>\n",
              "      <th>topic</th>\n",
              "    </tr>\n",
              "  </thead>\n",
              "  <tbody>\n",
              "    <tr>\n",
              "      <th>4</th>\n",
              "      <td>4</td>\n",
              "      <td>0.699985</td>\n",
              "      <td>0.045*\"movie\" + 0.013*\"arjun\" + 0.011*\"story\" ...</td>\n",
              "    </tr>\n",
              "    <tr>\n",
              "      <th>6</th>\n",
              "      <td>6</td>\n",
              "      <td>0.033340</td>\n",
              "      <td>0.024*\"arjun\" + 0.022*\"movie\" + 0.014*\"reddy\" ...</td>\n",
              "    </tr>\n",
              "    <tr>\n",
              "      <th>9</th>\n",
              "      <td>9</td>\n",
              "      <td>0.033337</td>\n",
              "      <td>0.022*\"film\" + 0.016*\"reddy\" + 0.015*\"love\" + ...</td>\n",
              "    </tr>\n",
              "    <tr>\n",
              "      <th>8</th>\n",
              "      <td>8</td>\n",
              "      <td>0.033336</td>\n",
              "      <td>0.052*\"movie\" + 0.016*\"reddy\" + 0.016*\"arjun\" ...</td>\n",
              "    </tr>\n",
              "    <tr>\n",
              "      <th>3</th>\n",
              "      <td>3</td>\n",
              "      <td>0.033335</td>\n",
              "      <td>0.022*\"movie\" + 0.019*\"arjun\" + 0.016*\"vijay\" ...</td>\n",
              "    </tr>\n",
              "    <tr>\n",
              "      <th>0</th>\n",
              "      <td>0</td>\n",
              "      <td>0.033333</td>\n",
              "      <td>0.037*\"movie\" + 0.012*\"acting\" + 0.010*\"better...</td>\n",
              "    </tr>\n",
              "    <tr>\n",
              "      <th>1</th>\n",
              "      <td>1</td>\n",
              "      <td>0.033333</td>\n",
              "      <td>0.029*\"movie\" + 0.015*\"reddy\" + 0.015*\"time\" +...</td>\n",
              "    </tr>\n",
              "    <tr>\n",
              "      <th>2</th>\n",
              "      <td>2</td>\n",
              "      <td>0.033333</td>\n",
              "      <td>0.022*\"good\" + 0.022*\"movie\" + 0.006*\"directio...</td>\n",
              "    </tr>\n",
              "    <tr>\n",
              "      <th>5</th>\n",
              "      <td>5</td>\n",
              "      <td>0.033333</td>\n",
              "      <td>0.021*\"movie\" + 0.015*\"love\" + 0.013*\"story\" +...</td>\n",
              "    </tr>\n",
              "    <tr>\n",
              "      <th>7</th>\n",
              "      <td>7</td>\n",
              "      <td>0.033333</td>\n",
              "      <td>0.016*\"movie\" + 0.011*\"actor\" + 0.011*\"also\" +...</td>\n",
              "    </tr>\n",
              "  </tbody>\n",
              "</table>\n",
              "</div>"
            ],
            "text/plain": [
              "   id      prob                                              topic\n",
              "4   4  0.699985  0.045*\"movie\" + 0.013*\"arjun\" + 0.011*\"story\" ...\n",
              "6   6  0.033340  0.024*\"arjun\" + 0.022*\"movie\" + 0.014*\"reddy\" ...\n",
              "9   9  0.033337  0.022*\"film\" + 0.016*\"reddy\" + 0.015*\"love\" + ...\n",
              "8   8  0.033336  0.052*\"movie\" + 0.016*\"reddy\" + 0.016*\"arjun\" ...\n",
              "3   3  0.033335  0.022*\"movie\" + 0.019*\"arjun\" + 0.016*\"vijay\" ...\n",
              "0   0  0.033333  0.037*\"movie\" + 0.012*\"acting\" + 0.010*\"better...\n",
              "1   1  0.033333  0.029*\"movie\" + 0.015*\"reddy\" + 0.015*\"time\" +...\n",
              "2   2  0.033333  0.022*\"good\" + 0.022*\"movie\" + 0.006*\"directio...\n",
              "5   5  0.033333  0.021*\"movie\" + 0.015*\"love\" + 0.013*\"story\" +...\n",
              "7   7  0.033333  0.016*\"movie\" + 0.011*\"actor\" + 0.011*\"also\" +..."
            ]
          },
          "metadata": {
            "tags": []
          },
          "execution_count": 25
        }
      ]
    },
    {
      "cell_type": "code",
      "metadata": {
        "id": "rkBFsGGy-cbl"
      },
      "source": [
        "import pyLDAvis.gensim\n",
        "import gensim\n",
        "pyLDAvis.enable_notebook()"
      ],
      "execution_count": 27,
      "outputs": []
    },
    {
      "cell_type": "code",
      "metadata": {
        "id": "Trcv-wyd-exf",
        "outputId": "e6358858-e859-4a56-f9a4-78c27085e825",
        "colab": {
          "base_uri": "https://localhost:8080/"
        }
      },
      "source": [
        "d = gensim.corpora.Dictionary.load('dictionary.dict')\n",
        "c = gensim.corpora.MmCorpus('corpus.mm')\n",
        "lda = gensim.models.LdaModel.load('topic.model')\n"
      ],
      "execution_count": 28,
      "outputs": [
        {
          "output_type": "stream",
          "text": [
            "/usr/local/lib/python3.6/dist-packages/smart_open/smart_open_lib.py:418: DeprecationWarning: This function is deprecated.  See https://github.com/RaRe-Technologies/smart_open/blob/develop/MIGRATING_FROM_OLDER_VERSIONS.rst for more information\n",
            "  warnings.warn(message, category=DeprecationWarning)\n",
            "/usr/local/lib/python3.6/dist-packages/smart_open/smart_open_lib.py:418: DeprecationWarning: This function is deprecated.  See https://github.com/RaRe-Technologies/smart_open/blob/develop/MIGRATING_FROM_OLDER_VERSIONS.rst for more information\n",
            "  warnings.warn(message, category=DeprecationWarning)\n",
            "/usr/local/lib/python3.6/dist-packages/smart_open/smart_open_lib.py:418: DeprecationWarning: This function is deprecated.  See https://github.com/RaRe-Technologies/smart_open/blob/develop/MIGRATING_FROM_OLDER_VERSIONS.rst for more information\n",
            "  warnings.warn(message, category=DeprecationWarning)\n",
            "/usr/local/lib/python3.6/dist-packages/smart_open/smart_open_lib.py:418: DeprecationWarning: This function is deprecated.  See https://github.com/RaRe-Technologies/smart_open/blob/develop/MIGRATING_FROM_OLDER_VERSIONS.rst for more information\n",
            "  warnings.warn(message, category=DeprecationWarning)\n",
            "/usr/local/lib/python3.6/dist-packages/smart_open/smart_open_lib.py:418: DeprecationWarning: This function is deprecated.  See https://github.com/RaRe-Technologies/smart_open/blob/develop/MIGRATING_FROM_OLDER_VERSIONS.rst for more information\n",
            "  warnings.warn(message, category=DeprecationWarning)\n",
            "/usr/local/lib/python3.6/dist-packages/smart_open/smart_open_lib.py:418: DeprecationWarning: This function is deprecated.  See https://github.com/RaRe-Technologies/smart_open/blob/develop/MIGRATING_FROM_OLDER_VERSIONS.rst for more information\n",
            "  warnings.warn(message, category=DeprecationWarning)\n"
          ],
          "name": "stderr"
        }
      ]
    },
    {
      "cell_type": "code",
      "metadata": {
        "id": "SqTHYLAh-nl9",
        "outputId": "549dd90d-5940-460b-80c7-f0a6bbda7bff",
        "colab": {
          "base_uri": "https://localhost:8080/",
          "height": 952
        }
      },
      "source": [
        "data = pyLDAvis.gensim.prepare(lda, c, d)\n",
        "data"
      ],
      "execution_count": 29,
      "outputs": [
        {
          "output_type": "stream",
          "text": [
            "/usr/local/lib/python3.6/dist-packages/smart_open/smart_open_lib.py:418: DeprecationWarning: This function is deprecated.  See https://github.com/RaRe-Technologies/smart_open/blob/develop/MIGRATING_FROM_OLDER_VERSIONS.rst for more information\n",
            "  warnings.warn(message, category=DeprecationWarning)\n",
            "/usr/local/lib/python3.6/dist-packages/smart_open/smart_open_lib.py:418: DeprecationWarning: This function is deprecated.  See https://github.com/RaRe-Technologies/smart_open/blob/develop/MIGRATING_FROM_OLDER_VERSIONS.rst for more information\n",
            "  warnings.warn(message, category=DeprecationWarning)\n"
          ],
          "name": "stderr"
        },
        {
          "output_type": "execute_result",
          "data": {
            "text/html": [
              "\n",
              "<link rel=\"stylesheet\" type=\"text/css\" href=\"https://cdn.rawgit.com/bmabey/pyLDAvis/files/ldavis.v1.0.0.css\">\n",
              "\n",
              "\n",
              "<div id=\"ldavis_el571405216691459687163327513\"></div>\n",
              "<script type=\"text/javascript\">\n",
              "\n",
              "var ldavis_el571405216691459687163327513_data = {\"mdsDat\": {\"x\": [-0.051549464995721904, 0.14319598765233219, -0.07828732809051435, -0.055029143518407965, -0.005513251931847097, -0.07406471615603234, 0.023125059463800175, 0.032863347729586066, 0.027966986798712058, 0.03729252304809296], \"y\": [-0.1029802090227662, 0.0642065667561696, 0.11945220812774678, -0.027051249953705843, -0.0030143266621621314, 0.0528568467027002, -0.06977704897199409, -0.016694772893594004, -0.00585935669219332, -0.011138657390201064], \"topics\": [1, 2, 3, 4, 5, 6, 7, 8, 9, 10], \"cluster\": [1, 1, 1, 1, 1, 1, 1, 1, 1, 1], \"Freq\": [22.61074010570464, 14.898365668087715, 14.838838128852217, 12.537992126367914, 12.219759187248286, 8.91888439875374, 6.704222233794814, 4.959057127696133, 1.2737604438383767, 1.0383805796561663]}, \"tinfo\": {\"Term\": [\"movie\", \"good\", \"also\", \"time\", \"deverakonda\", \"job\", \"actor\", \"vijay\", \"shalini\", \"love\", \"ending\", \"much\", \"like\", \"half\", \"everything\", \"film\", \"character\", \"direction\", \"plot\", \"reddy\", \"performance\", \"feel\", \"director\", \"acting\", \"better\", \"role\", \"could\", \"long\", \"overall\", \"even\", \"addiction\", \"told\", \"deverakonda\", \"eng\", \"giving\", \"quality\", \"close\", \"reddys\", \"however\", \"importance\", \"sex\", \"spirited\", \"blowing\", \"simply\", \"open\", \"manages\", \"hand\", \"spending\", \"ramakrishna\", \"anyone\", \"cast\", \"imagine\", \"face\", \"mind\", \"right\", \"him\", \"pandey\", \"bad\", \"raw\", \"year\", \"dialogue\", \"lead\", \"role\", \"vijay\", \"cinema\", \"day\", \"anger\", \"character\", \"nailed\", \"rahul\", \"there\", \"life\", \"time\", \"arjun\", \"best\", \"lot\", \"love\", \"reddy\", \"friend\", \"movie\", \"acting\", \"film\", \"good\", \"telugu\", \"performance\", \"like\", \"one\", \"story\", \"watch\", \"get\", \"great\", \"shalinis\", \"again\", \"avoided\", \"whats\", \"taste\", \"big\", \"commercial\", \"calm\", \"cultural\", \"high\", \"6\", \"age\", \"glass\", \"deadline\", \"religious\", \"episode\", \"true\", \"specialty\", \"intensity\", \"devrakonda\", \"dude\", \"ur\", \"omg\", \"changing\", \"original\", \"spoil\", \"itoriginal\", \"caz\", \"directionstory\", \"to\", \"still\", \"piece\", \"arjuns\", \"come\", \"whether\", \"try\", \"amit\", \"screen\", \"coke\", \"away\", \"may\", \"shalini\", \"get\", \"amazing\", \"arjun\", \"scene\", \"watching\", \"reddy\", \"movie\", \"telugu\", \"story\", \"like\", \"many\", \"way\", \"much\", \"one\", \"fight\", \"film\", \"good\", \"cant\", \"devarakonda\", \"industry\", \"actor\", \"vijay\", \"best\", \"excellent\", \"kannada\", \"mangalore\", \"tobacco\", \"teaser\", \"warns\", \"expect\", \"adult\", \"entertainer\", \"clean\", \"shaven\", \"another\", \"building\", \"house\", \"finally\", \"tulu\", \"hindi\", \"english\", \"half\", \"or\", \"addicted\", \"decent\", \"request\", \"actingconceptrealistic\", \"enjoy\", \"falling\", \"arjuj\", \"sentiment\", \"trailer\", \"portraying\", \"used\", \"second\", \"though\", \"south\", \"plot\", \"language\", \"trying\", \"college\", \"rare\", \"expected\", \"also\", \"even\", \"movie\", \"scene\", \"alcohol\", \"telugu\", \"story\", \"love\", \"way\", \"take\", \"film\", \"arjun\", \"really\", \"one\", \"show\", \"coming\", \"audience\", \"reddy\", \"made\", \"like\", \"good\", \"end\", \"drug\", \"ho\", \"message\", \"emotional\", \"situation\", \"version\", \"similar\", \"worth\", \"lack\", \"serf\", \"seeking\", \"coz\", \"havet\", \"\\ud83d\\udc4d\\ud83d\\udc4d\", \"\\ud83d\\ude0d\\ud83d\\ude0d\", \"jaisa\", \"varna\", \"toh\", \"na\", \"boyfriend\", \"hug\", \"rowdy\", \"soo\", \"romance\", \"mandana\", \"rasmika\", \"rated\", \"minute\", \"barrier\", \"performace\", \"connection\", \"taken\", \"reality\", \"feel\", \"gone\", \"handle\", \"entertaining\", \"skill\", \"addict\", \"cult\", \"movie\", \"amazing\", \"review\", \"waiting\", \"u\", \"score\", \"hope\", \"it\", \"kind\", \"life\", \"reddy\", \"telugu\", \"audience\", \"one\", \"arjun\", \"acting\", \"film\", \"language\", \"watch\", \"story\", \"best\", \"ever\", \"great\", \"made\", \"industry\", \"character\", \"lot\", \"vijay\", \"actor\", \"make\", \"friendship\", \"enjoyable\", \"me\", \"depiction\", \"seamlessly\", \"happy\", \"bike\", \"profession\", \"alone\", \"sad\", \"reaction\", \"sport\", \"expression\", \"magical\", \"drink\", \"pet\", \"caste\", \"killed\", \"judge\", \"expecting\", \"regressive\", \"paced\", \"adding\", \"skipped\", \"hippocratic\", \"unbelievable\", \"waned\", \"fine\", \"lengthyslow\", \"unwanted\", \"ending\", \"suffering\", \"loss\", \"written\", \"unique\", \"superb\", \"everything\", \"hero\", \"three\", \"heart\", \"like\", \"especially\", \"end\", \"love\", \"it\", \"look\", \"fall\", \"need\", \"whole\", \"story\", \"name\", \"direction\", \"overall\", \"would\", \"movie\", \"reddy\", \"ever\", \"character\", \"take\", \"arjun\", \"life\", \"every\", \"director\", \"film\", \"performance\", \"watch\", \"best\", \"good\", \"acting\", \"one\", \"telugu\", \"lucky\", \"2017\", \"received\", \"live\", \"detail\", \"brute\", \"composed\", \"pure\", \"two\", \"chapter\", \"condolence\", \"convey\", \"deepest\", \"worked\", \"seperated\", \"illtempered\", \"impeccable\", \"unraveling\", \"motion\", \"attached\", \"reached\", \"fan\", \"entry\", \"item\", \"kinf\", \"simple\", \"cherish\", \"date\", \"ralistic\", \"modest\", \"act\", \"now\", \"sense\", \"never\", \"level\", \"whatever\", \"tell\", \"world\", \"word\", \"part\", \"point\", \"film\", \"fresh\", \"people\", \"radhan\", \"love\", \"reddy\", \"vanga\", \"suffering\", \"among\", \"different\", \"even\", \"arjun\", \"telugu\", \"story\", \"character\", \"movie\", \"way\", \"acting\", \"every\", \"vijay\", \"one\", \"devarakonda\", \"make\", \"sandeep\", \"pain\", \"relationship\", \"lot\", \"brilliant\", \"kudos\", \"remake\", \"bala\", \"thrice\", \"devarakondas\", \"ive\", \"missed\", \"discontinuity\", \"filmic\", \"flow\", \"general\", \"grately\", \"overhyped\", \"scenario\", \"traditional\", \"auidence\", \"cute\", \"bite\", \"specially\", \"hearted\", \"freaking\", \"sinma\", \"enjoyed\", \"pas\", \"outstanding\", \"fame\", \"delivered\", \"advantage\", \"purest\", \"watchable\", \"bit\", \"play\", \"better\", \"3\", \"seen\", \"movie\", \"performance\", \"acting\", \"might\", \"good\", \"every\", \"director\", \"perfect\", \"character\", \"vijay\", \"played\", \"watch\", \"watched\", \"must\", \"brilliant\", \"arjun\", \"watching\", \"feel\", \"friend\", \"reddy\", \"role\", \"one\", \"production\", \"81\", \"bringing\", \"undoubtedly\", \"mandanna\", \"rashmika\", \"superbbb\", \"wonderful\", \"exceptionally\", \"besti\", \"excellence\", \"itliked\", \"filmgood\", \"actingfeel\", \"well\\u263a\", \"winner\", \"bloody\", \"wonder\", \"jump\", \"river\", \"favorite\", \"nearly\", \"\\ud83d\\udcaf\", \"per\", \"hold\", \"script\", \"understanding\", \"black\", \"about\", \"express\", \"waste\", \"parent\", \"2\", \"time\", \"kabir\", \"singh\", \"loved\", \"kid\", \"done\", \"movie\", \"feeling\", \"like\", \"awesome\", \"reddy\", \"vijay\", \"played\", \"well\", \"way\", \"good\", \"go\", \"would\", \"shalini\", \"arjun\", \"vanga\", \"film\", \"role\", \"watch\", \"best\", \"one\", \"character\", \"lovethe\", \"praiseworthyhighly\", \"couple\", \"madness\", \"overpowered\", \"tremendous\", \"masterpiece\", \"expressed\", \"storyline\", \"writer\", \"said\", \"hard\", \"pure\", \"actress\", \"perfectly\", \"recommended\", \"job\", \"word\", \"twist\", \"pretty\", \"going\", \"man\", \"angry\", \"plot\", \"half\", \"actor\", \"could\", \"also\", \"everything\", \"ending\", \"movie\", \"director\", \"first\", \"time\", \"good\", \"love\", \"medium\", \"necessary\", \"okay\", \"poor\", \"social\", \"critic\", \"reason\", \"maybe\", \"here\", \"liked\", \"side\", \"pandey\", \"everyone\", \"three\", \"overall\", \"say\", \"hour\", \"long\", \"good\", \"job\", \"much\", \"direction\", \"shalini\", \"lovethe\", \"praiseworthyhighly\", \"couple\", \"madness\", \"tremendous\", \"overpowered\", \"deverakonda\", \"also\", \"movie\", \"vijay\", \"arjun\", \"reddy\", \"film\"], \"Freq\": [112.0, 19.0, 12.0, 10.0, 9.0, 5.0, 9.0, 29.0, 7.0, 33.0, 7.0, 6.0, 21.0, 4.0, 7.0, 38.0, 26.0, 7.0, 4.0, 45.0, 13.0, 9.0, 10.0, 20.0, 7.0, 11.0, 5.0, 4.0, 3.0, 9.0, 2.6138486050101153, 2.6138475992325216, 7.672892200362058, 1.7706726608962706, 1.7706720574297143, 1.7706720574297143, 1.7706718562741954, 1.7706718562741954, 1.7706718562741954, 1.7706718562741954, 1.7706716551186767, 1.7706716551186767, 1.770671453963158, 1.770671453963158, 1.770671453963158, 1.770671453963158, 1.770671453963158, 1.7706710516521205, 1.7706710516521205, 1.7706708504966018, 1.7706708504966018, 1.7706706493410829, 4.300202102481955, 3.4570253537460354, 3.4570257560570727, 3.4570253537460354, 1.7706706493410829, 2.6138500130987468, 4.300202102481955, 2.613849007321153, 4.975061970888006, 6.829752866552629, 6.829742406465654, 13.439464929612269, 6.829737578733202, 3.4570277676122605, 5.1433856905055135, 11.04562333396799, 2.613848001543559, 2.6138486050101153, 2.613848403854597, 7.672922776000911, 5.1433832766392875, 16.104707160423686, 6.829736774111128, 4.30020129785988, 9.359277882716901, 11.045630575566665, 4.300204114037143, 18.63409136772482, 6.5808651547350685, 9.3592746642286, 5.1433559194887355, 5.986541519067481, 4.30020451634818, 5.143382069706175, 5.143374425796462, 4.300200895548842, 3.4570321930336734, 3.457028974545373, 3.4570285722343357, 3.221547006750212, 2.4358150778721153, 1.650071087608592, 1.650069497096228, 1.650067508955773, 1.65006764149847, 1.65006764149847, 1.650063002504075, 1.650062472333287, 1.650060219107438, 1.650060219107438, 1.650059954022044, 1.6500590262231651, 1.650058496052377, 1.650057170625407, 1.6500517363748302, 2.4358153429575093, 0.8643229222501132, 0.8643229222501132, 0.8643229222501132, 0.8643229222501132, 0.8643229222501132, 0.8643229222501132, 0.8643227897074162, 0.8643225908933706, 0.8643225908933706, 0.8643225908933706, 0.8643225908933706, 0.8643225908933706, 0.8643227234360676, 1.650064725559136, 1.650032252598371, 3.2215602610199117, 4.793065737182963, 1.650069497096228, 1.650049880777072, 1.6500421933006462, 1.650069497096228, 1.6500611469063171, 2.4358195843238133, 2.4061915200072543, 3.221561321361488, 4.733803776671177, 3.221568213581732, 13.599353624527707, 4.007303323484556, 3.22157006917949, 8.187881835440171, 12.397036552868954, 5.3133901933076455, 4.6469177974214695, 4.007310480790195, 2.4358203795799955, 3.7127136600472914, 2.4358164032990857, 3.875961993490311, 2.3318310907094277, 4.00731419198571, 3.22155283862888, 2.4358140175305394, 2.364818317138751, 2.4358190541530256, 2.4358116317619936, 3.1655861546499042, 2.4358095110788414, 2.440197437752512, 2.440195325542709, 2.440195325542709, 1.6530373061234045, 1.6530367780709538, 1.6530363820316156, 1.653036250018503, 1.6530359859922776, 1.653035853979165, 1.653035853979165, 1.653035853979165, 1.6530354579398268, 1.6530355899529394, 1.6530354579398268, 1.6530350619004888, 3.227357569381619, 2.440197437752512, 2.4401977017787373, 3.227357833407845, 0.8658768444615155, 0.8658768444615155, 0.8658768444615155, 0.8658768444615155, 0.8658767784549591, 0.8658767784549591, 0.8658767784549591, 0.8658767784549591, 0.8658767784549591, 0.8658765144287337, 0.8658765144287337, 3.2273583614602956, 3.227356513276718, 3.2273610017225494, 1.6530363820316156, 2.4401945334640325, 4.014522189456558, 1.6530367780709538, 3.2273602096438734, 1.6530369100840665, 1.6530354579398268, 4.801696578501837, 4.01451981322053, 25.267930759887037, 4.014519549194304, 2.4402024542507945, 6.376006808763487, 6.376045356592394, 6.376002584343881, 4.801681264980765, 3.2273668102995083, 6.376009449025741, 7.163176709362934, 2.4402035103556963, 4.014532750505574, 2.4402119591949085, 2.4401990219098644, 2.440201662172118, 3.227309780634823, 2.4402066786704006, 2.4402043024343723, 2.440202982303245, 2.4402011341196674, 2.440201662172118, 2.3303582413611807, 2.330357795186257, 2.3303573490113334, 2.330356010486562, 1.578629121536315, 1.5786287869051223, 3.833826743034158, 2.330358018273719, 0.826901396008086, 0.826901396008086, 0.826901396008086, 0.826901396008086, 0.826901396008086, 0.8269012844643551, 0.8269012844643551, 0.8269012844643551, 0.8269012844643551, 0.8269012844643551, 0.8269012844643551, 0.826901396008086, 0.826901396008086, 0.826901396008086, 0.826901396008086, 0.8269012844643551, 0.8269012844643551, 0.8269012844643551, 0.8269012844643551, 0.8269012844643551, 0.8269012844643551, 0.8269012286924896, 1.5786294561675078, 1.578629121536315, 4.585556085946485, 1.578629233080046, 1.57863090623601, 1.5786288984488532, 1.5786320216733192, 1.5786303485173552, 3.082089815148127, 24.88230456261972, 3.082092492197669, 1.578629233080046, 1.5786301254298933, 2.3303595798859518, 1.5786346987228614, 1.578632356304512, 2.330358018273719, 1.5786315754983955, 4.585550731847401, 7.592469442021482, 5.337277397710186, 2.330361141498185, 4.585552070372172, 7.592448025625143, 3.8338303124335473, 4.585528423101215, 2.330356010486562, 3.082092492197669, 3.833821388935073, 3.0820942768973643, 2.330361141498185, 2.330361364585647, 2.3303653801599604, 2.330360472235799, 3.082088030448432, 2.3303598029734136, 3.0820869150111228, 2.3303689495593503, 2.330361141498185, 1.578183200980535, 1.5781827661301961, 1.578182113854688, 1.578182113854688, 1.5781818964295187, 2.32969851399945, 0.8266678336053274, 0.8266678336053274, 0.8266678336053274, 0.8266678336053274, 0.8266678336053274, 0.8266678336053274, 0.8266678336053274, 0.8266678336053274, 0.8266678336053274, 0.8266678336053274, 0.8266678336053274, 0.8266677248927427, 0.826667453111281, 0.826667453111281, 0.826667453111281, 0.8266673443986963, 0.8266672900424039, 0.8266672900424039, 0.8266672900424039, 0.8266672900424039, 0.8266672900424039, 0.8266672900424039, 0.8266672900424039, 0.8266672900424039, 3.832740011295749, 2.3296998185504663, 1.57818494038189, 1.5781826574176114, 1.5781860275077368, 1.5781843968189666, 3.08121904522243, 2.3297132989109675, 1.5781824399924422, 2.329700253400805, 5.335784552544419, 1.5781854839448133, 3.0812201323482773, 6.838822571038008, 2.3297004708259745, 1.5781843968189666, 1.5781823312798575, 1.5781826574176114, 1.5781823312798575, 6.087323347481627, 1.5781840706812125, 2.329714820887153, 1.5781865710706602, 2.3297039496286844, 9.84486642910012, 5.335770202483241, 2.329701123101483, 3.832736967343378, 2.329704167053854, 5.33574976451732, 3.0812162186952285, 2.32970895040758, 2.3297132989109675, 3.081216870970737, 2.329700688251144, 2.329701123101483, 2.3296987314246196, 2.329694382921232, 2.329683076812425, 2.3296987314246196, 2.3296935132205547, 1.4493915095376555, 1.4493905573797996, 1.4493905573797996, 1.4493900813008718, 1.449302958857067, 1.4493020066992113, 1.4492972459099323, 1.4493016893132593, 2.1395226645975303, 0.7592051293221448, 0.7592051293221448, 0.7592051293221448, 0.7592051293221448, 0.7592051293221448, 0.7592051293221448, 0.7592051293221448, 0.7592051293221448, 0.7592051293221448, 0.7592049706291689, 0.7592048912826809, 0.7592048912826809, 0.7592048912826809, 0.7592048912826809, 0.7592048912826809, 0.7592048119361929, 0.7592048119361929, 0.7592048119361929, 0.7592048119361929, 0.7592048119361929, 0.759204653243217, 1.4493910334587274, 1.4493024827781391, 2.1395221885186024, 2.13957852452507, 1.4493916682306314, 1.4493089891901536, 1.4493910334587274, 2.829725866268493, 1.4493924616955112, 2.139582650542445, 1.4493924616955112, 7.661103367853035, 1.4493988094145498, 2.297954908002874, 1.4492217080533731, 5.110356262085284, 5.369351450894675, 2.1395839200862525, 1.449389605221944, 1.4493921443095592, 1.4493099413480095, 2.13957931798995, 4.7571333101653375, 3.0629175771859996, 2.9581703740846863, 2.8297277705842045, 4.432763597749368, 2.398359636509885, 1.6530907656439977, 1.5865603224004923, 1.6096328528689983, 1.5647784419055084, 1.5117687989071846, 1.5117653076617132, 1.5117641968108815, 1.449402141967045, 1.4493957942480065, 1.449393572546343, 1.449393413853367, 1.304761663461647, 1.3047610670232752, 1.3047602320095546, 0.6834469207643288, 0.6834469207643288, 0.6834469207643288, 0.6834469207643288, 0.6834468611204916, 0.6834468611204916, 0.6834468611204916, 0.6834468611204916, 0.6834468611204916, 0.6834468611204916, 0.6834468611204916, 0.6834468611204916, 0.6834468611204916, 0.6834468611204916, 0.6834468611204916, 0.6834468611204916, 0.6834468611204916, 0.6834468611204916, 0.6834468611204916, 0.6834468611204916, 0.6834468611204916, 0.6834468611204916, 0.6834468611204916, 0.6834468611204916, 0.6834468611204916, 0.6834468611204916, 0.6834468611204916, 1.9260778376110574, 1.92607736046036, 2.5474097577334835, 1.3047617827493214, 1.3047639299274598, 9.381879203952119, 2.5473980675413963, 3.168733924157076, 1.3047627370507162, 2.5473868545000062, 1.9260894085154703, 1.9260931064333755, 1.304763333489088, 2.5473928188837243, 2.54740856485674, 1.3047642877904828, 1.9260814162412883, 1.3047800337634983, 1.3047623791876932, 1.3047626177630418, 2.5473632355404834, 1.3047697750235034, 1.3047639299274598, 1.3047622599000188, 1.9260526679117675, 1.3047658385302496, 1.3047566533793238, 0.6018888914559746, 0.6018888914559746, 0.6018888032198793, 0.6018888032198793, 0.6018888032198793, 0.6018888032198793, 0.6018888032198793, 0.6018888032198793, 0.6018888032198793, 0.6018888032198793, 0.6018888032198793, 0.6018888032198793, 0.6018888032198793, 0.6018888032198793, 0.6018888032198793, 0.6018888032198793, 0.6018888032198793, 0.6018888032198793, 0.6018888032198793, 0.6018888032198793, 0.6018888032198793, 0.6018888032198793, 0.6018888032198793, 0.6018887591018316, 0.6018887591018316, 0.6018887591018316, 0.6018887591018316, 0.6018887591018316, 0.6018887149837839, 0.6018887149837839, 1.149061874341861, 1.1490616096335753, 1.1490600213838602, 2.7905813965341397, 1.1490641684803382, 1.1490641684803382, 1.6962376366647487, 1.149062227286242, 1.1490674332158635, 5.526410884171319, 1.149062227286242, 2.243414193112494, 1.1490741391591046, 2.790585278922332, 2.2434187813894484, 1.1490614331613846, 1.1490633743554808, 1.6962326954434133, 1.6962302248327454, 1.1490613449252893, 1.1490563154678586, 1.149060550800432, 2.2433974282543914, 1.1490636390637665, 1.6962187541403595, 1.1490625802306231, 1.1490560507595726, 1.1490598449116696, 1.1490519036630946, 1.1490512860104278, 0.27273192920854084, 0.27273192920854084, 0.27273192920854084, 0.27273192920854084, 0.27273192920854084, 0.2727318838807114, 0.5206732072567776, 0.2727321558476882, 0.2727349435091999, 0.2727321105198587, 0.2727331077321068, 0.2727327224455564, 0.2727321558476882, 0.2727344675669906, 0.2727323144950913, 0.27273290375687426, 0.5206762442213514, 0.27273285842904477, 0.27273269978164166, 0.2727329944125331, 0.2727326317898975, 0.27273328904342464, 0.2727331077321068, 0.27273224650334704, 0.27273186121679666, 0.5206810036434447, 0.2727331077321068, 0.5206769241387933, 0.27273301707644787, 0.27273376498563395, 0.768613669404084, 0.2727360087131922, 0.2727334023629983, 0.27273328904342464, 0.2727327224455564, 0.2727326317898975, 0.23301698869990242, 0.23301698869990242, 0.23301698869990242, 0.23301697022408224, 0.23301695174826206, 0.23301719193392442, 0.23301704412736296, 0.23301702565154278, 0.2330199817827718, 0.23301722888556478, 0.23301737669212624, 0.23301709955482353, 0.23301809724911332, 0.23301702565154278, 0.2330183004831353, 0.23301826353149493, 0.23301837438641604, 0.2330178201118106, 0.8685333782632159, 0.2330186145720784, 0.23301835591059586, 0.2330208870979607, 0.23301754297450786, 0.021183368487752097, 0.021183368487752097, 0.021183368487752097, 0.021183368487752097, 0.021183368487752097, 0.021183368487752097, 0.23301809724911332, 0.23301835591059586, 0.8685262835482662, 0.23301772773270968, 0.021184119067946965, 0.021184035926756148, 0.021183758789453427], \"Total\": [112.0, 19.0, 12.0, 10.0, 9.0, 5.0, 9.0, 29.0, 7.0, 33.0, 7.0, 6.0, 21.0, 4.0, 7.0, 38.0, 26.0, 7.0, 4.0, 45.0, 13.0, 9.0, 10.0, 20.0, 7.0, 11.0, 5.0, 4.0, 3.0, 9.0, 3.1533100167159693, 3.153309998511043, 9.927659321824326, 2.3101326063773047, 2.310132600976652, 2.31013280688109, 2.310132723198057, 2.3101327518102828, 2.3101327649168297, 2.3101327812543677, 2.3101327102699787, 2.3101327327114367, 2.310132560722602, 2.3101325754746074, 2.3101326084533227, 2.310132622802124, 2.310132631130129, 2.3101324029304284, 2.3101324095763007, 2.3101324396324663, 2.3101325499677223, 2.3101325312729433, 5.626825409308121, 4.6178029991458045, 4.686674023840087, 4.782235526588595, 2.5219660526508605, 3.7746257681628816, 6.3769267985083475, 3.9048259801022374, 7.881377959892418, 11.792498026975611, 11.99657791696699, 29.54095160142838, 12.659052167104946, 5.569396654437887, 9.413538117732656, 26.264262432742335, 3.9048263560811427, 3.9050382293843597, 3.940470566889714, 19.47066833428674, 10.9912720537091, 59.38930836595194, 17.490725469352626, 9.262384136021112, 33.039027379366146, 45.52103004012872, 9.752877993588982, 112.00442331102582, 20.184246843010403, 38.117394712476, 19.415603255975245, 28.56865554812864, 13.40615591264072, 21.5471398272264, 24.013684651637416, 29.533695756696346, 16.825097813262378, 12.471734425283048, 8.411666386816098, 3.76676749901954, 2.981021752354288, 2.1952739715485525, 2.1952737919044574, 2.195273276218907, 2.1952736232318357, 2.1952736752903954, 2.1952728537504305, 2.1952728777016435, 2.1952725781043547, 2.195272687867433, 2.19527249138843, 2.195272397884083, 2.1952724084453163, 2.195272163906215, 2.19527166397127, 3.8241991765019603, 1.409525806190074, 1.409525806190074, 1.409525806190074, 1.409525806190074, 1.409525806190074, 1.409525806190074, 1.4095258671898312, 1.4095255695219095, 1.4095255787598195, 1.4095256041640722, 1.40952560647355, 1.40952560647355, 1.409525886270113, 2.742444945317127, 2.816584623575239, 6.148623488256562, 9.936342050291513, 2.9824346229851137, 2.982432067489778, 2.9824311691168237, 3.0384507595796646, 3.0384501315069947, 5.232676337257324, 5.170849658447597, 7.602477055558447, 12.471734425283048, 7.6168603050408175, 59.38930836595194, 10.83452893658503, 8.894709417347716, 45.52103004012872, 112.00442331102582, 28.56865554812864, 29.533695756696346, 21.5471398272264, 6.078960165307362, 18.57919694837276, 6.3822395009559445, 24.013684651637416, 5.9487547444795466, 38.117394712476, 19.415603255975245, 7.928052973822222, 8.18119059310858, 9.243088444317229, 9.374074461632649, 29.54095160142838, 17.490725469352626, 2.98526029642223, 2.9852598163175323, 2.9852599309946326, 2.198099383036484, 2.1980992888091904, 2.198099048286186, 2.198099203154455, 2.19809924969309, 2.198099294026939, 2.1980993030332234, 2.198099325255615, 2.1980989429231195, 2.1980991523089735, 2.198099123824373, 2.1980988071087455, 4.615598338271304, 3.5324321640676692, 3.6065753877477666, 4.863536255355373, 1.410938465794336, 1.410938465794336, 1.410938465794336, 1.410938465794336, 1.4109383997877798, 1.4109383997877798, 1.4109383997877798, 1.4109383997877798, 1.4109383997877798, 1.4109385045756444, 1.410938513896166, 5.305784696421906, 5.458775519804353, 5.896981400396785, 2.8882857508268605, 4.613570625782064, 8.256470490520034, 2.9838341225781275, 6.642818601596472, 3.041276730929624, 3.041276207232727, 12.150232832628808, 9.728503121601142, 112.00442331102582, 10.83452893658503, 5.3659147189796315, 28.56865554812864, 29.533695756696346, 33.039027379366146, 18.57919694837276, 8.85923427874478, 38.117394712476, 59.38930836595194, 5.878643301233113, 24.013684651637416, 6.677205223120278, 6.7159548266255635, 7.620885774391012, 45.52103004012872, 8.846806313721828, 21.5471398272264, 19.415603255975245, 9.847911693305132, 7.803998327589543, 2.8789630866763165, 2.87896358533476, 2.8789633666136245, 2.8789634658596155, 2.127234812813035, 2.1272347139478516, 5.7894833395353285, 3.569180887717513, 1.3755062413232217, 1.3755062413232217, 1.3755062413232217, 1.3755062413232217, 1.3755062916121015, 1.3755061297794906, 1.3755061297794906, 1.3755061297794906, 1.3755061297794906, 1.3755061297794906, 1.3755061297794906, 1.375506329328761, 1.375506335614871, 1.3755063419009812, 1.375506348187091, 1.375506179284408, 1.3755062040368669, 1.3755062205385056, 1.375506360802438, 1.3755063773040772, 1.3755063855548968, 1.3755063545354898, 2.6744068486727417, 2.674406785819398, 9.341449744606086, 2.8787507770649787, 2.9129829670897123, 2.9143955224700493, 2.9704119961795477, 2.970412336083047, 6.850410553313797, 112.00442331102582, 7.6168603050408175, 3.295722115375728, 3.364624506208752, 6.068350548886206, 3.591726552763118, 3.6605989534683285, 6.609446133937584, 3.7001426243725124, 19.47066833428674, 45.52103004012872, 28.56865554812864, 7.620885774391012, 24.013684651637416, 59.38930836595194, 20.184246843010403, 38.117394712476, 8.256470490520034, 16.825097813262378, 29.533695756696346, 17.490725469352626, 8.284360471116026, 8.411666386816098, 8.846806313721828, 9.243088444317229, 26.264262432742335, 9.262384136021112, 29.54095160142838, 9.374074461632649, 9.702776956206662, 2.1268100402497434, 2.1268095004977594, 2.126809459855573, 2.1268095686086474, 2.1268093376243478, 3.6654868292901956, 1.3752939170006824, 1.3752939170006824, 1.3752939170006824, 1.3752939170006824, 1.3752939170006824, 1.3752939170006824, 1.3752939170006824, 1.3752939170006824, 1.3752939170006824, 1.3752939170006824, 1.3752939170006824, 1.3752938082880977, 1.375293750207627, 1.3752937551553286, 1.3752937704037995, 1.375293673493301, 1.375293612139357, 1.3752936191108405, 1.3752936394118949, 1.3752936428844473, 1.3752936430802596, 1.3752936513572471, 1.375293653328693, 1.3752936600781955, 7.045378475544697, 4.258698520483753, 2.816996331057389, 2.816996264774406, 2.912557752414535, 2.969987068366813, 7.041480473782406, 5.141420269996391, 3.1258045729674016, 6.102156833134425, 21.5471398272264, 3.5913025938281002, 9.847911693305132, 33.039027379366146, 6.609446133937584, 3.6656994382977355, 3.698306016707753, 3.7011314465482474, 3.7011313573731757, 29.533695756696346, 3.721715754083914, 7.005578927322314, 3.8031325139603585, 7.067501619134033, 112.00442331102582, 45.52103004012872, 8.284360471116026, 26.264262432742335, 8.85923427874478, 59.38930836595194, 19.47066833428674, 10.878389202940012, 10.969693129047037, 38.117394712476, 13.40615591264072, 16.825097813262378, 17.490725469352626, 19.415603255975245, 20.184246843010403, 24.013684651637416, 28.56865554812864, 2.0041505617579194, 2.0041506974490746, 2.004150728820076, 2.004150250542805, 2.0041627635724995, 2.0041625421450147, 2.0041635081089537, 2.2521005374605796, 3.4815048600794594, 1.3139641815424083, 1.3139641815424083, 1.3139641815424083, 1.3139641815424083, 1.3139641815424083, 1.3139641815424083, 1.3139641815424083, 1.3139641815424083, 1.3139641815424083, 1.313964263083071, 1.3139642168722572, 1.3139642251561756, 1.3139642251561756, 1.313964241724013, 1.3139642748596871, 1.3139642166319212, 1.3139642222745638, 1.31396423599751, 1.3139642526270359, 1.3139642635712898, 1.313964140788171, 2.6254659530235784, 2.625478199999777, 4.067387830056659, 4.265833076676852, 2.7558794859179523, 2.7913226782992226, 2.8473281772076615, 7.248394199233275, 3.095263484877083, 5.861937872115001, 3.3370696227657715, 38.117394712476, 3.4686425845956728, 7.081482519833341, 3.634512262953168, 33.039027379366146, 45.52103004012872, 8.551187031871256, 4.258698520483753, 4.293355704553195, 4.329999364748056, 9.728503121601142, 59.38930836595194, 28.56865554812864, 29.533695756696346, 26.264262432742335, 112.00442331102582, 18.57919694837276, 20.184246843010403, 10.878389202940012, 29.54095160142838, 24.013684651637416, 8.18119059310858, 9.702776956206662, 10.471385824990849, 4.386003030089905, 4.3860046773639505, 9.262384136021112, 7.221915227550269, 1.866408104825013, 1.866408771654163, 1.866409101516281, 1.2450930872437715, 1.2450930872437715, 1.2450930872437715, 1.2450930872437715, 1.2450930275999343, 1.2450930275999343, 1.2450930275999343, 1.2450930275999343, 1.2450930275999343, 1.2450930275999343, 1.2450930275999343, 1.2450930275999343, 1.2450930275999343, 1.2450930275999343, 1.2450930275999343, 1.2450930275999343, 1.2450930275999343, 1.2450930275999343, 1.2450930275999343, 1.2450930275999343, 1.2450930275999343, 1.2450930275999343, 1.2450930275999343, 1.2450930275999343, 1.2450930275999343, 1.2450930275999343, 1.2450930275999343, 3.9907558019381915, 4.174078902804127, 7.063796984316805, 3.43931382378245, 3.461101039275078, 112.00442331102582, 13.40615591264072, 20.184246843010403, 4.1894205087738285, 19.415603255975245, 10.878389202940012, 10.969693129047037, 4.846787858806622, 26.264262432742335, 29.54095160142838, 6.241798777329997, 16.825097813262378, 6.571692379970884, 6.594897535442542, 7.221915227550269, 59.38930836595194, 8.894709417347716, 9.341449744606086, 9.752877993588982, 45.52103004012872, 11.99657791696699, 24.013684651637416, 1.1709494271097165, 1.1709494271097165, 1.1709493388736212, 1.1709493388736212, 1.1709493388736212, 1.1709493388736212, 1.1709493388736212, 1.1709493388736212, 1.1709493388736212, 1.1709493388736212, 1.1709493388736212, 1.1709493388736212, 1.1709493388736212, 1.1709493388736212, 1.1709493388736212, 1.1709493388736212, 1.1709493388736212, 1.1709493388736212, 1.1709493388736212, 1.1709493388736212, 1.1709493388736212, 1.1709493388736212, 1.1709493388736212, 1.1709493618531184, 1.170949365580307, 1.1709493769122643, 1.1709493830209259, 1.1709493830209259, 1.1709493299612275, 1.1709493384601954, 2.469636826135694, 2.5038691447159898, 2.5038686717989127, 10.9912720537091, 3.125182065001034, 3.12518214921076, 5.86741142474732, 3.31281359621565, 4.135616011058571, 112.00442331102582, 4.829706294788402, 21.5471398272264, 5.320023728521354, 45.52103004012872, 29.54095160142838, 6.241798777329997, 6.25468511814355, 18.57919694837276, 19.415603255975245, 7.043492756243429, 7.067501619134033, 7.602477055558447, 59.38930836595194, 8.551187031871256, 38.117394712476, 11.99657791696699, 16.825097813262378, 17.490725469352626, 24.013684651637416, 26.264262432742335, 0.8717159520014188, 0.8717159780955976, 0.8717159818233373, 0.8717159855510772, 0.8717160191007356, 0.8717160073225645, 1.7409646821163172, 1.4188874818176491, 1.6232261815377105, 1.6232317981291597, 1.7148904651261687, 1.7148914288781432, 2.2521005374605796, 2.374955753481521, 2.4050792499400173, 2.466620023813573, 5.234048845599108, 3.095263484877083, 3.19755253130219, 3.309797304922735, 3.7487243353354813, 4.061312771768381, 4.095330897623565, 4.613570625782064, 4.863536255355373, 9.374074461632649, 5.468160674425162, 12.150232832628808, 7.041480473782406, 7.045378475544697, 112.00442331102582, 10.969693129047037, 8.480513219914897, 10.9912720537091, 19.415603255975245, 33.039027379366146, 0.8356115170839434, 0.835611525334763, 0.835611541836402, 0.8356115728654991, 0.8356115956437766, 1.5257974535224899, 1.6213583412359769, 1.6227722757524259, 1.678780515548827, 2.3728745158913935, 2.4303038921456315, 2.5219660526508605, 2.9328593380778076, 3.1258045729674016, 3.8031325139603585, 4.197315576852749, 4.5344901423535475, 4.75635322455029, 19.415603255975245, 5.234048845599108, 6.3822395009559445, 7.005578927322314, 7.602477055558447, 0.8717159520014188, 0.8717159780955976, 0.8717159818233373, 0.8717159855510772, 0.8717160073225645, 0.8717160191007356, 9.927659321824326, 12.150232832628808, 112.00442331102582, 29.54095160142838, 59.38930836595194, 45.52103004012872, 38.117394712476], \"Category\": [\"Default\", \"Default\", \"Default\", \"Default\", \"Default\", \"Default\", \"Default\", \"Default\", \"Default\", \"Default\", \"Default\", \"Default\", \"Default\", \"Default\", \"Default\", \"Default\", \"Default\", \"Default\", \"Default\", \"Default\", \"Default\", \"Default\", \"Default\", \"Default\", \"Default\", \"Default\", \"Default\", \"Default\", \"Default\", \"Default\", \"Topic1\", \"Topic1\", \"Topic1\", \"Topic1\", \"Topic1\", \"Topic1\", \"Topic1\", \"Topic1\", \"Topic1\", \"Topic1\", \"Topic1\", \"Topic1\", \"Topic1\", \"Topic1\", \"Topic1\", \"Topic1\", \"Topic1\", \"Topic1\", \"Topic1\", \"Topic1\", \"Topic1\", \"Topic1\", \"Topic1\", \"Topic1\", \"Topic1\", \"Topic1\", \"Topic1\", \"Topic1\", \"Topic1\", \"Topic1\", \"Topic1\", \"Topic1\", \"Topic1\", \"Topic1\", \"Topic1\", \"Topic1\", \"Topic1\", \"Topic1\", \"Topic1\", \"Topic1\", \"Topic1\", \"Topic1\", \"Topic1\", \"Topic1\", \"Topic1\", \"Topic1\", \"Topic1\", \"Topic1\", \"Topic1\", \"Topic1\", \"Topic1\", \"Topic1\", \"Topic1\", \"Topic1\", \"Topic1\", \"Topic1\", \"Topic1\", \"Topic1\", \"Topic1\", \"Topic1\", \"Topic1\", \"Topic2\", \"Topic2\", \"Topic2\", \"Topic2\", \"Topic2\", \"Topic2\", \"Topic2\", \"Topic2\", \"Topic2\", \"Topic2\", \"Topic2\", \"Topic2\", \"Topic2\", \"Topic2\", \"Topic2\", \"Topic2\", \"Topic2\", \"Topic2\", \"Topic2\", \"Topic2\", \"Topic2\", \"Topic2\", \"Topic2\", \"Topic2\", \"Topic2\", \"Topic2\", \"Topic2\", \"Topic2\", \"Topic2\", \"Topic2\", \"Topic2\", \"Topic2\", \"Topic2\", \"Topic2\", \"Topic2\", \"Topic2\", \"Topic2\", \"Topic2\", \"Topic2\", \"Topic2\", \"Topic2\", \"Topic2\", \"Topic2\", \"Topic2\", \"Topic2\", \"Topic2\", \"Topic2\", \"Topic2\", \"Topic2\", \"Topic2\", \"Topic2\", \"Topic2\", \"Topic2\", \"Topic2\", \"Topic2\", \"Topic2\", \"Topic2\", \"Topic2\", \"Topic2\", \"Topic2\", \"Topic2\", \"Topic2\", \"Topic2\", \"Topic2\", \"Topic2\", \"Topic3\", \"Topic3\", \"Topic3\", \"Topic3\", \"Topic3\", \"Topic3\", \"Topic3\", \"Topic3\", \"Topic3\", \"Topic3\", \"Topic3\", \"Topic3\", \"Topic3\", \"Topic3\", \"Topic3\", \"Topic3\", \"Topic3\", \"Topic3\", \"Topic3\", \"Topic3\", \"Topic3\", \"Topic3\", \"Topic3\", \"Topic3\", \"Topic3\", \"Topic3\", \"Topic3\", \"Topic3\", \"Topic3\", \"Topic3\", \"Topic3\", \"Topic3\", \"Topic3\", \"Topic3\", \"Topic3\", \"Topic3\", \"Topic3\", \"Topic3\", \"Topic3\", \"Topic3\", \"Topic3\", \"Topic3\", \"Topic3\", \"Topic3\", \"Topic3\", \"Topic3\", \"Topic3\", \"Topic3\", \"Topic3\", \"Topic3\", \"Topic3\", \"Topic3\", \"Topic3\", \"Topic3\", \"Topic3\", \"Topic3\", \"Topic3\", \"Topic3\", \"Topic3\", \"Topic3\", \"Topic3\", \"Topic3\", \"Topic3\", \"Topic4\", \"Topic4\", \"Topic4\", \"Topic4\", \"Topic4\", \"Topic4\", \"Topic4\", \"Topic4\", \"Topic4\", \"Topic4\", \"Topic4\", \"Topic4\", \"Topic4\", \"Topic4\", \"Topic4\", \"Topic4\", \"Topic4\", \"Topic4\", \"Topic4\", \"Topic4\", \"Topic4\", \"Topic4\", \"Topic4\", \"Topic4\", \"Topic4\", \"Topic4\", \"Topic4\", \"Topic4\", \"Topic4\", \"Topic4\", \"Topic4\", \"Topic4\", \"Topic4\", \"Topic4\", \"Topic4\", \"Topic4\", \"Topic4\", \"Topic4\", \"Topic4\", \"Topic4\", \"Topic4\", \"Topic4\", \"Topic4\", \"Topic4\", \"Topic4\", \"Topic4\", \"Topic4\", \"Topic4\", \"Topic4\", \"Topic4\", \"Topic4\", \"Topic4\", \"Topic4\", \"Topic4\", \"Topic4\", \"Topic4\", \"Topic4\", \"Topic4\", \"Topic4\", \"Topic4\", \"Topic4\", \"Topic4\", \"Topic4\", \"Topic4\", \"Topic4\", \"Topic4\", \"Topic4\", \"Topic4\", \"Topic4\", \"Topic5\", \"Topic5\", \"Topic5\", \"Topic5\", \"Topic5\", \"Topic5\", \"Topic5\", \"Topic5\", \"Topic5\", \"Topic5\", \"Topic5\", \"Topic5\", \"Topic5\", \"Topic5\", \"Topic5\", \"Topic5\", \"Topic5\", \"Topic5\", \"Topic5\", \"Topic5\", \"Topic5\", \"Topic5\", \"Topic5\", \"Topic5\", \"Topic5\", \"Topic5\", \"Topic5\", \"Topic5\", \"Topic5\", \"Topic5\", \"Topic5\", \"Topic5\", \"Topic5\", \"Topic5\", \"Topic5\", \"Topic5\", \"Topic5\", \"Topic5\", \"Topic5\", \"Topic5\", \"Topic5\", \"Topic5\", \"Topic5\", \"Topic5\", \"Topic5\", \"Topic5\", \"Topic5\", \"Topic5\", \"Topic5\", \"Topic5\", \"Topic5\", \"Topic5\", \"Topic5\", \"Topic5\", \"Topic5\", \"Topic5\", \"Topic5\", \"Topic5\", \"Topic5\", \"Topic5\", \"Topic5\", \"Topic5\", \"Topic5\", \"Topic5\", \"Topic5\", \"Topic5\", \"Topic5\", \"Topic5\", \"Topic5\", \"Topic5\", \"Topic5\", \"Topic6\", \"Topic6\", \"Topic6\", \"Topic6\", \"Topic6\", \"Topic6\", \"Topic6\", \"Topic6\", \"Topic6\", \"Topic6\", \"Topic6\", \"Topic6\", \"Topic6\", \"Topic6\", \"Topic6\", \"Topic6\", \"Topic6\", \"Topic6\", \"Topic6\", \"Topic6\", \"Topic6\", \"Topic6\", \"Topic6\", \"Topic6\", \"Topic6\", \"Topic6\", \"Topic6\", \"Topic6\", \"Topic6\", \"Topic6\", \"Topic6\", \"Topic6\", \"Topic6\", \"Topic6\", \"Topic6\", \"Topic6\", \"Topic6\", \"Topic6\", \"Topic6\", \"Topic6\", \"Topic6\", \"Topic6\", \"Topic6\", \"Topic6\", \"Topic6\", \"Topic6\", \"Topic6\", \"Topic6\", \"Topic6\", \"Topic6\", \"Topic6\", \"Topic6\", \"Topic6\", \"Topic6\", \"Topic6\", \"Topic6\", \"Topic6\", \"Topic6\", \"Topic6\", \"Topic6\", \"Topic6\", \"Topic6\", \"Topic6\", \"Topic6\", \"Topic6\", \"Topic6\", \"Topic6\", \"Topic6\", \"Topic6\", \"Topic7\", \"Topic7\", \"Topic7\", \"Topic7\", \"Topic7\", \"Topic7\", \"Topic7\", \"Topic7\", \"Topic7\", \"Topic7\", \"Topic7\", \"Topic7\", \"Topic7\", \"Topic7\", \"Topic7\", \"Topic7\", \"Topic7\", \"Topic7\", \"Topic7\", \"Topic7\", \"Topic7\", \"Topic7\", \"Topic7\", \"Topic7\", \"Topic7\", \"Topic7\", \"Topic7\", \"Topic7\", \"Topic7\", \"Topic7\", \"Topic7\", \"Topic7\", \"Topic7\", \"Topic7\", \"Topic7\", \"Topic7\", \"Topic7\", \"Topic7\", \"Topic7\", \"Topic7\", \"Topic7\", \"Topic7\", \"Topic7\", \"Topic7\", \"Topic7\", \"Topic7\", \"Topic7\", \"Topic7\", \"Topic7\", \"Topic7\", \"Topic7\", \"Topic7\", \"Topic7\", \"Topic7\", \"Topic7\", \"Topic7\", \"Topic7\", \"Topic8\", \"Topic8\", \"Topic8\", \"Topic8\", \"Topic8\", \"Topic8\", \"Topic8\", \"Topic8\", \"Topic8\", \"Topic8\", \"Topic8\", \"Topic8\", \"Topic8\", \"Topic8\", \"Topic8\", \"Topic8\", \"Topic8\", \"Topic8\", \"Topic8\", \"Topic8\", \"Topic8\", \"Topic8\", \"Topic8\", \"Topic8\", \"Topic8\", \"Topic8\", \"Topic8\", \"Topic8\", \"Topic8\", \"Topic8\", \"Topic8\", \"Topic8\", \"Topic8\", \"Topic8\", \"Topic8\", \"Topic8\", \"Topic8\", \"Topic8\", \"Topic8\", \"Topic8\", \"Topic8\", \"Topic8\", \"Topic8\", \"Topic8\", \"Topic8\", \"Topic8\", \"Topic8\", \"Topic8\", \"Topic8\", \"Topic8\", \"Topic8\", \"Topic8\", \"Topic8\", \"Topic8\", \"Topic8\", \"Topic8\", \"Topic8\", \"Topic8\", \"Topic8\", \"Topic8\", \"Topic9\", \"Topic9\", \"Topic9\", \"Topic9\", \"Topic9\", \"Topic9\", \"Topic9\", \"Topic9\", \"Topic9\", \"Topic9\", \"Topic9\", \"Topic9\", \"Topic9\", \"Topic9\", \"Topic9\", \"Topic9\", \"Topic9\", \"Topic9\", \"Topic9\", \"Topic9\", \"Topic9\", \"Topic9\", \"Topic9\", \"Topic9\", \"Topic9\", \"Topic9\", \"Topic9\", \"Topic9\", \"Topic9\", \"Topic9\", \"Topic9\", \"Topic9\", \"Topic9\", \"Topic9\", \"Topic9\", \"Topic9\", \"Topic10\", \"Topic10\", \"Topic10\", \"Topic10\", \"Topic10\", \"Topic10\", \"Topic10\", \"Topic10\", \"Topic10\", \"Topic10\", \"Topic10\", \"Topic10\", \"Topic10\", \"Topic10\", \"Topic10\", \"Topic10\", \"Topic10\", \"Topic10\", \"Topic10\", \"Topic10\", \"Topic10\", \"Topic10\", \"Topic10\", \"Topic10\", \"Topic10\", \"Topic10\", \"Topic10\", \"Topic10\", \"Topic10\", \"Topic10\", \"Topic10\", \"Topic10\", \"Topic10\", \"Topic10\", \"Topic10\", \"Topic10\"], \"logprob\": [30.0, 29.0, 28.0, 27.0, 26.0, 25.0, 24.0, 23.0, 22.0, 21.0, 20.0, 19.0, 18.0, 17.0, 16.0, 15.0, 14.0, 13.0, 12.0, 11.0, 10.0, 9.0, 8.0, 7.0, 6.0, 5.0, 4.0, 3.0, 2.0, 1.0, -5.8007001876831055, -5.8007001876831055, -4.723800182342529, -6.190199851989746, -6.190199851989746, -6.190199851989746, -6.190199851989746, -6.190199851989746, -6.190199851989746, -6.190199851989746, -6.190199851989746, -6.190199851989746, -6.190199851989746, -6.190199851989746, -6.190199851989746, -6.190199851989746, -6.190199851989746, -6.190199851989746, -6.190199851989746, -6.190199851989746, -6.190199851989746, -6.190199851989746, -5.3028998374938965, -5.521100044250488, -5.521100044250488, -5.521100044250488, -6.190199851989746, -5.8007001876831055, -5.3028998374938965, -5.8007001876831055, -5.157100200653076, -4.840199947357178, -4.840199947357178, -4.163300037384033, -4.840199947357178, -5.521100044250488, -5.123799800872803, -4.359499931335449, -5.8007001876831055, -5.8007001876831055, -5.8007001876831055, -4.723800182342529, -5.123799800872803, -3.9823999404907227, -4.840199947357178, -5.3028998374938965, -4.525199890136719, -4.359499931335449, -5.3028998374938965, -3.8364999294281006, -4.877399921417236, -4.525199890136719, -5.123799800872803, -4.9720001220703125, -5.3028998374938965, -5.123799800872803, -5.123799800872803, -5.3028998374938965, -5.521100044250488, -5.521100044250488, -5.521100044250488, -5.174499988555908, -5.454100131988525, -5.843500137329102, -5.843500137329102, -5.843500137329102, -5.843500137329102, -5.843500137329102, -5.843500137329102, -5.843500137329102, -5.843500137329102, -5.843500137329102, -5.843500137329102, -5.843500137329102, -5.843500137329102, -5.843500137329102, -5.843500137329102, -5.454100131988525, -6.490200042724609, -6.490200042724609, -6.490200042724609, -6.490200042724609, -6.490200042724609, -6.490200042724609, -6.490200042724609, -6.490200042724609, -6.490200042724609, -6.490200042724609, -6.490200042724609, -6.490200042724609, -6.490200042724609, -5.843500137329102, -5.843599796295166, -5.174499988555908, -4.777200222015381, -5.843500137329102, -5.843500137329102, -5.843500137329102, -5.843500137329102, -5.843500137329102, -5.454100131988525, -5.466300010681152, -5.174499988555908, -4.789599895477295, -5.174499988555908, -3.734299898147583, -4.956200122833252, -5.174499988555908, -4.241700172424316, -3.826900005340576, -4.674099922180176, -4.80810022354126, -4.956200122833252, -5.454100131988525, -5.032599925994873, -5.454100131988525, -4.98960018157959, -5.497700214385986, -4.956200122833252, -5.174499988555908, -5.454100131988525, -5.48360013961792, -5.454100131988525, -5.454100131988525, -5.191999912261963, -5.454100131988525, -5.448299884796143, -5.448299884796143, -5.448299884796143, -5.837699890136719, -5.837699890136719, -5.837699890136719, -5.837699890136719, -5.837699890136719, -5.837699890136719, -5.837699890136719, -5.837699890136719, -5.837699890136719, -5.837699890136719, -5.837699890136719, -5.837699890136719, -5.168700218200684, -5.448299884796143, -5.448299884796143, -5.168700218200684, -6.484399795532227, -6.484399795532227, -6.484399795532227, -6.484399795532227, -6.484399795532227, -6.484399795532227, -6.484399795532227, -6.484399795532227, -6.484399795532227, -6.484399795532227, -6.484399795532227, -5.168700218200684, -5.168700218200684, -5.168700218200684, -5.837699890136719, -5.448299884796143, -4.950399875640869, -5.837699890136719, -5.168700218200684, -5.837699890136719, -5.837699890136719, -4.771399974822998, -4.950399875640869, -3.11080002784729, -4.950399875640869, -5.448299884796143, -4.487800121307373, -4.487800121307373, -4.487800121307373, -4.771399974822998, -5.168700218200684, -4.487800121307373, -4.371399879455566, -5.448299884796143, -4.950399875640869, -5.448299884796143, -5.448299884796143, -5.448299884796143, -5.168700218200684, -5.448299884796143, -5.448299884796143, -5.448299884796143, -5.448299884796143, -5.448299884796143, -5.325799942016602, -5.325799942016602, -5.325799942016602, -5.325799942016602, -5.7153000831604, -5.7153000831604, -4.828000068664551, -5.325799942016602, -6.3618998527526855, -6.3618998527526855, -6.3618998527526855, -6.3618998527526855, -6.3618998527526855, -6.3618998527526855, -6.3618998527526855, -6.3618998527526855, -6.3618998527526855, -6.3618998527526855, -6.3618998527526855, -6.3618998527526855, -6.3618998527526855, -6.3618998527526855, -6.3618998527526855, -6.3618998527526855, -6.3618998527526855, -6.3618998527526855, -6.3618998527526855, -6.3618998527526855, -6.3618998527526855, -6.3618998527526855, -5.7153000831604, -5.7153000831604, -4.648900032043457, -5.7153000831604, -5.7153000831604, -5.7153000831604, -5.7153000831604, -5.7153000831604, -5.046299934387207, -2.95770001411438, -5.046299934387207, -5.7153000831604, -5.7153000831604, -5.325799942016602, -5.7153000831604, -5.7153000831604, -5.325799942016602, -5.7153000831604, -4.64900016784668, -4.144700050354004, -4.497099876403809, -5.325799942016602, -4.64900016784668, -4.144700050354004, -4.828000068664551, -4.64900016784668, -5.325799942016602, -5.046299934387207, -4.828000068664551, -5.046299934387207, -5.325799942016602, -5.325799942016602, -5.325799942016602, -5.325799942016602, -5.046299934387207, -5.325799942016602, -5.046299934387207, -5.325799942016602, -5.325799942016602, -5.689899921417236, -5.689899921417236, -5.689899921417236, -5.689899921417236, -5.689899921417236, -5.3003997802734375, -6.33650016784668, -6.33650016784668, -6.33650016784668, -6.33650016784668, -6.33650016784668, -6.33650016784668, -6.33650016784668, -6.33650016784668, -6.33650016784668, -6.33650016784668, -6.33650016784668, -6.33650016784668, -6.33650016784668, -6.33650016784668, -6.33650016784668, -6.33650016784668, -6.33650016784668, -6.33650016784668, -6.33650016784668, -6.33650016784668, -6.33650016784668, -6.33650016784668, -6.33650016784668, -6.33650016784668, -4.802599906921387, -5.3003997802734375, -5.689899921417236, -5.689899921417236, -5.689899921417236, -5.689899921417236, -5.0208001136779785, -5.3003997802734375, -5.689899921417236, -5.3003997802734375, -4.471700191497803, -5.689899921417236, -5.0208001136779785, -4.223499774932861, -5.3003997802734375, -5.689899921417236, -5.689899921417236, -5.689899921417236, -5.689899921417236, -4.339900016784668, -5.689899921417236, -5.3003997802734375, -5.689899921417236, -5.3003997802734375, -3.8592000007629395, -4.471700191497803, -5.3003997802734375, -4.802599906921387, -5.3003997802734375, -4.471700191497803, -5.0208001136779785, -5.3003997802734375, -5.3003997802734375, -5.0208001136779785, -5.3003997802734375, -5.3003997802734375, -5.3003997802734375, -5.3003997802734375, -5.3003997802734375, -5.3003997802734375, -5.3003997802734375, -5.460100173950195, -5.460100173950195, -5.460100173950195, -5.460100173950195, -5.46019983291626, -5.46019983291626, -5.46019983291626, -5.46019983291626, -5.070700168609619, -6.106800079345703, -6.106800079345703, -6.106800079345703, -6.106800079345703, -6.106800079345703, -6.106800079345703, -6.106800079345703, -6.106800079345703, -6.106800079345703, -6.106800079345703, -6.106800079345703, -6.106800079345703, -6.106800079345703, -6.106800079345703, -6.106800079345703, -6.106800079345703, -6.106800079345703, -6.106800079345703, -6.106800079345703, -6.106800079345703, -6.106800079345703, -5.460100173950195, -5.46019983291626, -5.070700168609619, -5.070700168609619, -5.460100173950195, -5.46019983291626, -5.460100173950195, -4.791100025177002, -5.460100173950195, -5.070700168609619, -5.460100173950195, -3.795099973678589, -5.460100173950195, -4.999199867248535, -5.46019983291626, -4.199999809265137, -4.150599956512451, -5.070700168609619, -5.460100173950195, -5.460100173950195, -5.46019983291626, -5.070700168609619, -4.271599769592285, -4.711900234222412, -4.746699810028076, -4.791100025177002, -4.342199802398682, -4.956500053405762, -5.32859992980957, -5.369699954986572, -5.355299949645996, -5.383500099182129, -5.418000221252441, -5.418000221252441, -5.418000221252441, -5.460100173950195, -5.460100173950195, -5.460100173950195, -5.460100173950195, -5.279799938201904, -5.279799938201904, -5.279799938201904, -5.926400184631348, -5.926400184631348, -5.926400184631348, -5.926400184631348, -5.926400184631348, -5.926400184631348, -5.926400184631348, -5.926400184631348, -5.926400184631348, -5.926400184631348, -5.926400184631348, -5.926400184631348, -5.926400184631348, -5.926400184631348, -5.926400184631348, -5.926400184631348, -5.926400184631348, -5.926400184631348, -5.926400184631348, -5.926400184631348, -5.926400184631348, -5.926400184631348, -5.926400184631348, -5.926400184631348, -5.926400184631348, -5.926400184631348, -5.926400184631348, -4.8902997970581055, -4.8902997970581055, -4.610799789428711, -5.279799938201904, -5.279799938201904, -3.3071000576019287, -4.610799789428711, -4.392499923706055, -5.279799938201904, -4.610799789428711, -4.8902997970581055, -4.8902997970581055, -5.279799938201904, -4.610799789428711, -4.610799789428711, -5.279799938201904, -4.8902997970581055, -5.279799938201904, -5.279799938201904, -5.279799938201904, -4.610799789428711, -5.279799938201904, -5.279799938201904, -5.279799938201904, -4.890399932861328, -5.279799938201904, -5.279799938201904, -5.751999855041504, -5.751999855041504, -5.751999855041504, -5.751999855041504, -5.751999855041504, -5.751999855041504, -5.751999855041504, -5.751999855041504, -5.751999855041504, -5.751999855041504, -5.751999855041504, -5.751999855041504, -5.751999855041504, -5.751999855041504, -5.751999855041504, -5.751999855041504, -5.751999855041504, -5.751999855041504, -5.751999855041504, -5.751999855041504, -5.751999855041504, -5.751999855041504, -5.751999855041504, -5.751999855041504, -5.751999855041504, -5.751999855041504, -5.751999855041504, -5.751999855041504, -5.751999855041504, -5.751999855041504, -5.105400085449219, -5.105400085449219, -5.105400085449219, -4.218100070953369, -5.105400085449219, -5.105400085449219, -4.71589994430542, -5.105400085449219, -5.105400085449219, -3.5348000526428223, -5.105400085449219, -4.436299800872803, -5.105400085449219, -4.218100070953369, -4.436299800872803, -5.105400085449219, -5.105400085449219, -4.71589994430542, -4.71589994430542, -5.105400085449219, -5.105400085449219, -5.105400085449219, -4.436299800872803, -5.105400085449219, -4.71589994430542, -5.105400085449219, -5.105400085449219, -5.105400085449219, -5.105400085449219, -5.105400085449219, -5.184299945831299, -5.184299945831299, -5.184299945831299, -5.184299945831299, -5.184299945831299, -5.184299945831299, -4.537700176239014, -5.184299945831299, -5.184299945831299, -5.184299945831299, -5.184299945831299, -5.184299945831299, -5.184299945831299, -5.184299945831299, -5.184299945831299, -5.184299945831299, -4.537700176239014, -5.184299945831299, -5.184299945831299, -5.184299945831299, -5.184299945831299, -5.184299945831299, -5.184299945831299, -5.184299945831299, -5.184299945831299, -4.537700176239014, -5.184299945831299, -4.537700176239014, -5.184299945831299, -5.184299945831299, -4.148200035095215, -5.184299945831299, -5.184299945831299, -5.184299945831299, -5.184299945831299, -5.184299945831299, -5.137400150299072, -5.137400150299072, -5.137400150299072, -5.137400150299072, -5.137400150299072, -5.137400150299072, -5.137400150299072, -5.137400150299072, -5.137400150299072, -5.137400150299072, -5.137400150299072, -5.137400150299072, -5.137400150299072, -5.137400150299072, -5.137400150299072, -5.137400150299072, -5.137400150299072, -5.137400150299072, -3.821700096130371, -5.137400150299072, -5.137400150299072, -5.137400150299072, -5.137400150299072, -7.535299777984619, -7.535299777984619, -7.535299777984619, -7.535299777984619, -7.535299777984619, -7.535299777984619, -5.137400150299072, -5.137400150299072, -3.821700096130371, -5.137400150299072, -7.535299777984619, -7.535299777984619, -7.535299777984619], \"loglift\": [30.0, 29.0, 28.0, 27.0, 26.0, 25.0, 24.0, 23.0, 22.0, 21.0, 20.0, 19.0, 18.0, 17.0, 16.0, 15.0, 14.0, 13.0, 12.0, 11.0, 10.0, 9.0, 8.0, 7.0, 6.0, 5.0, 4.0, 3.0, 2.0, 1.0, 1.2991, 1.2991, 1.2291, 1.2208, 1.2208, 1.2208, 1.2208, 1.2208, 1.2208, 1.2208, 1.2208, 1.2208, 1.2208, 1.2208, 1.2208, 1.2208, 1.2208, 1.2208, 1.2208, 1.2208, 1.2208, 1.2208, 1.2179, 1.1972, 1.1824, 1.1622, 1.1331, 1.1193, 1.0927, 1.0854, 1.0267, 0.9406, 0.9234, 0.6992, 0.8697, 1.0099, 0.8823, 0.6206, 1.0854, 1.0853, 1.0763, 0.5555, 0.7274, 0.1817, 0.5464, 0.7194, 0.2254, 0.0706, 0.6678, -0.3068, 0.366, 0.0824, 0.1584, -0.0761, 0.3497, 0.0542, -0.0542, -0.4401, -0.0957, 0.2037, 0.5975, 1.7476, 1.7019, 1.6184, 1.6184, 1.6184, 1.6184, 1.6184, 1.6184, 1.6184, 1.6184, 1.6184, 1.6184, 1.6184, 1.6184, 1.6184, 1.6184, 1.4529, 1.4149, 1.4149, 1.4149, 1.4149, 1.4149, 1.4149, 1.4149, 1.4149, 1.4149, 1.4149, 1.4149, 1.4149, 1.4149, 1.3959, 1.3692, 1.2576, 1.1749, 1.312, 1.312, 1.312, 1.2934, 1.2934, 1.1393, 1.1389, 1.0453, 0.9352, 1.0434, 0.4298, 0.9093, 0.8883, 0.1884, -0.2972, 0.2218, 0.0546, 0.2218, 0.9894, 0.2936, 0.9407, 0.0801, 0.9674, -0.3486, 0.1077, 0.7238, 0.6628, 0.5703, 0.5563, -0.3295, -0.0675, 1.7063, 1.7063, 1.7063, 1.6229, 1.6229, 1.6229, 1.6229, 1.6229, 1.6229, 1.6229, 1.6229, 1.6229, 1.6229, 1.6229, 1.6229, 1.5501, 1.538, 1.5172, 1.4978, 1.4197, 1.4197, 1.4197, 1.4197, 1.4197, 1.4197, 1.4197, 1.4197, 1.4197, 1.4197, 1.4197, 1.4108, 1.3824, 1.3051, 1.3499, 1.271, 1.1868, 1.3173, 1.1861, 1.2983, 1.2983, 0.9795, 1.0228, 0.4189, 0.9151, 1.1199, 0.4082, 0.3749, 0.2628, 0.5548, 0.8981, 0.1198, -0.2072, 1.0287, 0.1192, 0.9013, 0.8955, 0.7691, -0.7386, 0.6199, -0.2702, -0.1661, 0.5127, 0.7454, 1.865, 1.865, 1.865, 1.865, 1.7781, 1.7781, 1.6642, 1.6501, 1.5675, 1.5675, 1.5675, 1.5675, 1.5675, 1.5675, 1.5675, 1.5675, 1.5675, 1.5675, 1.5675, 1.5675, 1.5675, 1.5675, 1.5675, 1.5675, 1.5675, 1.5675, 1.5675, 1.5675, 1.5675, 1.5675, 1.5492, 1.5492, 1.3649, 1.4756, 1.4638, 1.4633, 1.4443, 1.4443, 1.2777, 0.572, 1.1717, 1.3403, 1.3196, 1.1193, 1.2543, 1.2353, 1.0339, 1.2246, 0.6304, 0.2854, 0.3988, 0.8915, 0.4207, 0.0194, 0.4154, -0.0414, 0.8114, 0.3791, 0.0347, 0.3403, 0.8081, 0.7928, 0.7424, 0.6986, -0.0662, 0.6965, -0.1838, 0.6845, 0.65, 1.8038, 1.8038, 1.8038, 1.8038, 1.8038, 1.6489, 1.5931, 1.5931, 1.5931, 1.5931, 1.5931, 1.5931, 1.5931, 1.5931, 1.5931, 1.5931, 1.5931, 1.5931, 1.5931, 1.5931, 1.5931, 1.5931, 1.5931, 1.5931, 1.5931, 1.5931, 1.5931, 1.5931, 1.5931, 1.5931, 1.4933, 1.4989, 1.5227, 1.5227, 1.4894, 1.4698, 1.2756, 1.3105, 1.4187, 1.1392, 0.7063, 1.2799, 0.9402, 0.527, 1.0594, 1.2594, 1.2505, 1.2498, 1.2498, 0.5228, 1.2442, 1.0012, 1.2226, 0.9924, -0.3295, -0.0416, 0.8335, 0.1775, 0.7664, -0.3076, 0.2585, 0.5611, 0.5527, -0.4132, 0.3521, 0.125, 0.0862, -0.0182, -0.0571, -0.2308, -0.4045, 2.0929, 2.0929, 2.0929, 2.0929, 2.0929, 2.0929, 2.0929, 1.9762, 1.9301, 1.8685, 1.8685, 1.8685, 1.8685, 1.8685, 1.8685, 1.8685, 1.8685, 1.8685, 1.8685, 1.8685, 1.8685, 1.8685, 1.8685, 1.8685, 1.8685, 1.8685, 1.8685, 1.8685, 1.8685, 1.8685, 1.8229, 1.8228, 1.7746, 1.727, 1.7744, 1.7616, 1.7418, 1.4764, 1.6583, 1.4091, 1.5831, 0.8125, 1.5444, 1.2915, 1.4976, 0.5506, 0.2795, 1.0315, 1.3392, 1.3311, 1.3225, 0.9025, -0.1075, 0.1841, 0.116, 0.189, -0.8125, 0.3697, -0.0853, 0.4918, -0.4928, -0.3139, 0.7284, 0.5579, 0.4816, 1.3097, 1.3097, 0.5622, 0.811, 2.3444, 2.3444, 2.3444, 2.1026, 2.1026, 2.1026, 2.1026, 2.1026, 2.1026, 2.1026, 2.1026, 2.1026, 2.1026, 2.1026, 2.1026, 2.1026, 2.1026, 2.1026, 2.1026, 2.1026, 2.1026, 2.1026, 2.1026, 2.1026, 2.1026, 2.1026, 2.1026, 2.1026, 2.1026, 2.1026, 1.9739, 1.929, 1.6825, 1.7332, 1.7269, 0.2227, 1.0418, 0.8509, 1.5359, 0.6714, 0.9711, 0.9628, 1.3901, 0.3693, 0.2517, 1.1372, 0.535, 1.0857, 1.0822, 0.9913, -0.4466, 0.783, 0.734, 0.6909, -0.4603, 0.4838, -0.2102, 2.3385, 2.3385, 2.3385, 2.3385, 2.3385, 2.3385, 2.3385, 2.3385, 2.3385, 2.3385, 2.3385, 2.3385, 2.3385, 2.3385, 2.3385, 2.3385, 2.3385, 2.3385, 2.3385, 2.3385, 2.3385, 2.3385, 2.3385, 2.3385, 2.3385, 2.3385, 2.3385, 2.3385, 2.3385, 2.3385, 2.2388, 2.2251, 2.2251, 1.6331, 2.0034, 2.0034, 1.763, 1.9451, 1.7233, -0.005, 1.5681, 0.7417, 1.4714, 0.212, 0.4262, 1.3116, 1.3096, 0.6103, 0.5663, 1.1908, 1.1874, 1.1144, -0.2722, 0.9968, -0.1083, 0.6583, 0.32, 0.2812, -0.0357, -0.1253, 3.2012, 3.2012, 3.2012, 3.2012, 3.2012, 3.2012, 3.1561, 2.7141, 2.5795, 2.5795, 2.5246, 2.5246, 2.2521, 2.199, 2.1863, 2.1611, 2.0554, 1.9341, 1.9015, 1.867, 1.7425, 1.6624, 1.6541, 1.5349, 1.4822, 1.4726, 1.365, 1.2132, 1.1121, 1.1116, -0.6185, 0.6688, 0.9262, 0.6668, 0.0979, -0.4338, 3.2905, 3.2905, 3.2905, 3.2905, 3.2905, 2.6883, 2.6276, 2.6267, 2.5928, 2.2468, 2.2228, 2.1858, 2.0349, 1.9712, 1.775, 1.6764, 1.5992, 1.5514, 1.4605, 1.4557, 1.2574, 1.1642, 1.0824, 0.8503, 0.8503, 0.8503, 0.8503, 0.8503, 0.8503, 0.8155, 0.6135, -0.292, -0.2749, -3.3711, -3.1052, -2.9277]}, \"token.table\": {\"Topic\": [2, 8, 6, 2, 3, 7, 2, 8, 8, 6, 7, 1, 2, 3, 4, 5, 6, 7, 3, 8, 1, 2, 3, 4, 7, 8, 9, 4, 5, 1, 4, 3, 1, 5, 3, 7, 2, 2, 1, 2, 3, 4, 5, 1, 3, 4, 5, 6, 7, 9, 1, 2, 4, 2, 3, 2, 4, 6, 1, 2, 4, 5, 6, 1, 2, 5, 3, 1, 3, 1, 2, 3, 4, 5, 6, 7, 8, 1, 2, 3, 5, 6, 1, 2, 3, 4, 5, 7, 2, 1, 2, 3, 7, 3, 4, 5, 6, 7, 8, 1, 7, 7, 4, 1, 2, 3, 4, 5, 7, 8, 8, 1, 2, 3, 5, 7, 2, 5, 5, 7, 7, 8, 8, 1, 4, 1, 2, 5, 6, 7, 8, 6, 3, 2, 1, 2, 3, 1, 5, 2, 2, 6, 1, 3, 4, 5, 6, 7, 8, 6, 1, 2, 3, 4, 5, 6, 3, 1, 1, 2, 2, 3, 4, 8, 1, 2, 3, 4, 5, 7, 2, 3, 4, 5, 6, 2, 6, 6, 4, 6, 1, 2, 5, 7, 4, 6, 1, 4, 6, 2, 7, 6, 1, 2, 3, 2, 3, 6, 7, 5, 6, 1, 2, 4, 6, 8, 7, 1, 4, 2, 1, 3, 4, 6, 3, 5, 6, 1, 3, 4, 5, 6, 2, 1, 2, 3, 4, 5, 6, 7, 8, 7, 1, 3, 8, 5, 1, 2, 3, 4, 2, 4, 1, 2, 3, 4, 5, 6, 1, 2, 3, 5, 1, 3, 7, 3, 5, 7, 3, 3, 4, 6, 2, 1, 5, 7, 1, 3, 4, 6, 1, 4, 5, 7, 1, 2, 3, 5, 6, 7, 2, 6, 7, 1, 3, 5, 6, 8, 3, 8, 3, 1, 3, 5, 8, 8, 5, 1, 3, 2, 5, 3, 7, 6, 8, 1, 3, 4, 7, 8, 2, 3, 5, 8, 2, 3, 5, 6, 1, 2, 3, 4, 5, 6, 7, 8, 8, 7, 3, 5, 1, 3, 4, 5, 6, 7, 7, 7, 1, 6, 7, 1, 3, 5, 6, 7, 5, 7, 1, 2, 3, 4, 6, 1, 2, 2, 3, 4, 6, 8, 2, 6, 7, 4, 5, 1, 2, 3, 4, 5, 7, 8, 10, 7, 1, 3, 4, 5, 7, 1, 3, 1, 2, 4, 3, 5, 1, 4, 1, 2, 4, 5, 7, 1, 2, 3, 5, 6, 2, 1, 2, 3, 8, 5, 4, 8, 1, 4, 6, 3, 4, 5, 7, 3, 1, 4, 6, 1, 6, 1, 1, 2, 3, 4, 6, 2, 2, 4, 5, 6, 6, 8, 2, 7, 4, 1, 4, 7, 9, 5, 8, 2, 7, 8, 3, 1, 5, 8, 5, 2, 3, 4, 6, 7, 4, 6, 3, 4, 5, 6, 1, 2, 3, 4, 6, 7, 5, 4, 6, 1, 3, 4, 5, 6, 1, 2, 3, 4, 5, 7, 8, 2, 5, 6, 1, 3, 4, 5, 3, 4, 5, 5, 6, 1, 3, 4, 6, 1, 2, 3, 4, 5, 6, 7, 8, 3, 4, 6, 7, 8, 6, 1, 3, 4, 5, 7, 8, 5, 1, 2, 3, 4, 6, 7, 1, 4, 5, 1, 4, 8, 3, 1, 2, 4, 5, 7, 9, 2, 4, 5, 6, 3, 5, 4, 2, 5, 7, 1, 7, 4, 7, 6, 6, 1, 2, 3, 4, 5, 6, 7, 8, 9, 10, 1, 2, 5, 1, 3, 4, 5, 7, 4, 1, 5, 1, 4, 5, 8, 3, 5, 2, 6, 6, 7, 2, 1, 2, 3, 4, 5, 6, 7, 8, 1, 3, 2, 7, 1, 5, 7, 7, 5, 1, 3, 5, 6, 1, 2, 8, 1, 2, 3, 5, 6, 7, 2, 3, 4, 5, 6, 8, 8, 3, 5, 6, 7, 1, 6, 4, 1, 2, 4, 5, 7, 5, 2, 7, 1, 7, 1, 5, 7, 8, 3, 6, 2, 6, 8, 3, 1, 4, 8, 5, 6, 7, 1, 1, 3, 6, 1, 4, 6, 1, 1, 3, 8, 4, 4, 1, 2, 5, 6, 5, 4, 8, 1, 3, 5, 8, 2, 6, 1, 4, 1, 2, 3, 4, 5, 6, 7, 8, 1, 5, 1, 3, 5, 6, 2, 7, 3, 4, 7, 8, 1, 6, 8, 1, 3, 4, 5, 7, 8, 4, 4, 5, 1, 1, 2, 3, 4, 5, 6, 8, 5, 6, 7, 8, 7, 1, 2, 3, 5, 1, 4, 7, 1, 2, 8, 5, 1, 3, 4, 1, 5, 7, 4, 6, 7, 3, 6, 4, 1, 1, 2, 8, 2, 3, 1, 2, 3, 5, 6, 7, 1, 5, 4, 6, 1, 2, 7, 8, 7, 4, 1, 4, 5, 4, 3, 6, 7, 2, 1, 1, 2, 5, 2, 8, 1, 2, 3, 4, 5, 6, 7, 8, 5, 5, 6, 1, 5, 8, 1, 3, 4, 5, 6, 8, 4, 8, 2, 3, 1, 6, 1, 2, 3, 4, 5, 6, 1, 3, 3, 4, 5, 7, 3, 5, 7, 1, 2, 3, 4, 8, 2, 3, 4, 1, 7, 3, 1, 2, 2, 3, 2, 3, 1, 3, 3, 5, 3, 6, 1, 4, 5, 5, 8, 8, 2, 5, 6, 5, 2, 1, 3, 6, 1, 2, 3, 4, 5, 6, 8, 4, 4, 1, 2, 3, 4, 5, 6, 7, 8, 4, 6, 8, 5, 3, 5, 8, 1, 2, 3, 4, 5, 6, 7, 8, 7, 1, 2, 3, 4, 7, 1, 2, 3, 4, 5, 7, 1, 2, 3, 4, 5, 6, 8, 1, 3, 5, 6, 7, 8, 8, 3, 6, 2, 2, 3, 3, 5, 8, 8, 8, 1, 6, 6, 1, 3, 6, 8, 2, 4, 7, 1, 3, 5, 7, 8, 5, 5, 6, 1, 5, 4, 8, 4], \"Freq\": [0.39938196889597516, 0.39938196889597516, 0.4989644747138133, 0.2907556714031496, 0.2907556714031496, 0.2907556714031496, 0.9110485503934694, 0.8540078476901644, 0.8540079185434198, 0.3808847716529575, 0.3808847716529575, 0.34680511264278496, 0.04954358752039786, 0.09908717504079571, 0.19817435008159143, 0.09908717504079571, 0.09908717504079571, 0.14863076256119356, 0.7087481637401113, 0.854007912043348, 0.2133543965525176, 0.2133543965525176, 0.1066771982762588, 0.2133543965525176, 0.1066771982762588, 0.1066771982762588, 0.1066771982762588, 0.42106047598321317, 0.42106047598321317, 0.3366535978364056, 0.6733071956728112, 0.7087481305834382, 0.9513812419637588, 0.7271174614447864, 0.9098770222860731, 0.8031528390514077, 0.6709109044308323, 0.9110486319331924, 0.18636151567279427, 0.18636151567279427, 0.37272303134558854, 0.18636151567279427, 0.7271173002646996, 0.24690884868836904, 0.4115147478139484, 0.08230294956278969, 0.16460589912557938, 0.08230294956278969, 0.08230294956278969, 0.08230294956278969, 0.13128769072188481, 0.3938630721656544, 0.3938630721656544, 0.6705938499805354, 0.3352969249902677, 0.23291804099517743, 0.46583608199035487, 0.23291804099517743, 0.5311499180718566, 0.10622998361437133, 0.10622998361437133, 0.21245996722874266, 0.10622998361437133, 0.48836102625078676, 0.24418051312539338, 0.24418051312539338, 0.9098771492698688, 0.8657512295347849, 0.7087481637401113, 0.2694087612775239, 0.23573266611783342, 0.11786633305891671, 0.13470438063876194, 0.08419023789922622, 0.08419023789922622, 0.050514142739535736, 0.033676095159690486, 0.16263802815539602, 0.48791408446618806, 0.16263802815539602, 0.16263802815539602, 0.761055732842091, 0.13121834253970438, 0.13121834253970438, 0.26243668507940876, 0.26243668507940876, 0.13121834253970438, 0.8031528390514077, 0.9110480176600437, 0.1911067942192167, 0.3822135884384334, 0.1911067942192167, 0.1911067942192167, 0.18796908642321783, 0.18796908642321783, 0.18796908642321783, 0.18796908642321783, 0.18796908642321783, 0.18796908642321783, 0.7947807767603161, 0.26492692558677206, 0.5357882144850208, 0.7270049899441029, 0.4002121016801419, 0.11434631476575483, 0.05717315738287741, 0.17151947214863222, 0.11434631476575483, 0.05717315738287741, 0.05717315738287741, 0.854007912043348, 0.14156692246680103, 0.14156692246680103, 0.28313384493360205, 0.14156692246680103, 0.4247007674004031, 0.9110481622129828, 0.7271173002646996, 0.5011582014185532, 0.5011582014185532, 0.8031528390514077, 0.8540078798454169, 0.854007912043348, 0.8657511841547337, 0.7270051207698445, 0.2769348485801066, 0.1384674242900533, 0.2769348485801066, 0.1384674242900533, 0.1384674242900533, 0.854007912043348, 0.49896152581003744, 0.9098770625970708, 0.911048481551246, 0.37840312241930685, 0.2522687482795379, 0.2522687482795379, 0.86575118818526, 0.7271173002646996, 0.7094585549970037, 0.7094584237703263, 0.761055753305346, 0.4188200612207885, 0.07614910204014336, 0.11422365306021505, 0.15229820408028671, 0.11422365306021505, 0.11422365306021505, 0.03807455102007168, 0.7610557217646333, 0.5529639903206798, 0.15798971152019423, 0.07899485576009711, 0.15798971152019423, 0.07899485576009711, 0.07899485576009711, 0.9098770002065601, 0.8657511232650212, 0.32911515961067467, 0.6582303192213493, 0.3010770156390149, 0.4516155234585223, 0.15053850781950745, 0.15053850781950745, 0.20128131558648626, 0.5032032889662157, 0.10064065779324313, 0.10064065779324313, 0.10064065779324313, 0.10064065779324313, 0.1488991551931642, 0.2977983103863284, 0.1488991551931642, 0.2977983103863284, 0.1488991551931642, 0.9110481406084532, 0.4989612853212555, 0.761055753305346, 0.727005001978127, 0.761055753305346, 0.36575370020747405, 0.18287685010373703, 0.36575370020747405, 0.18287685010373703, 0.7270050618149221, 0.6553949855476412, 0.43792995713939936, 0.43792995713939936, 0.1459766523797998, 0.9110484716113808, 0.8031528390514077, 0.7610557121327154, 0.5386579886727042, 0.17955266289090138, 0.17955266289090138, 0.9110486663549844, 0.7087481305834382, 0.761055753305346, 0.8031528390514077, 0.9403756826749629, 0.49896147068288027, 0.3666947940959899, 0.24446319606399325, 0.12223159803199662, 0.24446319606399325, 0.12223159803199662, 0.803152800577885, 0.805829424707727, 0.20145735617693175, 0.709458454473412, 0.6344068290398613, 0.12688136580797227, 0.12688136580797227, 0.12688136580797227, 0.461893832198373, 0.2309469160991865, 0.2309469160991865, 0.28548675573403953, 0.14274337786701977, 0.14274337786701977, 0.28548675573403953, 0.14274337786701977, 0.7094585549970037, 0.09116025291100119, 0.09116025291100119, 0.18232050582200238, 0.09116025291100119, 0.18232050582200238, 0.09116025291100119, 0.18232050582200238, 0.09116025291100119, 0.8031528390514077, 0.24180194614925954, 0.4836038922985191, 0.24180194614925954, 0.7271173002646996, 0.38441832943429444, 0.12813944314476483, 0.25627888628952966, 0.25627888628952966, 0.709458454473412, 0.6946944942729495, 0.1015443711462021, 0.2030887422924042, 0.2030887422924042, 0.1015443711462021, 0.30463311343860633, 0.1015443711462021, 0.1419370163676959, 0.1419370163676959, 0.1419370163676959, 0.5677480654707836, 0.8657511670450609, 0.5545426852283156, 0.2772713426141578, 0.7087481637401113, 0.9403757127904118, 0.8031528390514077, 0.9098770039346044, 0.34312432622476235, 0.6862486524495247, 0.7610557184478096, 0.9110489753154188, 0.278450499191733, 0.556900998383466, 0.278450499191733, 0.102790736406262, 0.411162945625048, 0.205581472812524, 0.205581472812524, 0.36212813414622647, 0.2414187560974843, 0.2414187560974843, 0.12070937804874216, 0.09192537436790167, 0.18385074873580334, 0.18385074873580334, 0.18385074873580334, 0.18385074873580334, 0.18385074873580334, 0.34096418707055987, 0.34096418707055987, 0.34096418707055987, 0.28403117887589324, 0.14201558943794662, 0.42604676831383986, 0.14201558943794662, 0.854007912043348, 0.6699583290599338, 0.854007912043348, 0.9098770415501874, 0.32880933261563416, 0.6576186652312683, 0.7271173858322784, 0.8540079123448716, 0.7047775195810183, 0.7271173002646996, 0.710880418180923, 0.17772010454523074, 0.5407881313673464, 0.5407881313673464, 0.7087481637401113, 0.8031528390514077, 0.7610557280439972, 0.854007912043348, 0.10704976500862912, 0.21409953001725823, 0.5352488250431456, 0.10704976500862912, 0.10704976500862912, 0.20705192799799677, 0.41410385599599353, 0.20705192799799677, 0.20705192799799677, 0.3362048169587094, 0.1681024084793547, 0.3362048169587094, 0.1681024084793547, 0.2361126742236205, 0.10493896632160911, 0.15740844948241367, 0.13117370790201138, 0.07870422474120684, 0.20987793264321822, 0.026234741580402277, 0.052469483160804554, 0.854007912043348, 0.8031528390514077, 0.9098772054886316, 0.7271174407102963, 0.3537521753937087, 0.23583478359580579, 0.11791739179790289, 0.11791739179790289, 0.11791739179790289, 0.11791739179790289, 0.8031528390514077, 0.8031528390514077, 0.28829721587373247, 0.28829721587373247, 0.28829721587373247, 0.41013534698469367, 0.10253383674617342, 0.20506767349234684, 0.10253383674617342, 0.10253383674617342, 0.9403754741373834, 0.8031528390514077, 0.24054392899181018, 0.40090654831968364, 0.16036261932787346, 0.16036261932787346, 0.08018130966393673, 0.8657511690690234, 0.9110486707379473, 0.2839500329189915, 0.2839500329189915, 0.2839500329189915, 0.14197501645949576, 0.14197501645949576, 0.5335148229353641, 0.26675741146768206, 0.26675741146768206, 0.694745795966087, 0.3473728979830435, 0.2575248337164711, 0.15451490022988265, 0.10300993348658845, 0.051504966743294224, 0.10300993348658845, 0.15451490022988265, 0.10300993348658845, 0.051504966743294224, 0.8031528390514077, 0.3566475252397083, 0.1188825084132361, 0.2377650168264722, 0.1188825084132361, 0.1188825084132361, 0.20561170874358603, 0.6168351262307581, 0.8657511577686298, 0.34329071309300335, 0.6865814261860067, 0.27281505747318296, 0.5456301149463659, 0.583127294918131, 0.7270050618149221, 0.32775296582678665, 0.16387648291339332, 0.16387648291339332, 0.32775296582678665, 0.8031528390514077, 0.5956704826735971, 0.19449878583854846, 0.19449878583854846, 0.3889975716770969, 0.19449878583854846, 0.9110485959456683, 0.6273216748360465, 0.2091072249453488, 0.5661821394177767, 0.28309106970888837, 0.7271174470258014, 0.6946945618218902, 0.8540078925653743, 0.2731793383300086, 0.5463586766600173, 0.2731793383300086, 0.4410639205760706, 0.2205319602880353, 0.2205319602880353, 0.2205319602880353, 0.9098770743879333, 0.8657511076303896, 0.7270050153007978, 0.761055753305346, 0.8657511951913632, 0.761055753305346, 0.8657511015076933, 0.3245668391114919, 0.21637789274099462, 0.10818894637049731, 0.21637789274099462, 0.10818894637049731, 0.709458454473412, 0.15129860804300846, 0.3025972160860169, 0.3025972160860169, 0.15129860804300846, 0.7610556992554351, 0.854007912043348, 0.7094585561594364, 0.803152800577885, 0.7270051207698445, 0.5731700426377296, 0.1910566808792432, 0.1910566808792432, 0.1910566808792432, 0.7271173884481267, 0.854007912043348, 0.3199813576300135, 0.3199813576300135, 0.3199813576300135, 0.6699584368060467, 0.3018582153678484, 0.3018582153678484, 0.3018582153678484, 0.7271173577410007, 0.270259852529221, 0.270259852529221, 0.540519705058442, 0.7610557329812951, 0.5357885006043499, 0.5603526587521871, 0.28017632937609355, 0.4844685152805603, 0.24223425764028014, 0.12111712882014007, 0.12111712882014007, 0.5935977249254007, 0.08479967498934296, 0.16959934997868592, 0.08479967498934296, 0.08479967498934296, 0.08479967498934296, 0.7271174396679932, 0.3628605695966822, 0.3628605695966822, 0.4108744426565192, 0.1027186106641298, 0.2567965266603245, 0.1540779159961947, 0.0513593053320649, 0.2320493596872719, 0.1856394877498175, 0.09281974387490875, 0.09281974387490875, 0.2320493596872719, 0.046409871937454376, 0.09281974387490875, 0.42142978623728033, 0.42142978623728033, 0.498964585978102, 0.21024510855047973, 0.42049021710095946, 0.21024510855047973, 0.21024510855047973, 0.2727992343159418, 0.2727992343159418, 0.5455984686318835, 0.7099760755631794, 0.3549880377815897, 0.431854254936818, 0.1079635637342045, 0.215927127468409, 0.1079635637342045, 0.272405113402968, 0.060534469645104, 0.18160340893531202, 0.060534469645104, 0.21187064375786402, 0.15133617411276, 0.030267234822552, 0.030267234822552, 0.17043290943979866, 0.3408658188795973, 0.17043290943979866, 0.17043290943979866, 0.3408658188795973, 0.49896450849623825, 0.2260702822099657, 0.2260702822099657, 0.2260702822099657, 0.11303514110498285, 0.11303514110498285, 0.11303514110498285, 0.7271173002646996, 0.20612655624538934, 0.20612655624538934, 0.10306327812269467, 0.20612655624538934, 0.20612655624538934, 0.10306327812269467, 0.49245160675698413, 0.24622580337849206, 0.24622580337849206, 0.865751160889654, 0.7270050946046923, 0.854007912043348, 0.6699584110699659, 0.16450181820683774, 0.32900363641367547, 0.16450181820683774, 0.32900363641367547, 0.574394190917417, 0.574394190917417, 0.38678362979140335, 0.19339181489570167, 0.19339181489570167, 0.19339181489570167, 0.6162294087359442, 0.9403757307604865, 0.6946944414954954, 0.4773929940457005, 0.23869649702285026, 0.23869649702285026, 0.6496595893230908, 0.21655319644103024, 0.7270049986658176, 0.803152800577885, 0.7610557769104398, 0.7610557060765193, 0.16963615755815978, 0.10713862582620617, 0.22320547047126288, 0.22320547047126288, 0.08928218818850515, 0.03571287527540206, 0.08035396936965464, 0.05356931291310309, 0.008928218818850515, 0.008928218818850515, 0.3133696251449724, 0.3133696251449724, 0.3133696251449724, 0.3032647572235241, 0.15163237861176204, 0.3032647572235241, 0.15163237861176204, 0.15163237861176204, 0.7270051207698445, 0.7682800018310622, 0.2560933339436874, 0.26869327645526925, 0.26869327645526925, 0.5373865529105385, 0.854007912043348, 0.5403752957396966, 0.5403752957396966, 0.46884159882740417, 0.46884159882740417, 0.3808829949531041, 0.3808829949531041, 0.709458454473412, 0.20821461064947674, 0.1665716885195814, 0.1665716885195814, 0.20821461064947674, 0.0832858442597907, 0.0832858442597907, 0.04164292212989535, 0.04164292212989535, 0.8657511662670472, 0.7087481305834382, 0.7094585735959266, 0.8031528390514077, 0.2629411403176848, 0.5258822806353696, 0.2629411403176848, 0.8031528390514077, 0.7271174290069699, 0.2279980185010273, 0.2279980185010273, 0.2279980185010273, 0.2279980185010273, 0.7930320861764902, 0.39938189346289843, 0.39938189346289843, 0.17059205024279755, 0.17059205024279755, 0.17059205024279755, 0.17059205024279755, 0.3411841004855951, 0.8031528390514077, 0.14121336841533777, 0.14121336841533777, 0.14121336841533777, 0.14121336841533777, 0.28242673683067554, 0.14121336841533777, 0.8540078952837228, 0.2063222136250503, 0.4126444272501006, 0.2063222136250503, 0.2063222136250503, 0.41578671473089296, 0.41578671473089296, 0.7270049855832456, 0.29837039238282936, 0.14918519619141468, 0.14918519619141468, 0.14918519619141468, 0.22377779428712205, 0.7271173002646996, 0.7100798546082009, 0.35503992730410044, 0.4791476267150602, 0.4791476267150602, 0.4806306814785345, 0.1602102271595115, 0.1602102271595115, 0.1602102271595115, 0.43350371376637864, 0.21675185688318932, 0.2996641104452587, 0.2996641104452587, 0.2996641104452587, 0.7087481064207395, 0.604266610836064, 0.302133305418032, 0.8540078476901644, 0.7271173002646996, 0.4440299104619808, 0.8031528390514077, 0.8657510919037594, 0.275140081433503, 0.275140081433503, 0.275140081433503, 0.7682383177265228, 0.2560794392421743, 0.7610557057937402, 0.8657512407987117, 0.3288092759958516, 0.6576185519917032, 0.854007912043348, 0.727005081522117, 0.7270050728004005, 0.6272613950869964, 0.1568153487717491, 0.1568153487717491, 0.7610557280439972, 0.7271173002646996, 0.7478293917756532, 0.3739146958878266, 0.17010727624692562, 0.34021455249385124, 0.34021455249385124, 0.17010727624692562, 0.6167668026043462, 0.49896446690351487, 0.4054130714685141, 0.4054130714685141, 0.2416465530393981, 0.1757429476650168, 0.06590360537438131, 0.1757429476650168, 0.10983934229063551, 0.10983934229063551, 0.0439357369162542, 0.06590360537438131, 0.8657511125422319, 0.7271173777704165, 0.2279979328706539, 0.2279979328706539, 0.2279979328706539, 0.2279979328706539, 0.9110487678399054, 0.5357883091782294, 0.7087481305834382, 0.6068472795898906, 0.3034236397949453, 0.3034236397949453, 0.6401127931534506, 0.2133709310511502, 0.854007912043348, 0.5834997320443996, 0.08335710457777137, 0.08335710457777137, 0.08335710457777137, 0.08335710457777137, 0.08335710457777137, 0.727005005333486, 0.7270050119783605, 0.7271173002646996, 0.5831276226300713, 0.28649503037508617, 0.1909966869167241, 0.09549834345836206, 0.09549834345836206, 0.1909966869167241, 0.1909966869167241, 0.09549834345836206, 0.47649502720966463, 0.23824751360483232, 0.23824751360483232, 0.23824751360483232, 0.8031528390514077, 0.09229750604322934, 0.36919002417291735, 0.36919002417291735, 0.18459501208645868, 0.278417631551238, 0.556835263102476, 0.278417631551238, 0.32911509157987434, 0.6582301831597487, 0.8540078843006438, 0.9403757848054239, 0.36638253262916404, 0.549573798943746, 0.7270050618149221, 0.28892539936061745, 0.28892539936061745, 0.28892539936061745, 0.24585804004484862, 0.49171608008969725, 0.24585804004484862, 0.7087481637401113, 0.761055753305346, 0.7270050618149221, 0.8657511281099801, 0.3946082280914733, 0.3946082280914733, 0.1315360760304911, 0.7964388566007529, 0.9098769910078662, 0.14976325671965748, 0.14976325671965748, 0.29952651343931497, 0.14976325671965748, 0.14976325671965748, 0.14976325671965748, 0.41147117577840625, 0.41147117577840625, 0.9401877408667698, 0.7610557297130436, 0.8657511786262345, 0.3199813490079425, 0.3199813490079425, 0.3199813490079425, 0.8031528390514077, 0.6946944703248709, 0.3366536363595923, 0.6733072727191846, 0.7271174577589645, 0.7270050086559231, 0.6924522614936692, 0.3462261307468346, 0.8031528390514077, 0.709458454473412, 0.8657512432893362, 0.8657511196997631, 0.7094585689461959, 0.7271173002646996, 0.7292762625609341, 0.36463813128046707, 0.13543851852990857, 0.1692981481623857, 0.20315777779486285, 0.13543851852990857, 0.20315777779486285, 0.10157888889743143, 0.03385962963247714, 0.03385962963247714, 0.6160570913492059, 0.4696270445959665, 0.23481352229798325, 0.336701802728689, 0.673403605457378, 0.854007912043348, 0.11287657245945243, 0.3386297173783573, 0.11287657245945243, 0.22575314491890486, 0.11287657245945243, 0.11287657245945243, 0.7478293742003251, 0.37391468710016257, 0.9110483062248899, 0.9098770060944291, 0.3512064425888158, 0.3512064425888158, 0.2100203836996111, 0.17501698641634258, 0.2100203836996111, 0.17501698641634258, 0.07000679456653704, 0.10501019184980555, 0.7613303916562318, 0.25377679721874397, 0.508734858786928, 0.16957828626230936, 0.16957828626230936, 0.16957828626230936, 0.3199176329346386, 0.6398352658692772, 0.803152800577885, 0.4549063998750451, 0.09098127997500902, 0.09098127997500902, 0.09098127997500902, 0.2729438399250271, 0.7094584141666243, 0.9098769670901655, 0.7270051207698445, 0.9513812474563446, 0.8031528390514077, 0.7087481111026601, 0.2614926560689006, 0.5229853121378012, 0.6705936479831841, 0.33529682399159205, 0.335139273471398, 0.670278546942796, 0.2166566340290636, 0.6499699020871909, 0.6254783871167577, 0.31273919355837887, 0.2872321137524354, 0.5744642275048708, 0.32957885077471055, 0.32957885077471055, 0.32957885077471055, 0.7271174451898637, 0.8540078798454169, 0.854007912043348, 0.3433408313263459, 0.6866816626526918, 0.761055753305346, 0.7271174360995328, 0.709458454473412, 0.1884735354365917, 0.5654206063097751, 0.1884735354365917, 0.23388565734157962, 0.11694282867078981, 0.11694282867078981, 0.11694282867078981, 0.11694282867078981, 0.23388565734157962, 0.11694282867078981, 0.7270051207698445, 0.9401876971706846, 0.4400670694498351, 0.1015539391038081, 0.033851313034602704, 0.1015539391038081, 0.06770262606920541, 0.06770262606920541, 0.1015539391038081, 0.06770262606920541, 0.5944199705819755, 0.29720998529098774, 0.29720998529098774, 0.7271174450863377, 0.9098771056560713, 0.4049178362653129, 0.4049178362653129, 0.17830505553645287, 0.1188700370243019, 0.1188700370243019, 0.17830505553645287, 0.1188700370243019, 0.05943501851215095, 0.1188700370243019, 0.05943501851215095, 0.8031528390514077, 0.1521678043007288, 0.3043356086014576, 0.1521678043007288, 0.3043356086014576, 0.1521678043007288, 0.11242638214236196, 0.3372791464270859, 0.11242638214236196, 0.22485276428472392, 0.11242638214236196, 0.11242638214236196, 0.16147091870204605, 0.21529455826939473, 0.2691181978367434, 0.05382363956734868, 0.10764727913469736, 0.10764727913469736, 0.10764727913469736, 0.3197603016334768, 0.1598801508167384, 0.1598801508167384, 0.1598801508167384, 0.1598801508167384, 0.1598801508167384, 0.854007912043348, 0.358253099068184, 0.358253099068184, 0.9110480922131119, 0.6705930733858647, 0.33529653669293236, 0.5403753087595008, 0.5403753087595008, 0.854007912043348, 0.854007912043348, 0.854007912043348, 0.3230742729611955, 0.3230742729611955, 0.761055753305346, 0.41388477468807305, 0.13796159156269103, 0.41388477468807305, 0.13796159156269103, 0.17272698466393052, 0.6909079386557221, 0.17272698466393052, 0.2829854321625265, 0.14149271608126324, 0.2829854321625265, 0.14149271608126324, 0.14149271608126324, 0.6160549597121868, 0.7099760922686797, 0.3549880461343399, 0.7682800758054404, 0.2560933586018135, 0.7270050352354217, 0.854007912043348, 0.7270051207698445], \"Term\": [\"2\", \"2\", \"2017\", \"3\", \"3\", \"3\", \"6\", \"81\", \"about\", \"act\", \"act\", \"acting\", \"acting\", \"acting\", \"acting\", \"acting\", \"acting\", \"acting\", \"actingconceptrealistic\", \"actingfeel\", \"actor\", \"actor\", \"actor\", \"actor\", \"actor\", \"actor\", \"actor\", \"actress\", \"actress\", \"addict\", \"addict\", \"addicted\", \"addiction\", \"adding\", \"adult\", \"advantage\", \"again\", \"age\", \"alcohol\", \"alcohol\", \"alcohol\", \"alcohol\", \"alone\", \"also\", \"also\", \"also\", \"also\", \"also\", \"also\", \"also\", \"amazing\", \"amazing\", \"amazing\", \"amit\", \"amit\", \"among\", \"among\", \"among\", \"anger\", \"anger\", \"anger\", \"anger\", \"anger\", \"angry\", \"angry\", \"angry\", \"another\", \"anyone\", \"arjuj\", \"arjun\", \"arjun\", \"arjun\", \"arjun\", \"arjun\", \"arjun\", \"arjun\", \"arjun\", \"arjuns\", \"arjuns\", \"arjuns\", \"arjuns\", \"attached\", \"audience\", \"audience\", \"audience\", \"audience\", \"audience\", \"auidence\", \"avoided\", \"away\", \"away\", \"away\", \"away\", \"awesome\", \"awesome\", \"awesome\", \"awesome\", \"awesome\", \"awesome\", \"bad\", \"bad\", \"bala\", \"barrier\", \"best\", \"best\", \"best\", \"best\", \"best\", \"best\", \"best\", \"besti\", \"better\", \"better\", \"better\", \"better\", \"better\", \"big\", \"bike\", \"bit\", \"bit\", \"bite\", \"black\", \"bloody\", \"blowing\", \"boyfriend\", \"brilliant\", \"brilliant\", \"brilliant\", \"brilliant\", \"brilliant\", \"bringing\", \"brute\", \"building\", \"calm\", \"cant\", \"cant\", \"cant\", \"cast\", \"caste\", \"caz\", \"changing\", \"chapter\", \"character\", \"character\", \"character\", \"character\", \"character\", \"character\", \"character\", \"cherish\", \"cinema\", \"cinema\", \"cinema\", \"cinema\", \"cinema\", \"cinema\", \"clean\", \"close\", \"coke\", \"coke\", \"college\", \"college\", \"college\", \"college\", \"come\", \"come\", \"come\", \"come\", \"come\", \"come\", \"coming\", \"coming\", \"coming\", \"coming\", \"coming\", \"commercial\", \"composed\", \"condolence\", \"connection\", \"convey\", \"could\", \"could\", \"could\", \"could\", \"coz\", \"critic\", \"cult\", \"cult\", \"cult\", \"cultural\", \"cute\", \"date\", \"day\", \"day\", \"day\", \"deadline\", \"decent\", \"deepest\", \"delivered\", \"depiction\", \"detail\", \"devarakonda\", \"devarakonda\", \"devarakonda\", \"devarakonda\", \"devarakonda\", \"devarakondas\", \"deverakonda\", \"deverakonda\", \"devrakonda\", \"dialogue\", \"dialogue\", \"dialogue\", \"dialogue\", \"different\", \"different\", \"different\", \"direction\", \"direction\", \"direction\", \"direction\", \"direction\", \"directionstory\", \"director\", \"director\", \"director\", \"director\", \"director\", \"director\", \"director\", \"director\", \"discontinuity\", \"done\", \"done\", \"done\", \"drink\", \"drug\", \"drug\", \"drug\", \"drug\", \"dude\", \"emotional\", \"end\", \"end\", \"end\", \"end\", \"end\", \"end\", \"ending\", \"ending\", \"ending\", \"ending\", \"eng\", \"english\", \"english\", \"enjoy\", \"enjoyable\", \"enjoyed\", \"entertainer\", \"entertaining\", \"entertaining\", \"entry\", \"episode\", \"especially\", \"especially\", \"especially\", \"even\", \"even\", \"even\", \"even\", \"ever\", \"ever\", \"ever\", \"ever\", \"every\", \"every\", \"every\", \"every\", \"every\", \"every\", \"everyone\", \"everyone\", \"everyone\", \"everything\", \"everything\", \"everything\", \"everything\", \"excellence\", \"excellent\", \"exceptionally\", \"expect\", \"expected\", \"expected\", \"expecting\", \"express\", \"expressed\", \"expression\", \"face\", \"face\", \"fall\", \"fall\", \"falling\", \"fame\", \"fan\", \"favorite\", \"feel\", \"feel\", \"feel\", \"feel\", \"feel\", \"feeling\", \"feeling\", \"feeling\", \"feeling\", \"fight\", \"fight\", \"fight\", \"fight\", \"film\", \"film\", \"film\", \"film\", \"film\", \"film\", \"film\", \"film\", \"filmgood\", \"filmic\", \"finally\", \"fine\", \"first\", \"first\", \"first\", \"first\", \"first\", \"first\", \"flow\", \"freaking\", \"fresh\", \"fresh\", \"fresh\", \"friend\", \"friend\", \"friend\", \"friend\", \"friend\", \"friendship\", \"general\", \"get\", \"get\", \"get\", \"get\", \"get\", \"giving\", \"glass\", \"go\", \"go\", \"go\", \"go\", \"go\", \"going\", \"going\", \"going\", \"gone\", \"gone\", \"good\", \"good\", \"good\", \"good\", \"good\", \"good\", \"good\", \"good\", \"grately\", \"great\", \"great\", \"great\", \"great\", \"great\", \"half\", \"half\", \"hand\", \"handle\", \"handle\", \"happy\", \"happy\", \"hard\", \"havet\", \"heart\", \"heart\", \"heart\", \"heart\", \"hearted\", \"here\", \"hero\", \"hero\", \"hero\", \"hero\", \"high\", \"him\", \"him\", \"hindi\", \"hindi\", \"hippocratic\", \"ho\", \"hold\", \"hope\", \"hope\", \"hope\", \"hour\", \"hour\", \"hour\", \"hour\", \"house\", \"however\", \"hug\", \"illtempered\", \"imagine\", \"impeccable\", \"importance\", \"industry\", \"industry\", \"industry\", \"industry\", \"industry\", \"intensity\", \"it\", \"it\", \"it\", \"it\", \"item\", \"itliked\", \"itoriginal\", \"ive\", \"jaisa\", \"job\", \"job\", \"job\", \"job\", \"judge\", \"jump\", \"kabir\", \"kabir\", \"kabir\", \"kannada\", \"kid\", \"kid\", \"kid\", \"killed\", \"kind\", \"kind\", \"kind\", \"kinf\", \"kudos\", \"lack\", \"lack\", \"language\", \"language\", \"language\", \"language\", \"lead\", \"lead\", \"lead\", \"lead\", \"lead\", \"lead\", \"lengthyslow\", \"level\", \"level\", \"life\", \"life\", \"life\", \"life\", \"life\", \"like\", \"like\", \"like\", \"like\", \"like\", \"like\", \"like\", \"liked\", \"liked\", \"live\", \"long\", \"long\", \"long\", \"long\", \"look\", \"look\", \"look\", \"loss\", \"loss\", \"lot\", \"lot\", \"lot\", \"lot\", \"love\", \"love\", \"love\", \"love\", \"love\", \"love\", \"love\", \"love\", \"loved\", \"loved\", \"loved\", \"loved\", \"loved\", \"lucky\", \"made\", \"made\", \"made\", \"made\", \"made\", \"made\", \"magical\", \"make\", \"make\", \"make\", \"make\", \"make\", \"make\", \"man\", \"man\", \"man\", \"manages\", \"mandana\", \"mandanna\", \"mangalore\", \"many\", \"many\", \"many\", \"many\", \"masterpiece\", \"masterpiece\", \"may\", \"may\", \"may\", \"may\", \"maybe\", \"me\", \"message\", \"might\", \"might\", \"might\", \"mind\", \"mind\", \"minute\", \"missed\", \"modest\", \"motion\", \"movie\", \"movie\", \"movie\", \"movie\", \"movie\", \"movie\", \"movie\", \"movie\", \"movie\", \"movie\", \"much\", \"much\", \"much\", \"must\", \"must\", \"must\", \"must\", \"must\", \"na\", \"nailed\", \"nailed\", \"name\", \"name\", \"name\", \"nearly\", \"need\", \"need\", \"never\", \"never\", \"now\", \"now\", \"omg\", \"one\", \"one\", \"one\", \"one\", \"one\", \"one\", \"one\", \"one\", \"open\", \"or\", \"original\", \"outstanding\", \"overall\", \"overall\", \"overall\", \"overhyped\", \"paced\", \"pain\", \"pain\", \"pain\", \"pain\", \"pandey\", \"parent\", \"parent\", \"part\", \"part\", \"part\", \"part\", \"part\", \"pas\", \"people\", \"people\", \"people\", \"people\", \"people\", \"people\", \"per\", \"perfect\", \"perfect\", \"perfect\", \"perfect\", \"perfectly\", \"perfectly\", \"performace\", \"performance\", \"performance\", \"performance\", \"performance\", \"performance\", \"pet\", \"piece\", \"piece\", \"play\", \"play\", \"played\", \"played\", \"played\", \"played\", \"plot\", \"plot\", \"point\", \"point\", \"point\", \"portraying\", \"pretty\", \"pretty\", \"production\", \"profession\", \"pure\", \"purest\", \"quality\", \"radhan\", \"radhan\", \"radhan\", \"rahul\", \"rahul\", \"ralistic\", \"ramakrishna\", \"rare\", \"rare\", \"rashmika\", \"rasmika\", \"rated\", \"raw\", \"raw\", \"raw\", \"reached\", \"reaction\", \"reality\", \"reality\", \"really\", \"really\", \"really\", \"really\", \"reason\", \"received\", \"recommended\", \"recommended\", \"reddy\", \"reddy\", \"reddy\", \"reddy\", \"reddy\", \"reddy\", \"reddy\", \"reddy\", \"reddys\", \"regressive\", \"relationship\", \"relationship\", \"relationship\", \"relationship\", \"religious\", \"remake\", \"request\", \"review\", \"review\", \"review\", \"right\", \"right\", \"river\", \"role\", \"role\", \"role\", \"role\", \"role\", \"role\", \"romance\", \"rowdy\", \"sad\", \"said\", \"sandeep\", \"sandeep\", \"sandeep\", \"sandeep\", \"sandeep\", \"sandeep\", \"sandeep\", \"say\", \"say\", \"say\", \"say\", \"scenario\", \"scene\", \"scene\", \"scene\", \"scene\", \"score\", \"score\", \"score\", \"screen\", \"screen\", \"script\", \"seamlessly\", \"second\", \"second\", \"seeking\", \"seen\", \"seen\", \"seen\", \"sense\", \"sense\", \"sense\", \"sentiment\", \"seperated\", \"serf\", \"sex\", \"shalini\", \"shalini\", \"shalini\", \"shalinis\", \"shaven\", \"show\", \"show\", \"show\", \"show\", \"show\", \"show\", \"side\", \"side\", \"similar\", \"simple\", \"simply\", \"singh\", \"singh\", \"singh\", \"sinma\", \"situation\", \"skill\", \"skill\", \"skipped\", \"soo\", \"south\", \"south\", \"specially\", \"specialty\", \"spending\", \"spirited\", \"spoil\", \"sport\", \"still\", \"still\", \"story\", \"story\", \"story\", \"story\", \"story\", \"story\", \"story\", \"story\", \"storyline\", \"suffering\", \"suffering\", \"superb\", \"superb\", \"superbbb\", \"take\", \"take\", \"take\", \"take\", \"take\", \"take\", \"taken\", \"taken\", \"taste\", \"teaser\", \"tell\", \"tell\", \"telugu\", \"telugu\", \"telugu\", \"telugu\", \"telugu\", \"telugu\", \"there\", \"there\", \"though\", \"though\", \"though\", \"though\", \"three\", \"three\", \"thrice\", \"time\", \"time\", \"time\", \"time\", \"time\", \"to\", \"tobacco\", \"toh\", \"told\", \"traditional\", \"trailer\", \"true\", \"true\", \"try\", \"try\", \"trying\", \"trying\", \"tulu\", \"tulu\", \"twist\", \"twist\", \"two\", \"two\", \"u\", \"u\", \"u\", \"unbelievable\", \"understanding\", \"undoubtedly\", \"unique\", \"unique\", \"unraveling\", \"unwanted\", \"ur\", \"used\", \"used\", \"used\", \"vanga\", \"vanga\", \"vanga\", \"vanga\", \"vanga\", \"vanga\", \"vanga\", \"varna\", \"version\", \"vijay\", \"vijay\", \"vijay\", \"vijay\", \"vijay\", \"vijay\", \"vijay\", \"vijay\", \"waiting\", \"waiting\", \"waiting\", \"waned\", \"warns\", \"waste\", \"waste\", \"watch\", \"watch\", \"watch\", \"watch\", \"watch\", \"watch\", \"watch\", \"watch\", \"watchable\", \"watched\", \"watched\", \"watched\", \"watched\", \"watched\", \"watching\", \"watching\", \"watching\", \"watching\", \"watching\", \"watching\", \"way\", \"way\", \"way\", \"way\", \"way\", \"way\", \"way\", \"well\", \"well\", \"well\", \"well\", \"well\", \"well\", \"well\\u263a\", \"whatever\", \"whatever\", \"whats\", \"whether\", \"whether\", \"whole\", \"whole\", \"winner\", \"wonder\", \"wonderful\", \"word\", \"word\", \"worked\", \"world\", \"world\", \"world\", \"world\", \"worth\", \"worth\", \"worth\", \"would\", \"would\", \"would\", \"would\", \"would\", \"writer\", \"written\", \"written\", \"year\", \"year\", \"\\ud83d\\udc4d\\ud83d\\udc4d\", \"\\ud83d\\udcaf\", \"\\ud83d\\ude0d\\ud83d\\ude0d\"]}, \"R\": 30, \"lambda.step\": 0.01, \"plot.opts\": {\"xlab\": \"PC1\", \"ylab\": \"PC2\"}, \"topic.order\": [4, 7, 5, 9, 6, 10, 1, 2, 8, 3]};\n",
              "\n",
              "function LDAvis_load_lib(url, callback){\n",
              "  var s = document.createElement('script');\n",
              "  s.src = url;\n",
              "  s.async = true;\n",
              "  s.onreadystatechange = s.onload = callback;\n",
              "  s.onerror = function(){console.warn(\"failed to load library \" + url);};\n",
              "  document.getElementsByTagName(\"head\")[0].appendChild(s);\n",
              "}\n",
              "\n",
              "if(typeof(LDAvis) !== \"undefined\"){\n",
              "   // already loaded: just create the visualization\n",
              "   !function(LDAvis){\n",
              "       new LDAvis(\"#\" + \"ldavis_el571405216691459687163327513\", ldavis_el571405216691459687163327513_data);\n",
              "   }(LDAvis);\n",
              "}else if(typeof define === \"function\" && define.amd){\n",
              "   // require.js is available: use it to load d3/LDAvis\n",
              "   require.config({paths: {d3: \"https://cdnjs.cloudflare.com/ajax/libs/d3/3.5.5/d3.min\"}});\n",
              "   require([\"d3\"], function(d3){\n",
              "      window.d3 = d3;\n",
              "      LDAvis_load_lib(\"https://cdn.rawgit.com/bmabey/pyLDAvis/files/ldavis.v1.0.0.js\", function(){\n",
              "        new LDAvis(\"#\" + \"ldavis_el571405216691459687163327513\", ldavis_el571405216691459687163327513_data);\n",
              "      });\n",
              "    });\n",
              "}else{\n",
              "    // require.js not available: dynamically load d3 & LDAvis\n",
              "    LDAvis_load_lib(\"https://cdnjs.cloudflare.com/ajax/libs/d3/3.5.5/d3.min.js\", function(){\n",
              "         LDAvis_load_lib(\"https://cdn.rawgit.com/bmabey/pyLDAvis/files/ldavis.v1.0.0.js\", function(){\n",
              "                 new LDAvis(\"#\" + \"ldavis_el571405216691459687163327513\", ldavis_el571405216691459687163327513_data);\n",
              "            })\n",
              "         });\n",
              "}\n",
              "</script>"
            ],
            "text/plain": [
              "PreparedData(topic_coordinates=              x         y  topics  cluster       Freq\n",
              "topic                                                \n",
              "3     -0.051549 -0.102980       1        1  22.610740\n",
              "6      0.143196  0.064207       2        1  14.898366\n",
              "4     -0.078287  0.119452       3        1  14.838838\n",
              "8     -0.055029 -0.027051       4        1  12.537992\n",
              "5     -0.005513 -0.003014       5        1  12.219759\n",
              "9     -0.074065  0.052857       6        1   8.918884\n",
              "0      0.023125 -0.069777       7        1   6.704222\n",
              "1      0.032863 -0.016695       8        1   4.959057\n",
              "7      0.027967 -0.005859       9        1   1.273760\n",
              "2      0.037293 -0.011139      10        1   1.038381, topic_info=            Term        Freq       Total Category  logprob  loglift\n",
              "155        movie  112.000000  112.000000  Default  30.0000  30.0000\n",
              "127         good   19.000000   19.000000  Default  29.0000  29.0000\n",
              "120         also   12.000000   12.000000  Default  28.0000  28.0000\n",
              "83          time   10.000000   10.000000  Default  27.0000  27.0000\n",
              "273  deverakonda    9.000000    9.000000  Default  26.0000  26.0000\n",
              "..           ...         ...         ...      ...      ...      ...\n",
              "155        movie    0.868526  112.004423  Topic10  -3.8217  -0.2920\n",
              "88         vijay    0.233018   29.540952  Topic10  -5.1374  -0.2749\n",
              "6          arjun    0.021184   59.389308  Topic10  -7.5353  -3.3711\n",
              "69         reddy    0.021184   45.521030  Topic10  -7.5353  -3.1052\n",
              "32          film    0.021184   38.117395  Topic10  -7.5353  -2.9277\n",
              "\n",
              "[617 rows x 6 columns], token_table=      Topic      Freq  Term\n",
              "term                       \n",
              "397       2  0.399382     2\n",
              "397       8  0.399382     2\n",
              "941       6  0.498964  2017\n",
              "399       2  0.290756     3\n",
              "399       3  0.290756     3\n",
              "...     ...       ...   ...\n",
              "734       1  0.768280  year\n",
              "734       5  0.256093  year\n",
              "355       4  0.727005    👍👍\n",
              "1202      8  0.854008     💯\n",
              "1170      4  0.727005    😍😍\n",
              "\n",
              "[956 rows x 3 columns], R=30, lambda_step=0.01, plot_opts={'xlab': 'PC1', 'ylab': 'PC2'}, topic_order=[4, 7, 5, 9, 6, 10, 1, 2, 8, 3])"
            ]
          },
          "metadata": {
            "tags": []
          },
          "execution_count": 29
        }
      ]
    },
    {
      "cell_type": "code",
      "metadata": {
        "id": "xR05e9AS-pba",
        "outputId": "2bd16cc3-7a9e-4843-c032-d5363a22f3be",
        "colab": {
          "base_uri": "https://localhost:8080/"
        }
      },
      "source": [
        "!pip install lda2vec"
      ],
      "execution_count": 1,
      "outputs": [
        {
          "output_type": "stream",
          "text": [
            "Collecting lda2vec\n",
            "  Downloading https://files.pythonhosted.org/packages/c5/f6/d7ad00a4fd5fc3877344133d737bfc6ccf03fe488f732f15abbf779cdc36/lda2vec-0.16.10.tar.gz\n",
            "Building wheels for collected packages: lda2vec\n",
            "  Building wheel for lda2vec (setup.py) ... \u001b[?25l\u001b[?25hdone\n",
            "  Created wheel for lda2vec: filename=lda2vec-0.16.10-cp36-none-any.whl size=14432 sha256=90064116443bf34ac4b743965968171fe856e197442e01e2f26218e0dd5c244e\n",
            "  Stored in directory: /root/.cache/pip/wheels/73/46/3c/d6d69eaa65fa03389b2d5b2e96bad4d8d09c670bdbab289e61\n",
            "Successfully built lda2vec\n",
            "Installing collected packages: lda2vec\n",
            "Successfully installed lda2vec-0.16.10\n"
          ],
          "name": "stdout"
        }
      ]
    },
    {
      "cell_type": "code",
      "metadata": {
        "id": "gh5sHz_fniVl",
        "outputId": "156f894d-be11-4ef8-ca6d-a2ab32d286af",
        "colab": {
          "base_uri": "https://localhost:8080/"
        }
      },
      "source": [
        "load_embeds=True\n",
        "import pandas as pd\n",
        "from lda2vec.nlppipe import Preprocessor\n",
        "P = Preprocessor(imdb_df, \"comment\", max_features=30000, maxlen=10000, min_count=30)\n",
        "P.preprocess()\n",
        "if load_embeds:\n",
        "    # Load embedding matrix from file path - change path to where you saved them\n",
        "    embedding_matrix = P.load_glove(\"/content/drive/My Drive/glove.6B.300d.txt\")\n",
        "else:\n",
        "    embedding_matrix = None"
      ],
      "execution_count": 8,
      "outputs": [
        {
          "output_type": "stream",
          "text": [
            "80it [00:00, 822.32it/s]\n",
            "80it [00:00, 1582.37it/s]"
          ],
          "name": "stderr"
        },
        {
          "output_type": "stream",
          "text": [
            "\n",
            "---------- Tokenizing Texts ----------\n",
            "Removing 1629 low frequency tokens out of 1666 total tokens\n",
            "\n",
            "---------- Getting Skipgrams ----------\n"
          ],
          "name": "stdout"
        },
        {
          "output_type": "stream",
          "text": [
            "\n",
            "/usr/local/lib/python3.6/dist-packages/IPython/core/interactiveshell.py:2882: FutureWarning: arrays to stack must be passed as a \"sequence\" type such as list or tuple. Support for non-sequence iterables such as generators is deprecated as of NumPy 1.16 and will raise an error in the future.\n",
            "  exec(code_obj, self.user_global_ns, self.user_ns)\n"
          ],
          "name": "stderr"
        }
      ]
    },
    {
      "cell_type": "code",
      "metadata": {
        "id": "v9ggP3nynmdZ"
      },
      "source": [
        "!pip install -U git+https://github.com/bmabey/pyLDAvis.git@master#egg=pyLDAvis"
      ],
      "execution_count": null,
      "outputs": []
    }
  ]
}