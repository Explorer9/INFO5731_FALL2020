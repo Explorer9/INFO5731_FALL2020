{
  "nbformat": 4,
  "nbformat_minor": 0,
  "metadata": {
    "colab": {
      "name": "In_class_exercise_06.ipynb",
      "provenance": [],
      "collapsed_sections": [],
      "toc_visible": true,
      "include_colab_link": true
    },
    "kernelspec": {
      "display_name": "Python 3",
      "language": "python",
      "name": "python3"
    },
    "language_info": {
      "codemirror_mode": {
        "name": "ipython",
        "version": 3
      },
      "file_extension": ".py",
      "mimetype": "text/x-python",
      "name": "python",
      "nbconvert_exporter": "python",
      "pygments_lexer": "ipython3",
      "version": "3.7.4"
    }
  },
  "cells": [
    {
      "cell_type": "markdown",
      "metadata": {
        "id": "view-in-github",
        "colab_type": "text"
      },
      "source": [
        "<a href=\"https://colab.research.google.com/github/Explorer9/INFO5731_FALL2020/blob/master/In_class_exercise_06.ipynb\" target=\"_parent\"><img src=\"https://colab.research.google.com/assets/colab-badge.svg\" alt=\"Open In Colab\"/></a>"
      ]
    },
    {
      "cell_type": "markdown",
      "metadata": {
        "id": "z7TahL04sVvR"
      },
      "source": [
        "# **The sixth in-class-exercise (20 points in total, 10/14/2020)**"
      ]
    },
    {
      "cell_type": "markdown",
      "metadata": {
        "id": "ejyZITr8sjnh"
      },
      "source": [
        "## **1. Rule-based information extraction (10 points)**\n",
        "\n",
        "Use any keywords related to data science, natural language processing, machine learning to search from google scholar, get the **titles** of 100 articles (either by web scraping or manually) about this topic, define a set of patterns to extract the research questions/problems, methods/algorithms/models, datasets, applications, or any other important information about this topic. "
      ]
    },
    {
      "cell_type": "code",
      "metadata": {
        "id": "te8lxBrsBMiU"
      },
      "source": [
        "#while scraping data from google scholar recieved following error:\n",
        "Our systems have detected unusual traffic from your computer network.  This page checks to see if it's really you sending the requests, and not a robot.  <a href=\"#\" onclick=\"document.getElementById('infoDiv').style.display='block';\">Why did this happen?</a><br/><br/>\n",
        "\n",
        "so used citeseerx for scraping titles related to data science"
      ],
      "execution_count": null,
      "outputs": []
    },
    {
      "cell_type": "code",
      "metadata": {
        "id": "XvR_O9D8sOUY",
        "outputId": "2eba7f8e-2726-4e21-ba76-e9ac2f1c12f7",
        "colab": {
          "base_uri": "https://localhost:8080/",
          "height": 55
        }
      },
      "source": [
        "import pandas as pd\n",
        "import requests\n",
        "from bs4 import BeautifulSoup\n",
        "def insert_into_array(values,ref_array):\n",
        "  for i in values:\n",
        "    ref_array.append(i.text)\n",
        "titles=[]\n",
        "for i in range(0,100,10):\n",
        "  URL=\"http://citeseerx.ist.psu.edu/search?q=data+science&t=doc&sort=rlv&start=\"+str(i)\n",
        "  page=requests.get(URL,headers={'User-Agent':'Chrome/85.0.4183.121'})\n",
        "  soup = BeautifulSoup(page.content, 'html.parser')\n",
        "  insert_into_array(soup.find_all('a', class_='remove doc_details'),titles)\n",
        "print(titles)"
      ],
      "execution_count": 117,
      "outputs": [
        {
          "output_type": "stream",
          "text": [
            "['\\nData Streams: Algorithms and Applications\\n                  ', '\\n                  Bayesian Data Analysis\\n                  ', '\\n                  Voronoi diagrams -- a survey of a fundamental geometric data structure\\n                  ', '\\n                  From Data Mining to Knowledge Discovery in Databases.\\n                  ', '\\n                  Survey of clustering algorithms\\n                  ', '\\n                  Thresholding of statistical maps in functional neuroimaging using the false discovery rate.\\n                  ', '\\n                  Maintaining knowledge about temporal intervals\\n                  ', '\\n                  Status quo bias in decision making\\n                  ', '\\n                  Rough Sets.\\n                  ', '\\n                  Modeling TCP Throughput: A Simple Model and its Empirical Validation\\n                  ', '\\n                  Compressive sampling\\n                  ', '\\n                  Search and replication in unstructured peer-to-peer networks\\n                  ', '\\n                  Dynamic Bayesian Networks: Representation, Inference and Learning\\n                  ', '\\n                  Motivational and self-regulated learning components of classroom academic performance\\n                  ', '\\n                  Probabilistic Inference Using Markov Chain Monte Carlo Methods\\n                  ', '\\n                  A theory of social comparison processes,”\\n                  ', '\\n                  Group formation in large social networks: membership, growth, and evolution\\n                  ', '\\n                  Illusion and well-being: A social psychological perspective on mental health.\\n                  ', '\\n                  Analyzing Incomplete Political Science Data: An Alternative Algorithm for Multiple Imputation\\n                  ', '\\n                  Natural Selection\\n                  ', '\\n                  Foreign Direct Investment and Relative Wages: Evidence from Mexico’s Maquiladoras\\n                  ', '\\n                  Indexing and Querying XML Data for Regular Path Expressions\\n                  ', '\\n                  A survey of data provenance in e-science\\n', '\\n                  A Survey of Affect Recognition Methods: Audio, Visual, and Spontaneous Expressions\\n                  ', '\\n                  The earth is round (p < .05\\n                  ', '\\n                  Citizens as sensors: the world of volunteered geography.”\\n                  ', '\\n                   Mechanism Design for Data Science\\n', '\\n                  Foundations of data science\\n', '\\n                  Foundations of data science\\n', '\\nData Sciences UK Ltd.\\n                  ', '\\n                  EMI Music Data Science\\n', '\\nData Sciences Laboratory\\n                  ', '\\n                  INTRODUCTION TO DATA SCIENCE\\n', '\\n                  Database Mining: A Performance Perspective\\n                  ', '\\n                  Functional Data Structures\\n                  ', '\\n                  Towards Cognitive Automation of Data Science\\n', '\\n                  My Solution to the EMC Data Science Global\\n                  ', '\\n                  MOOCdb: Developing Data Standards for MOOC Data Science\\n', '\\n                  A survey of outlier detection methodologies\\n                  ', '\\n                  Gender, Agricultural Productivity and the Theory of the Household\\n                  ', '\\n                  SPARSKIT: a basic tool kit for sparse matrix computations - Version 2\\n                  ', '\\n                  On Clustering Validation Techniques\\n                  ', '\\n                  Chief. Data Sciences Division1\\n                  ', '\\n                  Industrial development in cities\\n                  ', '\\n                  Parallel Computing for Data Science with Examples in R and Beyond\\n                  ', '\\nData Science in the Statistics Curricula: Preparing Students to \"Think with Data\"\\n                  ', '\\n                  Guest Editorial EDITOR’S COMMENTS The Business of Business Data Science in IS Journals\\n                  ', '\\n                  Reconstructing past climate from noisy data. Science 306: 679–682\\n                  ', '\\n                  A Critique of Software Defect Prediction Models\\n                  ', '\\n                  A new approach to abstract syntax with variable binding\\n                  ', '\\n                  Stochastic global optimization\\n                  ', '\\n                  Fidelity and yield in a volcano monitoring sensor network\\n                  ', '\\n                  The Netflix Prize\\n                  ', '\\n                  A rational analysis of the selection task as optimal data selection\\n                  ', '\\n                  A Tutorial on (Co)Algebras and (Co)Induction\\n                  ', '\\n                  Statistical Analysis of a Telephone Call Center: A Queueing Science Perspective\\n                  ', '\\n                  1 Data Science and Mass Media: Seeking a Hermeneutic Ethics of Information\\n                  ', '\\n                  Editorial—Big Data, Data Science, and Analytics: The Opportunity and Challenge for Is Research\\n                  ', '\\n                  Deep Feature Synthesis: Towards Automating Data Science Endeavors\\n                  ', '\\nData Science and Distributed Intelligence: Recent Developments and Future Insights\\n                  ', '\\nDATA SCIENCE AND ITS RELATIONSHIP TO BIG DATA AND DATA-DRIVEN DECISION MAKING ORIGINAL ARTICLE\\n                  ', '\\n                  •\\u202f Organic data science 4. Closing thoughts\\n                  ', '\\n                  e-Infrastructure Requirements for Big Data Science\\n', '\\n                  The Electronic Universe: Network Delivery of Data, Science and Discovery\\n                  ', '\\n                  Editorial: special issue on learning from imbalanced data sets\\n                  ', '\\n                  ICML 2014 AutoML Workshop Cognitive Automation of Data Science\\n', '\\n                  Matrix Completion with Noise\\n                  ', '\\n                  Qualitative Case Study Methodology: Study Design and Implementation for Novice Researchers\\n                  ', '\\n                  The Investment behavior and performance of various investor\\n                  ', '\\n                  E-commerce: The role of familiarity and trust\\n                  ', '\\n                  A Software Interface for Supporting the Application of Data Science to Optimisation\\n                  ', '\\n                  Technology Probes: Inspiring Design for and with Families\\n                  ', '\\n                  TEACHING PRECURSORS TO DATA SCIENCE IN INTRODUCTORY AND SECOND COURSES IN STATISTICS\\n                  ', '\\nData Science of the People, for the People, by the People: A Viewpoint on an Emerging Dichotomy\\n                  ', '\\nData Science Study Protocols for Investigating Lifetime and Degradation of PV Technology Systems\\n                  ', '\\n                  Maps of random walks on complex networks reveal community structure\\n                  ', '\\n                  A Macroscope in the Redwoods\\n                  ', '\\n                  Thrust Area in Data Science-Big Data and Data Analytics\\n                  ', '\\n                  With their book XML and Web Technologies for Data Sciences with R, Deborah Nolan and\\n                  ', '\\nData Management and Transfer in High-Performance Computational Grid Environments\\n                  ', '\\n                  A new approach to decoding life: systems biology\\n                  ', '\\n                  Geometry for the selfish herd.\\n                  ', '\\n                  PERSPECTIVE Let&aposs Make Gender Diversity in Data Science a Priority Right from the Start\\n                  ', '\\nDataHub: Collaborative Data Science & Dataset Version Management at Scale\\n                  ', '\\n                  To be published in Data Science Journal, 2005 Digital Object Identifiers for scientific data\\n', '\\n                  OkCupid Data for Introductory Statistics and Data Science Courses\\n                  ', '\\n                  The Role of Income Aspirations in Individual Happiness\\n                  ', '\\n                  Predicting tie strength with social media\\n                  ', '\\n                  Intel “Big Data ” Science and Technology Center Vision and Execution Plan\\n                  ', '\\n                  Teaching Parallelism Without Programming: A Data Science Curriculum for Non-CS Students\\n                  ', '\\n                   How Computational Statistics Became the Backbone of Modern Data Science\\n', '\\n                  Efficient Search for Approximate Nearest Neighbor in High Dimensional Spaces\\n                  ', '\\n                  Model selection in ecology and evolution.\\n                  ', '\\n                  Local Ground:\\xa0 A\\xa0Toolkit\\xa0Supporting\\xa0Metarepresentational Competence in\\xa0Data\\xa0Science\\n', '\\n                  Visual Exploration of Formal Requirements for Data Science Demand Analysis\\n                  ', '\\n                  Earth Data, Science Writing, and Peer Review page 1 Earth Data, Science Writing, and Peer Review in a Large General Education Oceanography Class\\n                  ', '\\n                  An Online Algorithm for Segmenting Time Series\\n                  ', '\\n                  OUTLINE AND EXERCISES FOR A NOVEL INTRODUCTORY COURSE IN DATA SCIENCE AND VISUALIZATION\\n                  ', '\\n                   Computational Data Sciences for Actionable Insights on Climate Extremes and Uncertainty\\n                  ', '\\n                  The New Computational and Data Sciences Undergraduate Program at George Mason University 1 Data-Intensive Science: A New Vision for Science Education\\n                  ']\n"
          ],
          "name": "stdout"
        }
      ]
    },
    {
      "cell_type": "code",
      "metadata": {
        "id": "eoAtO8dNFraC"
      },
      "source": [
        "import re \n",
        "import string \n",
        "import nltk \n",
        "import spacy \n",
        "import pandas as pd \n",
        "import numpy as np \n",
        "import math \n",
        "from tqdm import tqdm \n",
        "\n",
        "from spacy.matcher import Matcher \n",
        "from spacy.tokens import Span \n",
        "from spacy import displacy \n",
        "\n",
        "pd.set_option('display.max_colwidth', 200)\n",
        "# load spaCy model\n",
        "nlp = spacy.load(\"en_core_web_sm\")"
      ],
      "execution_count": 99,
      "outputs": []
    },
    {
      "cell_type": "code",
      "metadata": {
        "id": "m6WGe8rnGUK-"
      },
      "source": [
        "# create a spaCy object \n",
        "for i in titles:\n",
        "  text=i\n",
        "  doc = nlp(text)\n",
        "  for tok in doc: \n",
        "    print(tok.text, \"-->\",tok.dep_,\"-->\", tok.pos_)\n",
        "  #define the pattern \n",
        "pattern = [{'POS':'PROPN'}, \n",
        "           {'LOWER': 'Algorithm'}, \n",
        "           ]\n",
        "\n",
        "# A token whose lowercase form matches such, e.g. “Such” or “SUCH”.\n",
        "# A token whose is_punct flag is set to True, i.e. any punctuation.\n",
        "\n",
        "\n",
        "# # Matcher class object \n",
        "# matcher = Matcher(nlp.vocab) \n",
        "# matcher.add(\"matching_1\", None, pattern) \n",
        "# matches = matcher(doc) \n",
        "# span = doc[matches[0][1]:matches[0][2]] \n",
        "# print(span.text)"
      ],
      "execution_count": null,
      "outputs": []
    },
    {
      "cell_type": "code",
      "metadata": {
        "id": "hGTrWJPzIVcx",
        "outputId": "13470f9b-a799-4922-ff2d-65c90b941423",
        "colab": {
          "base_uri": "https://localhost:8080/",
          "height": 55
        }
      },
      "source": [
        "#publications doing some kind of analysis \n",
        "Analysis=[]\n",
        "for i in titles:\n",
        "  x = re.search('Analysis', i)\n",
        "  if x:\n",
        "    Analysis.append(i)\n",
        "print(Analysis)"
      ],
      "execution_count": 120,
      "outputs": [
        {
          "output_type": "stream",
          "text": [
            "['\\n                  Bayesian Data Analysis\\n                  ', '\\n                  Statistical Analysis of a Telephone Call Center: A Queueing Science Perspective\\n                  ', '\\n                  Visual Exploration of Formal Requirements for Data Science Demand Analysis\\n                  ']\n"
          ],
          "name": "stdout"
        }
      ]
    },
    {
      "cell_type": "markdown",
      "metadata": {
        "id": "Dq_7VGmrsum4"
      },
      "source": [
        "## **2. Domain-specific information extraction (10 points)**\n",
        "\n",
        "For the legal case used in the data cleaning exercise: [01-05-1 Adams v Tanner.txt](https://github.com/unt-iialab/INFO5731_FALL2020/blob/master/In_class_exercise/01-05-1%20%20Adams%20v%20Tanner.txt), use [legalNLP](https://lexpredict-lexnlp.readthedocs.io/en/latest/modules/extract/extract.html#nlp-based-extraction-methods) to extract the following inforation from the text (if the information is not exist, just print None):\n",
        "\n",
        "(1) acts, e.g., “section 1 of the Advancing Hope Act, 1986”\n",
        "\n",
        "(2) amounts, e.g., “ten pounds” or “5.8 megawatts”\n",
        "\n",
        "(3) citations, e.g., “10 U.S. 100” or “1998 S. Ct. 1”\n",
        "\n",
        "(4) companies, e.g., “Lexpredict LLC”\n",
        "\n",
        "(5) conditions, e.g., “subject to …” or “unless and until …”\n",
        "\n",
        "(6) constraints, e.g., “no more than”\n",
        "\n",
        "(7) copyright, e.g., “(C) Copyright 2000 Acme”\n",
        "\n",
        "(8) courts, e.g., “Supreme Court of New York”\n",
        "\n",
        "(9) CUSIP, e.g., “392690QT3”\n",
        "\n",
        "(10) dates, e.g., “June 1, 2017” or “2018-01-01”\n",
        "\n",
        "(11) definitions, e.g., “Term shall mean …”\n",
        "\n",
        "(12) distances, e.g., “fifteen miles”\n",
        "\n",
        "(13) durations, e.g., “ten years” or “thirty days”\n",
        "\n",
        "(14) geographic and geopolitical entities, e.g., “New York” or “Norway”\n",
        "\n",
        "(15) money and currency usages, e.g., “$5” or “10 Euro”\n",
        "\n",
        "(16) percents and rates, e.g., “10%” or “50 bps”\n",
        "\n",
        "(17) PII, e.g., “212-212-2121” or “999-999-9999”\n",
        "\n",
        "(18) ratios, e.g.,” 3:1” or “four to three”\n",
        "\n",
        "(19) regulations, e.g., “32 CFR 170”\n",
        "\n",
        "(20) trademarks, e.g., “MyApp (TM)”\n",
        "\n",
        "(21) URLs, e.g., “http://acme.com/”\n",
        "\n",
        "(22) addresses, e.g., “1999 Mount Read Blvd, Rochester, NY, USA, 14615”\n",
        "\n",
        "(23) persons, e.g., “John Doe"
      ]
    },
    {
      "cell_type": "code",
      "metadata": {
        "id": "vzdJj5uwODoA",
        "outputId": "3e40ea85-cdc6-4d56-ab37-0fa3f749923c",
        "colab": {
          "base_uri": "https://localhost:8080/",
          "height": 481
        }
      },
      "source": [
        "import nltk\n",
        "nltk.download('averaged_perceptron_tagger')\n",
        "nltk.download('wordnet')\n",
        "import lexnlp.extract.en\n",
        "import lexnlp.extract.en.citations\n",
        "import lexnlp.extract.en.entities.nltk_re\n",
        "import lexnlp.extract.en.conditions\n",
        "import lexnlp.extract.en.constraints\n",
        "import lexnlp.extract.en.copyright\n",
        "import lexnlp.extract.en.courts\n",
        "import lexnlp.extract.en.cusip\n",
        "import lexnlp.extract.en.dates\n",
        "import lexnlp.extract.en.definitions\n",
        "import lexnlp.extract.en.distances\n",
        "import lexnlp.extract.en.durations\n",
        "import lexnlp.extract.en.geoentities\n",
        "import lexnlp.extract.en.money\n",
        "import lexnlp.extract.en.percents\n",
        "import lexnlp.extract.en.pii\n",
        "import lexnlp.extract.en.ratios\n",
        "import lexnlp.extract.en.regulations\n",
        "import lexnlp.extract.en.trademarks\n",
        "import lexnlp.extract.en.urls\n",
        "#court_config_data = [entity_config(0, \"Eastern District of Virginia\", 0, [\"E.D. Va.\"]),entity_config(1, \"Western District of Virginia\", 0, [\"W.D. Va.\"])]\n",
        "\n",
        "text= (open(\"/content/01-05-1 Adams v Tanner.txt\", \"r\")).read()\n",
        "print(\"acts:  \",list(lexnlp.extract.en.acts.get_acts(text)))\n",
        "print(\"amounts: \",list(lexnlp.extract.en.amounts.get_amounts(text)))\n",
        "print(\"citations: \", list(lexnlp.extract.en.citations.get_citations(text)))\n",
        "print(\"companies: \",list(lexnlp.extract.en.entities.nltk_re.get_companies(text)))\n",
        "print(\"conditions:\",list(lexnlp.extract.en.conditions.get_conditions(text)))\n",
        "print(\"constraints:\",list(lexnlp.extract.en.constraints.get_constraints(text)))\n",
        "print(\"copyright:\",list(lexnlp.extract.en.copyright.get_copyright(text)))\n",
        "print(\"dates:\",list(lexnlp.extract.en.dates.get_dates(text)))\n",
        "print(\"distances\",list(lexnlp.extract.en.distances.get_distances(text)))\n",
        "print(\"durations:\",list(lexnlp.extract.en.durations.get_durations(text)))\n",
        "print(\"cusip:\",list(lexnlp.extract.en.cusip.get_cusip(text)))\n",
        "print(\"definations\",list(lexnlp.extract.en.definitions.get_definitions(text)))\n",
        "print(\"money\",list(lexnlp.extract.en.money.get_money(text)))\n",
        "print(\"percents\",list(lexnlp.extract.en.percents.get_percents(text)))\n",
        "print(\"pii\",list(lexnlp.extract.en.pii.get_pii(text)))\n",
        "print(\"ratios\",list(lexnlp.extract.en.ratios.get_ratios(text)))\n",
        "print(\"regualtons\",list(lexnlp.extract.en.regulations.get_regulations(text)))\n",
        "print(\"trademarks:\",list(lexnlp.extract.en.trademarks.get_trademarks(text)))\n",
        "print(\"urls\",list(lexnlp.extract.en.urls.get_urls(text)))\n",
        "\n"
      ],
      "execution_count": 92,
      "outputs": [
        {
          "output_type": "stream",
          "text": [
            "[nltk_data] Downloading package averaged_perceptron_tagger to\n",
            "[nltk_data]     /root/nltk_data...\n",
            "[nltk_data]   Package averaged_perceptron_tagger is already up-to-\n",
            "[nltk_data]       date!\n",
            "[nltk_data] Downloading package wordnet to /root/nltk_data...\n",
            "[nltk_data]   Package wordnet is already up-to-date!\n"
          ],
          "name": "stderr"
        },
        {
          "output_type": "stream",
          "text": [
            "acts:   []\n",
            "amounts:  [5.0, 740.0, 1843.0, 2.0, 1.0, 4.0, 2.0, 1821.0, 5.0, 1.0, 1840.0, 3777, 80.0, 100.0, 30, 1839.0, 741.0, 22, 1840.0, 14000, 120, 1, 1840.0, 3, 4, 1, 1.0, 1840.0, 2.0, 1.0, 361.0, 1.0, 307.0, 6.0, 604.0, 1.0, 2.0, 418.0, 422.0, 7.0, 34.0, 41.0, 167.0, 742.0, 3.0, 112.0, 207.0, 3.0, 338.0, 424.0, 5.0, 26.0, 13.0, 235.0, 8.0, 693.0, 4.0, 1821.0, 167.0, 2.0, 2.0, 216.0, 3.0, 66.0, 4.0, 130.0, 29.0, 2.0, 241.0, 2.0, 332.0, 2.0, 422.0, 9.0, 112.0, 743.0, 9.0, 39.0, 14000, 1840.0, 744.0, 5.0, 182.0, 3.0, 368.0, 1.0, 397.0, 6.0, 604.0, 1, 1821.0, 167.0, 745.0, 4.0, 746.0, 4.0, 210.0, 46.0, 747.0, 5.0, 5.0, 740.0, 1843.0, 284.0, 2019.0, 9.0, 1.0, 55.0, 266.0, 271.0, 1876.0, 2.0, 47.0, 362.0, 376.0, 1872.0, 3.0, 45.0, 329.0, 334.0, 1871.0, 4.0, 31.0, 526.0, 527.0, 1858.0, 5.0, 21.0, 333.0, 335.0, 1852.0, 6.0, 8.0, 145.0, 147.0, 1857.0, 7.0, 65.0, 256.0, 258.0, 3, 1880.0, 8.0, 4.0, 913.0, 914.0, 1887.0, 9.0, 103.0, 464.0, 1936.0, 3.0, 1.0, 9.0, 39.0, 1828.0, 2.0, 2.0, 5.0, 182.0, 1837.0, 2.0, 3.0, 9.0, 108.0, 1812.0, 6, 1, 2.0]\n",
            "citations:  [(5, 'Ala.', 'Alabama Reports', 740, None, None, None), (5, 'Ala.', 'Alabama Reports', 740, '1843', None, None), (55, 'Ala.', 'Alabama Reports', 266, '271', None, None), (47, 'Ala.', 'Alabama Reports', 362, '376', None, None), (45, 'Ala.', 'Alabama Reports', 329, '334', None, None), (31, 'Ala.', 'Alabama Reports', 526, '527', None, None), (21, 'Ala.', 'Alabama Reports', 333, '335', None, None), (8, 'Cal.', 'California Reports', 145, '147', None, None), (65, 'Ala.', 'Alabama Reports', 256, '258', None, None), (4, 'S.W.', 'South Western Reporter', 913, '914', None, None), (103, 'A.L.R.', 'American Law Reports', 464, None, None, None), (9, 'Cow.', \"Cowen's Reports\", 39, None, None, None), (5, 'Port.', 'Alabama Reports, Porter', 182, None, None, None), (9, 'Johns.', \"Johnson's Reports\", 108, None, None, None)]\n",
            "companies:  [Lehman, Durr Co, (17983, 18001)]\n",
            "conditions: [('until', '[2]\\nCreditors’ Remedies\\nLien and Priority\\nUnder St.1821, prohibiting a levy on a crop', ''), ('until', 'on a growing crop, nor does such lien attach', ''), ('if', 'It was proved by the claimants, by the production of a written contract, that Harrison, on the twenty-second of May, 1840, in consideration that the claimants were involved, as indorsers for Burton & Harrison of Sumter county, and were then exposed to an execution, amounting to upwards of fourteen thousand dollars, bargained and sold to the claimants all his growing crop of cotton &c., consisting of one hundred and twenty acres, &c. Allen Harrison promised and obliged himself to give up his crop to the use of the claimants at any time to save them from suffering as his indorsers;', ''), ('when', 'The claimants came from Tennessee, (where they resided) about the first of September, 1840, bringing with them three or four white laborers, and took possession of the crop and slaves, and with the latter, and white laborers, gathered the cotton, prepared it for market, and', ''), ('if', 'The court charged the jury, that the plaintiff had no lien by virtue of his judgment, and execution on the growing crop; that Harrison had a right to convey it, without being in any manner restrained by them; that the writing adduced, was a sale of the crop, but', ''), ('when', 'it was not, and the lien of the fieri facias would have attached upon it,', ''), ('if', 'gathered, yet', ''), ('not subject to', 'the claimants obtained possession on the first of September, and controlled the gathering of the crop, then no lien attached, and it was', ''), ('until', 'Rep, 693;] and', ''), ('until', '167,] which declares it to be lawful to levy an execution on a planted crop,', ''), ('if', 'It is admitted that the contract between the defendant in execution, and the claimants, was in good faith,', ''), ('when', 'The defendant in execution might at any time have divested the interest which the contract vested in the claimants, by discharging their liability as his indorsers, or a judgment creditor might have satisfied the lien, and', ''), ('unless', 'We will then consider the writing under which the claimants assert a right, as a mortgage with a power to take possession any time during the year,', ''), ('if', 'Conceding the truth of the facts stated in the bill of exceptions, and we think it will not follow, that the possession of the claimants is a nullity, and that the case must be considered as', ''), ('if', 'The contract contains an express undertaking to give up the crop at any time the claimants might require it for their indemnity, and', ''), ('if', 'they took possession of it in the absence of the grantor, (though without his consent,)', ''), ('if', 'he subsequently acquiesced in it, the inference would be,', ''), ('subject to', 'Mr. Dane, in remarking upon this point, says, “The American editor of Bacon’s Abridgment, says, ‘Wheat growing in the ground is a chattel, and', ''), ('until', 'The first section of the act of 1821, “To prevent sheriffs and other officers from levying executions in certain cases, enacts, that “It shall not be lawful for any sheriff or other officer, to levy a writ of fieri facias or other execution on the planted crop of a debtor, or person against whom an execution may issue,', ''), ('until', 'Now here is an express inhibition to levy an execution on a crop while it remains on, or in the ground, and', ''), ('until', 'If so, the act cited, will only have the effect of keeping the right to levy it in abeyance', ''), ('if', 'The lien and the right to levy are intimately connected, and', ''), ('until', 'That it was competent for the legislature to have made it unlawful to levy an execution on particular property,', ''), ('until', 'If the object was merely to suspend the sale,', ''), ('as soon as', 'The idea that the lien attached upon the planted crop', ''), ('until', 'the execution was delivered to the sheriff, though the right to levy it was postponed', ''), ('if', 'They do not refer to the lien,', ''), ('until', 'they did they would postpone it', ''), ('until', 'the crop was gathered; but it is the levy they relate to and postpone', ''), ('until', '**4 The right to levy an execution on a planted crop, then, being expressly taken away by the statute, the lien which is connected with and consequent upon that right, never attaches', ''), ('if', 'The circuit judge may have mistaken the law in supposing that the contract was a sale, but', ''), ('when', 'There is no assumption of any material fact in the charge; but the possession of the claimant, the time', ''), ('if', 'acquired, the gathering of the crop, &c., are all referred to the determination of the jury; who are instructed,', ''), ('until', '**4 The statute which presents the question before the court is, that “it shall not be lawful for any sheriff or other officer to levy a writ of fieei facias or other execution, on the planted crop of a debtor, or person against whom an execution may issue,', ''), ('subject to', 'The policy of the State, as indicated by these statutes, is undeniably that all the property of a debtor, real and personal, to which he has a legal title, shall be', ''), ('until', 'The mischief which the statute designed to remedy was, the sacrifice which would be necessarily made by the sale of an immature crop: the statute enables the debtor to retain it', ''), ('if', '**5', ''), ('until', 'The sheriff is forbidden to levy on a “planted crop”', ''), ('if', 'Now,', ''), ('until', 'This, I feel a thorough conviction, was not the intention of the legislature; but that it was to secure him from loss, by prohibiting a levy and sale of the crop,', ''), ('when', 'it was gathered,', ''), ('subject to', 'Growing crops as', ''), ('subject to', '464\\nGenerally, at common law, growing crops raised by annual planting, while still attached to the soil, are regarded as personal chattels,', ''), ('where', 'And', '')]\n",
            "constraints: [('after', 'on a growing crop, nor does such lien attach until', ''), ('after', '', ' and that alias and pluries fieri facias’, issued regularly up to the time levy was made; that the cotton levied on was growed on the plantation of harrison, and cultivated by the hands in his service.'), ('first of', 'the claimants came from tennessee, (where they resided) about the', ''), ('first of', 'the court charged the jury, that the plaintiff had no lien by virtue of his judgment, and execution on the growing crop; that harrison had a right to convey it, without being in any manner restrained by them; that the writing adduced, was a sale of the crop, but if it was not, and the lien of the fieri facias would have attached upon it, when gathered, yet if the claimants obtained possession on the', ''), ('after', 'it merely inhibits the levy, but the lien attaches, and a levy and sale may be made', ''), ('more than', 'taking this to be clear *744 law, and it will be seen, that the defendant in execution at the time of the levy had nothing', ''), ('before', 'it has been frequently mooted whether, at common law, corn, &c.,', ''), ('before', '**4 the statute which presents the question', ''), ('after', 'now, if the view taken by the majority of the court, is correct, the right secured to the plaintiff in execution, of levying on the crop', ''), ('before', 'tried', ''), ('before', 'tried', ''), ('before', 'tried', ''), ('before', 'tried', ''), ('before', 'tried', ''), ('before', 'tried', '')]\n",
            "copyright: [('©', '2019', 'Thomson Reuters. No')]\n",
            "dates: [datetime.date(2020, 6, 1), datetime.date(1840, 11, 1), datetime.date(1839, 10, 1), datetime.date(1840, 9, 1), datetime.date(1840, 5, 1), datetime.date(1840, 5, 1), datetime.date(2020, 12, 1), datetime.date(2020, 12, 1), datetime.date(2020, 1, 1), datetime.date(2020, 1, 1), datetime.date(2020, 1, 1), datetime.date(2020, 3, 21), datetime.date(2020, 6, 1), datetime.date(2020, 7, 1), datetime.date(2020, 11, 1)]\n",
            "distances []\n",
            "durations: [('second', 20.0, 0.00023148148148148146), ('year', 6.0, 2190.0)]\n",
            "cusip: []\n",
            "definations []\n",
            "money [(100.0, 'USD'), (14000, 'USD'), (14000, 'USD')]\n",
            "percents []\n",
            "pii []\n",
            "ratios []\n",
            "regualtons []\n",
            "trademarks: []\n",
            "urls []\n"
          ],
          "name": "stdout"
        }
      ]
    }
  ]
}