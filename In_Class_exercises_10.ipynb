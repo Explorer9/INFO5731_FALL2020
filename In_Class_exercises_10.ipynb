{
  "nbformat": 4,
  "nbformat_minor": 0,
  "metadata": {
    "kernelspec": {
      "display_name": "Python 3",
      "language": "python",
      "name": "python3"
    },
    "language_info": {
      "codemirror_mode": {
        "name": "ipython",
        "version": 3
      },
      "file_extension": ".py",
      "mimetype": "text/x-python",
      "name": "python",
      "nbconvert_exporter": "python",
      "pygments_lexer": "ipython3",
      "version": "3.7.1"
    },
    "colab": {
      "name": "In_Class_exercises-10.ipynb",
      "provenance": [],
      "collapsed_sections": [],
      "toc_visible": true,
      "include_colab_link": true
    },
    "accelerator": "TPU"
  },
  "cells": [
    {
      "cell_type": "markdown",
      "metadata": {
        "id": "view-in-github",
        "colab_type": "text"
      },
      "source": [
        "<a href=\"https://colab.research.google.com/github/Explorer9/INFO5731_FALL2020/blob/master/In_Class_exercises_10.ipynb\" target=\"_parent\"><img src=\"https://colab.research.google.com/assets/colab-badge.svg\" alt=\"Open In Colab\"/></a>"
      ]
    },
    {
      "cell_type": "markdown",
      "metadata": {
        "id": "vF-4bChRtF5M"
      },
      "source": [
        "# In class exercise 10"
      ]
    },
    {
      "cell_type": "code",
      "metadata": {
        "colab": {
          "base_uri": "https://localhost:8080/"
        },
        "id": "mAhmvsg56xMB",
        "outputId": "c9c7934e-7a87-4167-aad4-0b8e91d692a4"
      },
      "source": [
        "from google.colab import drive\n",
        "drive.mount('/content/drive')"
      ],
      "execution_count": null,
      "outputs": [
        {
          "output_type": "stream",
          "text": [
            "Mounted at /content/drive\n"
          ],
          "name": "stdout"
        }
      ]
    },
    {
      "cell_type": "markdown",
      "metadata": {
        "id": "oaDkLC-etF5M"
      },
      "source": [
        "The purpose of the exercise is to practice different machine learning algorithms for text clustering\n",
        "Please downlad the dataset by using the following link.  https://www.kaggle.com/PromptCloudHQ/amazon-reviews-unlocked-mobile-phones\n",
        "(You can also use different text data which you want)\n",
        "\n",
        "Apply the listed clustering methods to the dataset:\n",
        "\n",
        "K means, \n",
        "DBSCAN,\n",
        "Hierarchical clustering. \n",
        "\n",
        "You can refer to of the codes from  the follwing link below. \n",
        "https://www.kaggle.com/karthik3890/text-clustering \n",
        "    "
      ]
    },
    {
      "cell_type": "code",
      "metadata": {
        "colab": {
          "base_uri": "https://localhost:8080/"
        },
        "id": "xqSr47z4tF5M",
        "outputId": "3cbc466a-be45-4304-9b20-22adf36254b1"
      },
      "source": [
        "#Write your code here.\n",
        "import pandas as pd\n",
        "import gensim\n",
        "df=pd.read_csv(\"/content/drive/MyDrive/Amazon_Unlocked_Mobile.csv\")\n",
        "import nltk\n",
        "nltk.download('punkt')\n",
        "from nltk.corpus import stopwords\n",
        "nltk.download('stopwords')\n",
        "from textblob import Word\n",
        "nltk.download('wordnet')\n",
        "from nltk.stem import PorterStemmer\n",
        "st = PorterStemmer()\n",
        "df = df[df['Reviews'].notnull()]\n",
        "stop = stopwords.words('english')\n",
        "df['after_punct_less'] = df['Reviews'].str.replace('[^\\w\\s].#','')\n",
        "df['after_rm_stopwords'] =df['after_punct_less'].apply(lambda x: \" \".join(x for x in x.split() if x not in stop))\n",
        "df['after_numerics']=df['after_rm_stopwords'].str.replace('[0-9]','')\n",
        "df['after_lowercasing'] =df['after_numerics'].apply(lambda x: \" \".join(x.lower() for x in x.split()))\n",
        "\n",
        "df['after_stemming']=df['after_lowercasing'].apply(lambda x: \" \".join([st.stem(word) for word in x.split()]))\n",
        "df['cleaned_text'] = df['after_stemming'].apply(lambda x: \" \".join([Word(word).lemmatize() for word in x.split()]))\n"
      ],
      "execution_count": 64,
      "outputs": [
        {
          "output_type": "stream",
          "text": [
            "[nltk_data] Downloading package punkt to /root/nltk_data...\n",
            "[nltk_data]   Package punkt is already up-to-date!\n",
            "[nltk_data] Downloading package stopwords to /root/nltk_data...\n",
            "[nltk_data]   Package stopwords is already up-to-date!\n",
            "[nltk_data] Downloading package wordnet to /root/nltk_data...\n",
            "[nltk_data]   Package wordnet is already up-to-date!\n"
          ],
          "name": "stdout"
        }
      ]
    },
    {
      "cell_type": "code",
      "metadata": {
        "colab": {
          "base_uri": "https://localhost:8080/"
        },
        "id": "j8HRJAHVN8OD",
        "outputId": "77924dbd-3290-449c-ca7e-6b383b25dc0b"
      },
      "source": [
        "df['cleaned_text'].head()"
      ],
      "execution_count": 4,
      "outputs": [
        {
          "output_type": "execute_result",
          "data": {
            "text/plain": [
              "0    i feel lucki found use (phone u & use hard all...\n",
              "1    nice phone, nice grade pantach revue. veri cle...\n",
              "2                                            veri plea\n",
              "3      it work good goe slow sometim good phone i love\n",
              "4    great phone replac lost phone. the thing volum...\n",
              "Name: cleaned_text, dtype: object"
            ]
          },
          "metadata": {
            "tags": []
          },
          "execution_count": 4
        }
      ]
    },
    {
      "cell_type": "code",
      "metadata": {
        "id": "CQ-qO8bKJrAb"
      },
      "source": [
        "df_1=(df.sample(n=4000)).reset_index() #10% random sample of the dataset "
      ],
      "execution_count": 7,
      "outputs": []
    },
    {
      "cell_type": "code",
      "metadata": {
        "colab": {
          "base_uri": "https://localhost:8080/"
        },
        "id": "_nXEcU__7LpP",
        "outputId": "60b9a997-befc-4ebd-b802-fe807f5ec760"
      },
      "source": [
        "from sklearn.feature_extraction.text import TfidfVectorizer\n",
        "tfidf_vect = TfidfVectorizer()\n",
        "tfidf = tfidf_vect.fit_transform(df_1['cleaned_text'].values)\n",
        "tfidf.shape"
      ],
      "execution_count": 9,
      "outputs": [
        {
          "output_type": "execute_result",
          "data": {
            "text/plain": [
              "(4000, 7143)"
            ]
          },
          "metadata": {
            "tags": []
          },
          "execution_count": 9
        }
      ]
    },
    {
      "cell_type": "markdown",
      "metadata": {
        "id": "3Vd5KvqrFFmG"
      },
      "source": [
        "Kmeans clustering"
      ]
    },
    {
      "cell_type": "code",
      "metadata": {
        "colab": {
          "base_uri": "https://localhost:8080/"
        },
        "id": "SUXYVWjN7hVB",
        "outputId": "b15a18b0-f6ca-476a-d8ab-249018754a62"
      },
      "source": [
        "\n",
        "from sklearn.cluster import KMeans\n",
        "model_tf = KMeans(n_clusters = 5, n_jobs = -1,random_state=99)\n",
        "model_tf.fit(tfidf)"
      ],
      "execution_count": 12,
      "outputs": [
        {
          "output_type": "execute_result",
          "data": {
            "text/plain": [
              "KMeans(algorithm='auto', copy_x=True, init='k-means++', max_iter=300,\n",
              "       n_clusters=5, n_init=10, n_jobs=-1, precompute_distances='auto',\n",
              "       random_state=99, tol=0.0001, verbose=0)"
            ]
          },
          "metadata": {
            "tags": []
          },
          "execution_count": 12
        }
      ]
    },
    {
      "cell_type": "code",
      "metadata": {
        "id": "db1_If137lTd"
      },
      "source": [
        "labels_tf = model_tf.labels_\n",
        "cluster_center_tf=model_tf.cluster_centers_"
      ],
      "execution_count": 13,
      "outputs": []
    },
    {
      "cell_type": "code",
      "metadata": {
        "colab": {
          "base_uri": "https://localhost:8080/",
          "height": 720
        },
        "id": "A9oMOxWbLwz_",
        "outputId": "2767d08f-a921-43ef-85b6-004bf8ad5173"
      },
      "source": [
        "# to understand what kind of words generated as columns by BOW\n",
        "terms1 = tfidf_vect.get_feature_names()\n",
        "terms1[1:5]\n",
        "df1 = df_1\n",
        "df1['Tfidf Clus Label'] = model_tf.labels_\n",
        "df1.head(5)"
      ],
      "execution_count": 20,
      "outputs": [
        {
          "output_type": "execute_result",
          "data": {
            "text/html": [
              "<div>\n",
              "<style scoped>\n",
              "    .dataframe tbody tr th:only-of-type {\n",
              "        vertical-align: middle;\n",
              "    }\n",
              "\n",
              "    .dataframe tbody tr th {\n",
              "        vertical-align: top;\n",
              "    }\n",
              "\n",
              "    .dataframe thead th {\n",
              "        text-align: right;\n",
              "    }\n",
              "</style>\n",
              "<table border=\"1\" class=\"dataframe\">\n",
              "  <thead>\n",
              "    <tr style=\"text-align: right;\">\n",
              "      <th></th>\n",
              "      <th>index</th>\n",
              "      <th>Product Name</th>\n",
              "      <th>Brand Name</th>\n",
              "      <th>Price</th>\n",
              "      <th>Rating</th>\n",
              "      <th>Reviews</th>\n",
              "      <th>Review Votes</th>\n",
              "      <th>after_punct_less</th>\n",
              "      <th>after_rm_stopwords</th>\n",
              "      <th>after_numerics</th>\n",
              "      <th>after_lowercasing</th>\n",
              "      <th>after_stemming</th>\n",
              "      <th>cleaned_text</th>\n",
              "      <th>Tfidf Clus Label</th>\n",
              "    </tr>\n",
              "  </thead>\n",
              "  <tbody>\n",
              "    <tr>\n",
              "      <th>0</th>\n",
              "      <td>73510</td>\n",
              "      <td>Apple iPhone 7 Unlocked Phone 256 GB - US Vers...</td>\n",
              "      <td>Apple</td>\n",
              "      <td>949.95</td>\n",
              "      <td>5</td>\n",
              "      <td>Good</td>\n",
              "      <td>0.0</td>\n",
              "      <td>Good</td>\n",
              "      <td>Good</td>\n",
              "      <td>Good</td>\n",
              "      <td>good</td>\n",
              "      <td>good</td>\n",
              "      <td>good</td>\n",
              "      <td>3</td>\n",
              "    </tr>\n",
              "    <tr>\n",
              "      <th>1</th>\n",
              "      <td>404117</td>\n",
              "      <td>Unlocked Quadband Dual Sim Android 4.0 Os A710...</td>\n",
              "      <td>OceanCross</td>\n",
              "      <td>39.99</td>\n",
              "      <td>1</td>\n",
              "      <td>I wish Amazon had a negative star option. I ne...</td>\n",
              "      <td>6.0</td>\n",
              "      <td>I wish Amazon had a negative star option. I ne...</td>\n",
              "      <td>I wish Amazon negative star option. I never li...</td>\n",
              "      <td>I wish Amazon negative star option. I never li...</td>\n",
              "      <td>i wish amazon negative star option. i never li...</td>\n",
              "      <td>i wish amazon neg star option. i never like gi...</td>\n",
              "      <td>i wish amazon neg star option. i never like gi...</td>\n",
              "      <td>0</td>\n",
              "    </tr>\n",
              "    <tr>\n",
              "      <th>2</th>\n",
              "      <td>124033</td>\n",
              "      <td>Blu LIFE 8 Unlocked (White)</td>\n",
              "      <td>BLU</td>\n",
              "      <td>169.99</td>\n",
              "      <td>5</td>\n",
              "      <td>I just received my BLU Life 8 this past Saturd...</td>\n",
              "      <td>3.0</td>\n",
              "      <td>I just received my BLU Life 8 this past Saturd...</td>\n",
              "      <td>I received BLU Life 8 past Saturday (January 3...</td>\n",
              "      <td>I received BLU Life  past Saturday (January , ...</td>\n",
              "      <td>i received blu life past saturday (january , )...</td>\n",
              "      <td>i receiv blu life past saturday (januari , ) f...</td>\n",
              "      <td>i receiv blu life past saturday (januari , ) f...</td>\n",
              "      <td>0</td>\n",
              "    </tr>\n",
              "    <tr>\n",
              "      <th>3</th>\n",
              "      <td>1647</td>\n",
              "      <td>Alcatel One Touch Fierce 2, 4GB, 5\" Screen, Un...</td>\n",
              "      <td>Alcatel</td>\n",
              "      <td>118.99</td>\n",
              "      <td>5</td>\n",
              "      <td>very good cellphone!</td>\n",
              "      <td>0.0</td>\n",
              "      <td>very good cellphone!</td>\n",
              "      <td>good cellphone!</td>\n",
              "      <td>good cellphone!</td>\n",
              "      <td>good cellphone!</td>\n",
              "      <td>good cellphone!</td>\n",
              "      <td>good cellphone!</td>\n",
              "      <td>3</td>\n",
              "    </tr>\n",
              "    <tr>\n",
              "      <th>4</th>\n",
              "      <td>373771</td>\n",
              "      <td>Samsung Galaxy S7 Edge SM-G935F 32GB Factory U...</td>\n",
              "      <td>NaN</td>\n",
              "      <td>591.00</td>\n",
              "      <td>5</td>\n",
              "      <td>Sleek phone. Looks great! A good size not too ...</td>\n",
              "      <td>0.0</td>\n",
              "      <td>Sleek phone. Looks great! A good size not too ...</td>\n",
              "      <td>Sleek phone. Looks great! A good size large. F...</td>\n",
              "      <td>Sleek phone. Looks great! A good size large. F...</td>\n",
              "      <td>sleek phone. looks great! a good size large. f...</td>\n",
              "      <td>sleek phone. look great! a good size large. fi...</td>\n",
              "      <td>sleek phone. look great! a good size large. fi...</td>\n",
              "      <td>0</td>\n",
              "    </tr>\n",
              "  </tbody>\n",
              "</table>\n",
              "</div>"
            ],
            "text/plain": [
              "    index  ... Tfidf Clus Label\n",
              "0   73510  ...                3\n",
              "1  404117  ...                0\n",
              "2  124033  ...                0\n",
              "3    1647  ...                3\n",
              "4  373771  ...                0\n",
              "\n",
              "[5 rows x 14 columns]"
            ]
          },
          "metadata": {
            "tags": []
          },
          "execution_count": 20
        }
      ]
    },
    {
      "cell_type": "code",
      "metadata": {
        "id": "Q4CFcGjDL0gy",
        "colab": {
          "base_uri": "https://localhost:8080/"
        },
        "outputId": "b6282b72-bc2e-4a5c-b80b-cdac6b7cb4bd"
      },
      "source": [
        "df1.groupby(['Tfidf Clus Label'])['cleaned_text'].count()"
      ],
      "execution_count": 22,
      "outputs": [
        {
          "output_type": "execute_result",
          "data": {
            "text/plain": [
              "Tfidf Clus Label\n",
              "0    3258\n",
              "1     185\n",
              "2     129\n",
              "3     193\n",
              "4     235\n",
              "Name: cleaned_text, dtype: int64"
            ]
          },
          "metadata": {
            "tags": []
          },
          "execution_count": 22
        }
      ]
    },
    {
      "cell_type": "code",
      "metadata": {
        "colab": {
          "base_uri": "https://localhost:8080/"
        },
        "id": "F8nkyGw1L4QD",
        "outputId": "854bca73-992e-4ec3-a300-14728ffd41a5"
      },
      "source": [
        "print(\"Top terms per cluster:\")\n",
        "order_centroids = model_tf.cluster_centers_.argsort()[:, ::-1]\n",
        "for i in range(1,5):\n",
        "    print(\"Cluster %d:\" % i, end='')\n",
        "    for ind in order_centroids[i, :5]:\n",
        "        print(' %s' % terms1[ind], end='')\n",
        "        print()"
      ],
      "execution_count": 29,
      "outputs": [
        {
          "output_type": "stream",
          "text": [
            "Top terms per cluster:\n",
            "Cluster 1: great\n",
            " phone\n",
            " work\n",
            " product\n",
            " price\n",
            "Cluster 2: excel\n",
            " product\n",
            " phone\n",
            " recommend\n",
            " thank\n",
            "Cluster 3: good\n",
            " veri\n",
            " price\n",
            " phone\n",
            " product\n",
            "Cluster 4: love\n",
            " perfect\n",
            " it\n",
            " phone\n",
            " great\n"
          ],
          "name": "stdout"
        }
      ]
    },
    {
      "cell_type": "markdown",
      "metadata": {
        "id": "qFgTn0FaFT9k"
      },
      "source": [
        "DBSCAN"
      ]
    },
    {
      "cell_type": "code",
      "metadata": {
        "id": "HeQf-VkbFXA1"
      },
      "source": [
        "from sklearn.cluster import DBSCAN\n",
        "import numpy as np\n",
        "import matplotlib.pyplot as plt\n",
        "import gensim"
      ],
      "execution_count": 62,
      "outputs": []
    },
    {
      "cell_type": "code",
      "metadata": {
        "id": "sCz1bpFoKwjd"
      },
      "source": [
        "i=0\n",
        "list_of_sent=[]\n",
        "for sent in df_1['cleaned_text'].values:\n",
        "    list_of_sent.append(sent.split())"
      ],
      "execution_count": 67,
      "outputs": []
    },
    {
      "cell_type": "code",
      "metadata": {
        "colab": {
          "base_uri": "https://localhost:8080/"
        },
        "id": "WTj_8vJDLAxd",
        "outputId": "5069599e-5910-42d2-f417-e9256f661025"
      },
      "source": [
        "w2v_model=gensim.models.Word2Vec(list_of_sent,size=100, workers=4)\n",
        "import numpy as np\n",
        "sent_vectors = []; # the avg-w2v for each sentence/review is stored in this train\n",
        "for sent in list_of_sent: # for each review/sentence\n",
        "    sent_vec = np.zeros(100) # as word vectors are of zero length\n",
        "    cnt_words =0; # num of words with a valid vector in the sentence/review\n",
        "    for word in sent: # for each word in a review/sentence\n",
        "        try:\n",
        "            vec = w2v_model.wv[word]\n",
        "            sent_vec += vec\n",
        "            cnt_words += 1\n",
        "        except:\n",
        "            pass\n",
        "    sent_vec /= cnt_words\n",
        "    sent_vectors.append(sent_vec)\n",
        "sent_vectors = np.array(sent_vectors)\n",
        "sent_vectors = np.nan_to_num(sent_vectors)\n",
        "sent_vectors.shape"
      ],
      "execution_count": 71,
      "outputs": [
        {
          "output_type": "stream",
          "text": [
            "/usr/local/lib/python3.6/dist-packages/ipykernel_launcher.py:14: RuntimeWarning: invalid value encountered in true_divide\n",
            "  \n"
          ],
          "name": "stderr"
        },
        {
          "output_type": "execute_result",
          "data": {
            "text/plain": [
              "(4000, 100)"
            ]
          },
          "metadata": {
            "tags": []
          },
          "execution_count": 71
        }
      ]
    },
    {
      "cell_type": "code",
      "metadata": {
        "id": "pPTfjlUwLdpb"
      },
      "source": [
        "# Computing 200th Nearest neighbour distance\n",
        "minPts = 2 * 100\n",
        "# Lower bound function copied from -> https://gist.github.com/m00nlight/0f9306b4d4e61ba0195f\n",
        "def lower_bound(nums, target): # This function return the number in the array just greater than or equal to itself.\n",
        "    l, r = 0, len(nums) - 1\n",
        "    while l <= r: # Binary searching.\n",
        "        mid = int(l + (r - l) / 2)\n",
        "        if nums[mid] >= target:\n",
        "            r = mid - 1\n",
        "        else:\n",
        "            l = mid + 1\n",
        "    return l\n",
        "\n",
        "def compute200thnearestneighbour(x, data): # Returns the distance of 200th nearest neighbour.\n",
        "    dists = []\n",
        "    for val in data:\n",
        "        dist = np.sum((x - val) **2 ) # computing distances.\n",
        "        if(len(dists) == 200 and dists[199] > dist): # If distance is larger than current largest distance found.\n",
        "            l = int(lower_bound(dists, dist)) # Using the lower bound function to get the right position.\n",
        "            if l < 200 and l >= 0 and dists[l] > dist:\n",
        "                dists[l] = dist\n",
        "        else:\n",
        "            dists.append(dist)\n",
        "            dists.sort()\n",
        "    \n",
        "    return dists[199] # Dist 199 contains the distance of 200th nearest neighbour."
      ],
      "execution_count": 72,
      "outputs": []
    },
    {
      "cell_type": "code",
      "metadata": {
        "id": "aYQnj98LJP3j"
      },
      "source": [
        "twohundrethneigh = []\n",
        "for val in sent_vectors[:1500]:\n",
        "    twohundrethneigh.append( compute200thnearestneighbour(val, sent_vectors[:1500]) )\n",
        "twohundrethneigh.sort()"
      ],
      "execution_count": 73,
      "outputs": []
    },
    {
      "cell_type": "code",
      "metadata": {
        "colab": {
          "base_uri": "https://localhost:8080/"
        },
        "id": "nlqZB-wUIeRu",
        "outputId": "da1a9a3b-1e76-4070-a28e-dcf18152deda"
      },
      "source": [
        "mob_vectors.shape"
      ],
      "execution_count": 50,
      "outputs": [
        {
          "output_type": "execute_result",
          "data": {
            "text/plain": [
              "(4000, 100)"
            ]
          },
          "metadata": {
            "tags": []
          },
          "execution_count": 50
        }
      ]
    },
    {
      "cell_type": "code",
      "metadata": {
        "colab": {
          "base_uri": "https://localhost:8080/",
          "height": 295
        },
        "id": "pWARcgvBImkK",
        "outputId": "e7257c91-7b07-49db-de5f-4663bda0a024"
      },
      "source": [
        "plt.figure(figsize=(14,4))\n",
        "plt.title(\"Elbow Method for Finding the right Eps hyperparameter\")\n",
        "plt.plot([x for x in range(len(twohundrethneigh))], twohundrethneigh)\n",
        "plt.xlabel(\"Number of points\")\n",
        "plt.ylabel(\"Distance of 200th Nearest Neighbour\")\n",
        "plt.show()\n"
      ],
      "execution_count": 74,
      "outputs": [
        {
          "output_type": "display_data",
          "data": {
            "image/png": "[encoded data removed]",
            "text/plain": [
              "<Figure size 1008x288 with 1 Axes>"
            ]
          },
          "metadata": {
            "tags": [],
            "needs_background": "light"
          }
        }
      ]
    },
    {
      "cell_type": "code",
      "metadata": {
        "colab": {
          "base_uri": "https://localhost:8080/",
          "height": 362
        },
        "id": "EcyLRRARMUeY",
        "outputId": "678121ea-36f1-4d4f-a336-397938fa3364"
      },
      "source": [
        "# Training DBSCAN :\n",
        "model = DBSCAN(eps = 5, min_samples = minPts, n_jobs=-1)\n",
        "model.fit(sent_vectors)\n",
        "df_1['AVG-W2V Clus Label'] = model.labels_\n",
        "df_1.head(2)"
      ],
      "execution_count": 76,
      "outputs": [
        {
          "output_type": "execute_result",
          "data": {
            "text/html": [
              "<div>\n",
              "<style scoped>\n",
              "    .dataframe tbody tr th:only-of-type {\n",
              "        vertical-align: middle;\n",
              "    }\n",
              "\n",
              "    .dataframe tbody tr th {\n",
              "        vertical-align: top;\n",
              "    }\n",
              "\n",
              "    .dataframe thead th {\n",
              "        text-align: right;\n",
              "    }\n",
              "</style>\n",
              "<table border=\"1\" class=\"dataframe\">\n",
              "  <thead>\n",
              "    <tr style=\"text-align: right;\">\n",
              "      <th></th>\n",
              "      <th>index</th>\n",
              "      <th>Product Name</th>\n",
              "      <th>Brand Name</th>\n",
              "      <th>Price</th>\n",
              "      <th>Rating</th>\n",
              "      <th>Reviews</th>\n",
              "      <th>Review Votes</th>\n",
              "      <th>after_punct_less</th>\n",
              "      <th>after_rm_stopwords</th>\n",
              "      <th>after_numerics</th>\n",
              "      <th>after_lowercasing</th>\n",
              "      <th>after_stemming</th>\n",
              "      <th>cleaned_text</th>\n",
              "      <th>Tfidf Clus Label</th>\n",
              "      <th>AVG-W2V Clus Label</th>\n",
              "    </tr>\n",
              "  </thead>\n",
              "  <tbody>\n",
              "    <tr>\n",
              "      <th>0</th>\n",
              "      <td>73510</td>\n",
              "      <td>Apple iPhone 7 Unlocked Phone 256 GB - US Vers...</td>\n",
              "      <td>Apple</td>\n",
              "      <td>949.95</td>\n",
              "      <td>5</td>\n",
              "      <td>Good</td>\n",
              "      <td>0.0</td>\n",
              "      <td>Good</td>\n",
              "      <td>Good</td>\n",
              "      <td>Good</td>\n",
              "      <td>good</td>\n",
              "      <td>good</td>\n",
              "      <td>good</td>\n",
              "      <td>3</td>\n",
              "      <td>0</td>\n",
              "    </tr>\n",
              "    <tr>\n",
              "      <th>1</th>\n",
              "      <td>404117</td>\n",
              "      <td>Unlocked Quadband Dual Sim Android 4.0 Os A710...</td>\n",
              "      <td>OceanCross</td>\n",
              "      <td>39.99</td>\n",
              "      <td>1</td>\n",
              "      <td>I wish Amazon had a negative star option. I ne...</td>\n",
              "      <td>6.0</td>\n",
              "      <td>I wish Amazon had a negative star option. I ne...</td>\n",
              "      <td>I wish Amazon negative star option. I never li...</td>\n",
              "      <td>I wish Amazon negative star option. I never li...</td>\n",
              "      <td>i wish amazon negative star option. i never li...</td>\n",
              "      <td>i wish amazon neg star option. i never like gi...</td>\n",
              "      <td>i wish amazon neg star option. i never like gi...</td>\n",
              "      <td>0</td>\n",
              "      <td>0</td>\n",
              "    </tr>\n",
              "  </tbody>\n",
              "</table>\n",
              "</div>"
            ],
            "text/plain": [
              "    index  ... AVG-W2V Clus Label\n",
              "0   73510  ...                  0\n",
              "1  404117  ...                  0\n",
              "\n",
              "[2 rows x 15 columns]"
            ]
          },
          "metadata": {
            "tags": []
          },
          "execution_count": 76
        }
      ]
    },
    {
      "cell_type": "markdown",
      "metadata": {
        "id": "_z1SoIyfNWH1"
      },
      "source": [
        "Hierarchial clustering"
      ]
    },
    {
      "cell_type": "code",
      "metadata": {
        "colab": {
          "base_uri": "https://localhost:8080/",
          "height": 289
        },
        "id": "NYvdMjCgNYCw",
        "outputId": "e8dc6211-2bc9-47d1-a894-675a59fc3d97"
      },
      "source": [
        "import scipy\n",
        "from scipy.cluster import hierarchy\n",
        "dendro=hierarchy.dendrogram(hierarchy.linkage(sent_vectors,method='ward'))\n",
        "plt.axhline(y=35)# cut at 30 to get 5 clusters"
      ],
      "execution_count": 77,
      "outputs": [
        {
          "output_type": "execute_result",
          "data": {
            "text/plain": [
              "<matplotlib.lines.Line2D at 0x7fc8d7d6b5c0>"
            ]
          },
          "metadata": {
            "tags": []
          },
          "execution_count": 77
        },
        {
          "output_type": "display_data",
          "data": {
            "image/png": "[encoded data removed]",
            "text/plain": [
              "<Figure size 432x288 with 1 Axes>"
            ]
          },
          "metadata": {
            "tags": [],
            "needs_background": "light"
          }
        }
      ]
    },
    {
      "cell_type": "code",
      "metadata": {
        "id": "0fdheDJBOLHR"
      },
      "source": [
        "from sklearn.cluster import AgglomerativeClustering\n",
        "\n",
        "cluster = AgglomerativeClustering(n_clusters=5, affinity='euclidean', linkage='ward')  #took n=5 from dendrogram curve \n",
        "Agg=cluster.fit_predict(sent_vectors)"
      ],
      "execution_count": 79,
      "outputs": []
    },
    {
      "cell_type": "code",
      "metadata": {
        "colab": {
          "base_uri": "https://localhost:8080/"
        },
        "id": "7gTLzM0YN2Jz",
        "outputId": "3b789cfe-1a1a-4728-aa04-8b860af3918c"
      },
      "source": [
        "df_1['AVG-W2V Clus Label'] = cluster.labels_\n",
        "df_1.head(2)\n",
        "df_1.groupby(['AVG-W2V Clus Label'])['cleaned_text'].count()"
      ],
      "execution_count": 82,
      "outputs": [
        {
          "output_type": "execute_result",
          "data": {
            "text/plain": [
              "AVG-W2V Clus Label\n",
              "0    1946\n",
              "1     431\n",
              "2     832\n",
              "3     117\n",
              "4     674\n",
              "Name: cleaned_text, dtype: int64"
            ]
          },
          "metadata": {
            "tags": []
          },
          "execution_count": 82
        }
      ]
    },
    {
      "cell_type": "code",
      "metadata": {
        "colab": {
          "base_uri": "https://localhost:8080/"
        },
        "id": "deUp-y9sO0Lh",
        "outputId": "8dd807ff-0fa1-4aca-beb1-e8f991e53885"
      },
      "source": [
        "# Reading a review which belong to each group.\n",
        "for i in range(5):\n",
        "    print(\"2 reviews of assigned to cluster \", i)\n",
        "    print(\"-\" * 70)\n",
        "    print(df_1.iloc[df_1.groupby(['AVG-W2V Clus Label']).groups[i][0]]['cleaned_text'])\n",
        "    print('\\n')\n",
        "    print(df_1.iloc[df_1.groupby(['AVG-W2V Clus Label']).groups[i][1]]['cleaned_text'])\n",
        "    print('\\n')\n",
        "    print(\"_\" * 70)"
      ],
      "execution_count": 84,
      "outputs": [
        {
          "output_type": "stream",
          "text": [
            "2 reviews of assigned to cluster  0\n",
            "----------------------------------------------------------------------\n",
            "i wish amazon neg star option. i never like give bad review product ridiculous. first phone could bare read sim card slots. i chang sim card sure someth wrong sim card. than mic went bad one hear me. not mention headphon work. the worst part i travel use product oversea thu miss deadline.\n",
            "\n",
            "\n",
            "i receiv blu life past saturday (januari , ) far i extrem satisfied. i previous use iphon screen burn i want dish dollar unlock iphon . i use android phone iphon transfer app phone previou dormant googl play account amazingli simpl fast. i want good android phone i actual miss android os, anyth wrong iphon o doesn’t come across smooth user friendli android system.mi blu life hous within week place order. thi phone ship android kit kat (just time lollipop released). that plenti quick enough me. so far good blu life . it instantli lock home wi-fi minut i rang (which mean i pull driveway), coupl video i watch work smoothly, text issue, problem get g signal, i use straight talk provider. insert micro sim card sd card effortless.i plea coupl small thing actual mean lot sinc i wit cell phone makers. the phone came screen saver installed, notic pull screen inform also top phone, also provid fairli transpar rubber case put phone protect back. like i said small thing make difference. the usual accessori also come phone, ear buds, usb cord, charger adapter, spare screen protector first need replacing, know alway wear out.i away work sinc get phone i cannot say batteri life certain. but i back regular routin i find out, sinc i use text email app lot (along annoy fb), take way mani phone calls, play music phone work gym. i use game app watch mani video batteri life may repres other get things.onli con point i press on/off button take phone sleep mode. i could sworn previou android phone i abl touch screen home button that. i updat batteri life issu i week put heavi use regular basis.\n",
            "\n",
            "\n",
            "______________________________________________________________________\n",
            "2 reviews of assigned to cluster  1\n",
            "----------------------------------------------------------------------\n",
            "receiv broken iphone.\n",
            "\n",
            "\n",
            "onli ac adapt correct socket requir\n",
            "\n",
            "\n",
            "______________________________________________________________________\n",
            "2 reviews of assigned to cluster  2\n",
            "----------------------------------------------------------------------\n",
            "good\n",
            "\n",
            "\n",
            "good cellphone!\n",
            "\n",
            "\n",
            "______________________________________________________________________\n",
            "2 reviews of assigned to cluster  3\n",
            "----------------------------------------------------------------------\n",
            "perfect!\n",
            "\n",
            "\n",
            "exelent\n",
            "\n",
            "\n",
            "______________________________________________________________________\n",
            "2 reviews of assigned to cluster  4\n",
            "----------------------------------------------------------------------\n",
            "while product top notch marvel technology, compani sold leav improvement.when ask i get servic item, i told 'googl search'.not quit answer expect i spent dollar item.good day!\n",
            "\n",
            "\n",
            "phone good valu -- ensur carrier proper band phone need phone work expect\n",
            "\n",
            "\n",
            "______________________________________________________________________\n"
          ],
          "name": "stdout"
        }
      ]
    },
    {
      "cell_type": "markdown",
      "metadata": {
        "id": "NvHbdwYNtF5M"
      },
      "source": [
        "In one paragraph, please compare K means, DBSCAN and Hierarchical clustering. "
      ]
    },
    {
      "cell_type": "code",
      "metadata": {
        "id": "kp6guxNwtF5M"
      },
      "source": [
        "#You can write you answer here.\n",
        "K-means clustering is widely used clustering and it works even for large datasets effeciently, but it as a generalised models and it works well if performed for more number of iterations, \n",
        "and K-means is easy to understand with just a cluster with cluster of elements, K-means clustering will not work well when there is MISSING data and if there are any outliers in the dataset, \n",
        "where DBSCAN works on desnity so it can handle outliers and missing data in the dataset, as it is based on density it may not work for sparse datasets where density is varies, \n",
        "Hierarchial clustering may not work as good as k-means but it works with any type of data and is used in a special purpose where we need to find the hierarchies in the clusters.\n",
        "As we can see in the above example of hierachial clustering, clustering is perfromed with the full text and each cluster represents the sentences either with positive sense or negative sense but not both.   \n"
      ],
      "execution_count": null,
      "outputs": []
    }
  ]
}